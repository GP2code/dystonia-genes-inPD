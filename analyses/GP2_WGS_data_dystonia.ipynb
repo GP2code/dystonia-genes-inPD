{
 "cells": [
  {
   "cell_type": "markdown",
   "id": "82347524-1627-45c7-bfec-89eddf576dcd",
   "metadata": {},
   "source": [
    "# Extract variant carriers and perform annotation using GP2 WGS data (Release 8)"
   ]
  },
  {
   "cell_type": "markdown",
   "id": "d0000526-e50f-4ced-9981-f2f7dcf73b27",
   "metadata": {},
   "source": [
    "## Set Up"
   ]
  },
  {
   "cell_type": "code",
   "execution_count": null,
   "id": "c9f3a398-9bfe-4932-8d3f-2a135f2973ac",
   "metadata": {
    "tags": []
   },
   "outputs": [],
   "source": [
    "## Use the os package to interact with the environment\n",
    "import os\n",
    "\n",
    "## Bring in Pandas for Dataframe functionality\n",
    "import pandas as pd\n",
    "\n",
    "import subprocess\n",
    "\n",
    "## Numpy for basics\n",
    "import numpy as np\n",
    "\n",
    "## Use pathlib for file path manipulation\n",
    "import pathlib\n",
    "\n",
    "## Use StringIO for working with file contents\n",
    "from io import StringIO\n",
    "\n",
    "## Enable IPython to display matplotlib graphs\n",
    "import matplotlib.pyplot as plt\n",
    "%matplotlib inline\n",
    "\n",
    "## Import the iPython HTML rendering for displaying links to Google Cloud Console\n",
    "from IPython.core.display import display, HTML\n",
    "\n",
    "## Import urllib modules for building URLs to Google Cloud Console\n",
    "import urllib.parse\n",
    "\n",
    "## BigQuery for querying data\n",
    "from google.cloud import bigquery\n",
    "\n",
    "## Import Sys\n",
    "import sys as sys"
   ]
  },
  {
   "cell_type": "markdown",
   "id": "11eec060-bcfc-485b-a09a-3a2869224e76",
   "metadata": {},
   "source": [
    "### Install plink"
   ]
  },
  {
   "cell_type": "code",
   "execution_count": null,
   "id": "28611c6d-1045-469a-8089-9f5914f1abd9",
   "metadata": {
    "scrolled": true,
    "tags": []
   },
   "outputs": [],
   "source": [
    "%%capture\n",
    "%%bash\n",
    "\n",
    "# Install plink 1.9\n",
    "mkdir -p ~/tools\n",
    "cd ~/tools/\n",
    "if test -e ~/tools/plink; then\n",
    "    echo \"Plink is already installed\"\n",
    "else\n",
    "    echo \"Plink is not installed\"\n",
    "    cd ~/tools/\n",
    "\n",
    "    wget http://s3.amazonaws.com/plink1-assets/plink_linux_x86_64_20190304.zip \n",
    "\n",
    "    unzip -o plink_linux_x86_64_20190304.zip\n",
    "    mv plink plink1.9\n",
    "fi"
   ]
  },
  {
   "cell_type": "code",
   "execution_count": null,
   "id": "f43dfbbe-ab00-4b8f-9d9e-5484de043be4",
   "metadata": {
    "tags": []
   },
   "outputs": [],
   "source": [
    "%%bash\n",
    "\n",
    "# chmod plink 1.9 to make sure you have permission to run the program\n",
    "chmod u+x ~/tools/plink1.9"
   ]
  },
  {
   "cell_type": "code",
   "execution_count": null,
   "id": "c3fb3c42-2d12-474b-8c75-c9aa04a16bf5",
   "metadata": {
    "tags": []
   },
   "outputs": [],
   "source": [
    "%%capture\n",
    "%%bash\n",
    "\n",
    "# Install plink 2.0\n",
    "cd ~/tools/\n",
    "if test -e ~/tools/plink2; then\n",
    "    echo \"Plink2 is already installed\"\n",
    "else\n",
    "    echo \"Plink2 is not installed\"\n",
    "    cd ~/tools/\n",
    "\n",
    "    wget http://s3.amazonaws.com/plink2-assets/plink2_linux_x86_64_latest.zip\n",
    "\n",
    "    unzip -o plink2_linux_x86_64_latest.zip\n",
    "fi"
   ]
  },
  {
   "cell_type": "code",
   "execution_count": null,
   "id": "5d2c85f5-6e56-41f5-b236-0646a6033097",
   "metadata": {
    "tags": []
   },
   "outputs": [],
   "source": [
    "%%bash\n",
    "\n",
    "# chmod plink 2 to make sure you have permission to run the program\n",
    "chmod u+x ~/tools/plink2"
   ]
  },
  {
   "cell_type": "markdown",
   "id": "d5e5f1ce-1ccd-455b-87ee-205dcbe263e2",
   "metadata": {},
   "source": [
    "### Install bcftools"
   ]
  },
  {
   "cell_type": "code",
   "execution_count": null,
   "id": "edb9d4cb-9e71-4930-aeb5-acac586b4a3d",
   "metadata": {
    "tags": []
   },
   "outputs": [],
   "source": [
    "%%capture\n",
    "%%bash \n",
    "\n",
    "#install bcftools\n",
    "cd /home/jupyter/tools/\n",
    "\n",
    "if test -e /home/jupyter/tools/bcftools; then\n",
    "    echo \"bcftools is already installed in /home/jupyter/tools/\"\n",
    "else\n",
    "    echo -e \"Downloading bcftools \\n    -------\"\n",
    "    git clone --recurse-submodules https://github.com/samtools/htslib.git\n",
    "    git clone https://github.com/samtools/bcftools.git\n",
    "    cd bcftools\n",
    "    make\n",
    "    echo -e \"\\n bcftools downloaded and unzipped in /home/jupyter/tools \\n \"\n",
    "\n",
    "fi"
   ]
  },
  {
   "cell_type": "code",
   "execution_count": null,
   "id": "e58b1c32-e3bd-4176-84c6-97dcd97c53df",
   "metadata": {
    "tags": []
   },
   "outputs": [],
   "source": [
    "%%bash\n",
    "\n",
    "# chmod bcftools to make sure you have permission to run the program\n",
    "chmod +x /home/jupyter/tools/bcftools"
   ]
  },
  {
   "cell_type": "markdown",
   "id": "88c2dc14-70ee-4a81-a52b-194521ad123a",
   "metadata": {},
   "source": [
    "### Alternative way to install bcftools (optional)"
   ]
  },
  {
   "cell_type": "code",
   "execution_count": null,
   "id": "d51679be-b5c1-4f0a-aa74-1dec9d218628",
   "metadata": {
    "tags": []
   },
   "outputs": [],
   "source": [
    "# install bcftools through mamba\n",
    "\n",
    "! mamba install -y -c bioconda bcftools"
   ]
  },
  {
   "cell_type": "markdown",
   "id": "bd601ef7-706f-4ebc-a93d-94bbc1d3f32a",
   "metadata": {},
   "source": [
    "### Install annovar"
   ]
  },
  {
   "cell_type": "code",
   "execution_count": null,
   "id": "89eb9b3b-81ec-4331-8477-41bce7edf795",
   "metadata": {
    "tags": []
   },
   "outputs": [],
   "source": [
    "%%capture\n",
    "%%bash\n",
    "\n",
    "# Install ANNOVAR: We are adding the download link after registration on the annovar website\n",
    "# https://www.openbioinformatics.org/annovar/annovar_download_form.php\n",
    "\n",
    "if test -e ~/tools/annovar ; then\n",
    "    echo \"annovar is already installed in /home/jupyter/tools/annovar\"\n",
    "else\n",
    "    echo \"annovar is not installed\"\n",
    "    cd ~/tools\n",
    "\n",
    "    wget http://www.openbioinformatics.org/annovar/download/0wgxR2rIVP/annovar.latest.tar.gz\n",
    "\n",
    "    tar xvfz annovar.latest.tar.gz\n",
    "\n",
    "fi"
   ]
  },
  {
   "cell_type": "code",
   "execution_count": null,
   "id": "fd70f1b4-d4fd-4e82-b62d-71c2d8f1774e",
   "metadata": {
    "tags": []
   },
   "outputs": [],
   "source": [
    "%%bash\n",
    "\n",
    "# Install ANNOVAR: Download resources for annotation\n",
    "\n",
    "cd ~/tools/annovar\n",
    "perl annotate_variation.pl -buildver hg38 -downdb -webfrom annovar refGene humandb/\n",
    "perl annotate_variation.pl -buildver hg38 -downdb -webfrom annovar clinvar_20240917 humandb/\n",
    "perl annotate_variation.pl -buildver hg38 -downdb -webfrom annovar dbnsfp47a humandb/\n",
    "perl annotate_variation.pl -buildver hg38 -downdb -webfrom annovar gnomad41_genome humandb/\n"
   ]
  },
  {
   "cell_type": "markdown",
   "id": "2555e17a-8526-4a94-a1b3-b78492eb2ace",
   "metadata": {
    "tags": []
   },
   "source": [
    "### Create working directory and set paths"
   ]
  },
  {
   "cell_type": "code",
   "execution_count": null,
   "id": "2e0ac9c2-1c03-4190-b0f6-a6ff25b056fb",
   "metadata": {
    "tags": []
   },
   "outputs": [],
   "source": [
    "# Create a folder on your workspace\n",
    "print(\"Making a working directory\")\n",
    "!mkdir -p /home/jupyter/workspace/ws_files/GP2_R8_dystonia\n",
    "!mkdir -p /home/jupyter/workspace/ws_files/GP2_R8_dystonia/bed_files\n",
    "!mkdir -p /home/jupyter/workspace/ws_files/GP2_R8_dystonia/temp_files\n",
    "!mkdir -p /home/jupyter/workspace/ws_files/GP2_R8_dystonia/results\n",
    "\n",
    "workdir=\"/home/jupyter/workspace/ws_files/GP2_R8_dystonia\""
   ]
  },
  {
   "cell_type": "markdown",
   "id": "0a379d83-db89-4489-ab2e-40947fd61955",
   "metadata": {},
   "source": [
    "### Create bed file"
   ]
  },
  {
   "cell_type": "markdown",
   "id": "24b14074-9b4b-4626-b400-4fd4a6ac7dae",
   "metadata": {},
   "source": [
    "#### Create a .txt file with the gene information (include all genes in which you want to extract variant carriers)\n",
    "Use the following format: CHR START END GENE\n",
    "\n",
    "CHR refers to the chromosome the gene is located on (e.g., chr1); START refers to the chromosomal position at which the gene starts; END refers to the chromosomal position at which the gene ends; GENE refers to the gene name (optional)\n",
    "\n",
    "Use the ensembl genome browser to obtain these information (https://useast.ensembl.org/index.html)"
   ]
  },
  {
   "cell_type": "code",
   "execution_count": null,
   "id": "73fadb68-fb76-4947-83a0-5e26f18cf4c4",
   "metadata": {
    "tags": []
   },
   "outputs": [],
   "source": [
    "# Reformat the .txt file into a .bed file\n",
    "input_file = \"/home/jupyter/workspace/ws_files/GP2_R8_dystonia/bed_files/chrom_pos.txt\"\n",
    "output_file = \"/home/jupyter/workspace/ws_files/GP2_R8_dystonia/bed_files/chrom_pos.bed\"\n",
    "\n",
    "with open(input_file, \"r\") as infile, open(output_file, \"w\") as outfile:\n",
    "    for line in infile:\n",
    "        cleaned_line = \"\\t\".join(line.strip().split())  # Replace spaces with actual tabs\n",
    "        outfile.write(cleaned_line + \"\\n\")\n",
    "\n",
    "print(\"Conversion complete! File saved as:\", output_file)\n"
   ]
  },
  {
   "cell_type": "code",
   "execution_count": null,
   "id": "02298420-2207-4be6-8cec-ee7a987e90f4",
   "metadata": {
    "tags": []
   },
   "outputs": [],
   "source": [
    "# Read in the bed file\n",
    "bed = pd.read_csv('/home/jupyter/workspace/ws_files/GP2_R8_dystonia/bed_files/chrom_pos.bed',sep='\\t',header=None,names=['chr','start_bp','stop_bp','gene'])\n",
    "bed"
   ]
  },
  {
   "cell_type": "code",
   "execution_count": null,
   "id": "f5db6764-f8a7-4b4d-a1f2-c2a3d16e6937",
   "metadata": {
    "tags": []
   },
   "outputs": [],
   "source": [
    "# fix chrX coding (Optional)\n",
    "bed['chr']=bed['chr'].str.replace('chrx','chrX')"
   ]
  },
  {
   "cell_type": "code",
   "execution_count": null,
   "id": "4618d200-1f7f-41f4-b76c-3b5c4cd41b92",
   "metadata": {},
   "outputs": [],
   "source": [
    "# Write out bed for each chr, so we just need to run the plink for the chrom needed \n",
    "# instead of every gene\n",
    "\n",
    "# create the directory where I store the bed files\n",
    "dir_bed = '/home/jupyter/workspace/ws_files/GP2_R8_dystonia/bed_files'\n",
    "os.makedirs(f'{dir_bed}', exist_ok=True)\n",
    "\n",
    "for chr, dat in bed.groupby('chr'):\n",
    "    dat=dat.sort_values('start_bp')\n",
    "    dat.to_csv(f'{dir_bed}/{chr}.bed',sep='\\t',header=False,index=False)"
   ]
  },
  {
   "cell_type": "markdown",
   "id": "d164f0b3-41db-4364-8f9f-a0a05146ae5d",
   "metadata": {},
   "source": [
    "## Extract regions of interest per ancestry and generate merged files with all variant carriers"
   ]
  },
  {
   "cell_type": "markdown",
   "id": "80c08964-8046-4d5d-acd8-b87576b67509",
   "metadata": {
    "tags": []
   },
   "source": [
    "### AAC"
   ]
  },
  {
   "cell_type": "code",
   "execution_count": null,
   "id": "6bfe4ba3-5570-4a9e-9f30-440b300b41f6",
   "metadata": {
    "tags": []
   },
   "outputs": [],
   "source": [
    "# find unique chromosomes in bed files\n",
    "unique_chr=bed['chr'].unique().tolist()\n",
    "unique_chr"
   ]
  },
  {
   "cell_type": "code",
   "execution_count": null,
   "id": "d0c8509c-e037-4130-80ca-f6fae94b7791",
   "metadata": {
    "scrolled": true,
    "tags": []
   },
   "outputs": [],
   "source": [
    "#define all the variables\n",
    "\n",
    "INPUT_PLINK_DIR=\"/home/jupyter/workspace/path/to/release8/wgs/deepvariant_joint_calling/plink\"\n",
    "PLINK2_PATH=\"/home/jupyter/tools/plink2\"\n",
    "dir_bed=\"/home/jupyter/workspace/ws_files/GP2_R8_dystonia/bed_files\"\n",
    "TEMP_DIR=\"/home/jupyter/workspace/ws_files/GP2_R8_dystonia/temp_files\"\n",
    "Ancestry=\"AAC\"\n",
    "\n",
    "# extract variants we need from each chromosome\n",
    "for chrom in unique_chr:    \n",
    "    # make the output directory if not exist\n",
    "    os.makedirs(f'{TEMP_DIR}/{Ancestry}', exist_ok=True)\n",
    "    \n",
    "    # Construct the command as a list \n",
    "    # keep only variants with maf <0.05 in the dataset to keep the files small\n",
    "    # since frequent variants are not we are interested in\n",
    "    cmd = [\n",
    "        PLINK2_PATH,\n",
    "        \"--pfile\", f\"{INPUT_PLINK_DIR}/{Ancestry}/{chrom}_{Ancestry}_release8\",\n",
    "        \"--mac\", \"1\",\n",
    "        \"--extract\", \"bed1\", f\"{dir_bed}/{chrom}.bed\",\n",
    "        \"--make-pgen\",\n",
    "        \"--out\", f\"{TEMP_DIR}/{Ancestry}/{chrom}\"\n",
    "    ]\n",
    "\n",
    "    subprocess.run(cmd, check=True)"
   ]
  },
  {
   "cell_type": "code",
   "execution_count": null,
   "id": "bf9da0b4-df37-4bce-a655-a33cb67de43e",
   "metadata": {
    "tags": []
   },
   "outputs": [],
   "source": [
    "%%bash\n",
    "\n",
    "TEMP_DIR=\"/home/jupyter/workspace/ws_files/GP2_R8_dystonia/temp_files\"\n",
    "Ancestry=\"AAC\"\n",
    "\n",
    "# merge all the chrs and convert the final file to vcf\n",
    "# for merging across pfiles https://www.cog-genomics.org/plink/2.0/data\n",
    "\n",
    "# list the files, sort by chromosome and remove .pgen from the filename\n",
    "ls ${TEMP_DIR}/${Ancestry}/*.pgen | sort -V  | sed 's/\\.pgen//g' > ${TEMP_DIR}/${Ancestry}_pfiles.list\n",
    "\n",
    "~/tools/plink2 --pmerge-list ${TEMP_DIR}/${Ancestry}_pfiles.list \\\n",
    "                           --recode vcf \\\n",
    "                           --out ${TEMP_DIR}/${Ancestry}"
   ]
  },
  {
   "cell_type": "code",
   "execution_count": null,
   "id": "89effcee-f923-4586-9df7-912fe9c39138",
   "metadata": {
    "tags": []
   },
   "outputs": [],
   "source": [
    "%%bash\n",
    "# bgzip the vcf\n",
    "TEMP_DIR=\"/home/jupyter/workspace/ws_files/GP2_R8_dystonia/temp_files\"\n",
    "Ancestry=\"AAC\"\n",
    "\n",
    "bgzip -c ${TEMP_DIR}/${Ancestry}.vcf > ${TEMP_DIR}/annovar_input_${Ancestry}.vcf.gz\n",
    "tabix -p vcf ${TEMP_DIR}/annovar_input_${Ancestry}.vcf.gz"
   ]
  },
  {
   "cell_type": "code",
   "execution_count": null,
   "id": "610546d4-b041-4cf8-8ee3-73f230aee042",
   "metadata": {
    "tags": []
   },
   "outputs": [],
   "source": [
    "%%bash\n",
    "\n",
    "workdir=\"/home/jupyter/workspace/ws_files/GP2_R8_dystonia\"\n",
    "mkdir -p ${workdir}/results\n",
    "\n",
    "# Run ANNOVAR annotation\n",
    "perl ~/tools/annovar/table_annovar.pl \\\n",
    "     ${workdir}/temp_files/annovar_input_AAC.vcf.gz \\\n",
    "    /home/jupyter/tools/annovar/humandb/ \\\n",
    "    -buildver hg38 \\\n",
    "    -out ${workdir}/results/wgs_final_AAC.annovar \\\n",
    "    -remove \\\n",
    "    -protocol refGene,gnomad41_genome,clinvar_20240917,dbnsfp47a \\\n",
    "    -operation g,f,f,f \\\n",
    "    -nastring . \\\n",
    "    -polish \\\n",
    "    -vcfinput"
   ]
  },
  {
   "cell_type": "code",
   "execution_count": null,
   "id": "bf2ae3db-8f20-4028-9309-a7e719784f21",
   "metadata": {
    "tags": []
   },
   "outputs": [],
   "source": [
    "%%bash \n",
    "workdir=\"/home/jupyter/workspace/ws_files/GP2_R8_dystonia\"\n",
    "\n",
    "head ${workdir}/results/wgs_final_AAC.annovar.hg38_multianno.txt"
   ]
  },
  {
   "cell_type": "code",
   "execution_count": null,
   "id": "dad33ebf-2211-4144-9751-0bbb8e4bf44a",
   "metadata": {
    "tags": []
   },
   "outputs": [],
   "source": [
    "workdir=\"/home/jupyter/workspace/ws_files/GP2_R8_dystonia\"\n",
    "# Show columns of multianno.txt output file\n",
    "anno=pd.read_csv(f'{workdir}/results/wgs_final_AAC.annovar.hg38_multianno.txt',sep='\\t',dtype=str)\n",
    "\n",
    "#find variant id col:\n",
    "anno['Otherinfo6']"
   ]
  },
  {
   "cell_type": "code",
   "execution_count": null,
   "id": "7ec66b3c-6f38-414a-ba40-d71c24342e97",
   "metadata": {
    "scrolled": true,
    "tags": []
   },
   "outputs": [],
   "source": [
    "anno.columns.tolist()"
   ]
  },
  {
   "cell_type": "code",
   "execution_count": null,
   "id": "87c1ec3b-bc51-4721-a8b3-1a972cdfad52",
   "metadata": {
    "scrolled": true,
    "tags": []
   },
   "outputs": [],
   "source": [
    "# select the cols to keep\n",
    "basic_cols= anno.columns.tolist()[0:10]\n",
    "additional_cols_to_keep=['Otherinfo6',\n",
    "                         'gnomad41_genome_fafmax_faf95_max',\n",
    "                         'CLNDN',\n",
    "                         'CLNSIG',\n",
    "                         'CADD_phred']\n",
    "            \n",
    "all_cols_to_keep= basic_cols+ additional_cols_to_keep\n",
    "all_cols_to_keep"
   ]
  },
  {
   "cell_type": "code",
   "execution_count": null,
   "id": "0f0d7cd5-cfb5-4b62-a23d-9a0685b86d8b",
   "metadata": {
    "tags": []
   },
   "outputs": [],
   "source": [
    "# subset the columns\n",
    "AAC_df=anno[all_cols_to_keep]\n",
    "\n",
    "#rename col\n",
    "AAC_df.rename({'Otherinfo6':'var_id'},axis=1,inplace=True)\n",
    "\n",
    "AAC_df"
   ]
  },
  {
   "cell_type": "code",
   "execution_count": null,
   "id": "474403f6-2317-40d3-8e49-feb1174e2068",
   "metadata": {
    "tags": []
   },
   "outputs": [],
   "source": [
    "# Count occurrences of each value\n",
    "value_counts = AAC_df[\"ExonicFunc.refGene\"].value_counts()\n",
    "\n",
    "# Display counts\n",
    "print(value_counts)"
   ]
  },
  {
   "cell_type": "markdown",
   "id": "b74e001f-52f9-4c59-a0a2-d17903209a9a",
   "metadata": {},
   "source": [
    "#### Filter variants"
   ]
  },
  {
   "cell_type": "code",
   "execution_count": null,
   "id": "8c4f9ee0-c4be-4dcb-b297-626ba91f5850",
   "metadata": {
    "tags": []
   },
   "outputs": [],
   "source": [
    "# Define the values you want to keep\n",
    "keep_values = [\"exonic\", \"splicing\", \"exonic;splicing\"]  # Add more if needed\n",
    "\n",
    "# Subset the dataframe\n",
    "filtered_AAC_df = AAC_df[AAC_df[\"Func.refGene\"].isin(keep_values)]\n",
    "\n",
    "# Display the filtered dataframe\n",
    "print (filtered_AAC_df.head())"
   ]
  },
  {
   "cell_type": "code",
   "execution_count": null,
   "id": "79679d9d-43e1-4566-824a-c3b1363f3d80",
   "metadata": {
    "tags": []
   },
   "outputs": [],
   "source": [
    "# Filter out synonymous SNVs\n",
    "filtered_AAC_df = filtered_AAC_df[filtered_AAC_df[\"ExonicFunc.refGene\"] != \"synonymous SNV\"]\n",
    "\n",
    "# Display the filtered dataframe\n",
    "print (filtered_AAC_df.head())"
   ]
  },
  {
   "cell_type": "code",
   "execution_count": null,
   "id": "c7097d22-b552-4a49-a0e5-3632cddda4be",
   "metadata": {
    "tags": []
   },
   "outputs": [],
   "source": [
    "# Save the filtered output\n",
    "filtered_AAC_df.to_csv(f\"{workdir}/results/filtered_multianno_AAC.tsv\", sep=\"\\t\", index=False)\n",
    "\n",
    "# write out var_id to extract from plink files\n",
    "filtered_AAC_df['var_id'].to_csv(f\"{workdir}/results/AAC_var_to_extract.txt\",index=False,header=False)"
   ]
  },
  {
   "cell_type": "markdown",
   "id": "c2bcf8d3-1f4f-468b-ae43-b3cca577b01c",
   "metadata": {
    "tags": []
   },
   "source": [
    "#### Extract carrier IDs and genotypes"
   ]
  },
  {
   "cell_type": "markdown",
   "id": "e27bdff8-aae6-4973-8365-04a947125efc",
   "metadata": {},
   "source": [
    "I would just extract the variants you are interested from the annovar annotation, and you can start from the plink files generated from the merge"
   ]
  },
  {
   "cell_type": "code",
   "execution_count": null,
   "id": "b241b2b7-c88a-4c18-aba3-567710e3b113",
   "metadata": {
    "tags": []
   },
   "outputs": [],
   "source": [
    "%%bash\n",
    "workdir=\"/home/jupyter/workspace/ws_files/GP2_R8_dystonia\"\n",
    "TEMP_DIR=\"/home/jupyter/workspace/ws_files/GP2_R8_dystonia/temp_files\"\n",
    "Ancestry=\"AAC\"\n",
    "\n",
    "~/tools/plink2 --pfile ${TEMP_DIR}/${Ancestry} \\\n",
    "               --extract ${workdir}/results/${Ancestry}_var_to_extract.txt \\\n",
    "               --recode A \\\n",
    "               --out ${TEMP_DIR}/${Ancestry}_geno             "
   ]
  },
  {
   "cell_type": "code",
   "execution_count": null,
   "id": "ffe72f79-637c-486c-9104-ae2bf5339c9f",
   "metadata": {
    "tags": []
   },
   "outputs": [],
   "source": [
    "TEMP_DIR=\"/home/jupyter/workspace/ws_files/GP2_R8_dystonia/temp_files\"\n",
    "Ancestry=\"AAC\"\n",
    "\n",
    "aac_var = pd.read_csv(f'{TEMP_DIR}/{Ancestry}_geno.raw', sep='\\s+')\n",
    "aac_var"
   ]
  },
  {
   "cell_type": "markdown",
   "id": "6f50abc8-a6ee-4eaa-86c7-3db63c969d37",
   "metadata": {},
   "source": [
    "From here you can run similar code for NBA to collect variant carriers "
   ]
  },
  {
   "cell_type": "code",
   "execution_count": null,
   "id": "bca983ed-8d4b-497b-aa9a-664562c29142",
   "metadata": {
    "tags": []
   },
   "outputs": [],
   "source": [
    "# transpose the dataframe to be row as variants and columns as samples\n",
    "var_col=aac_var.columns[6:len(aac_var)]\n",
    "d = aac_var.drop(columns=['FID','PAT','MAT','SEX','PHENOTYPE'])\n",
    "sample=aac_var[['IID','PHENOTYPE']]\n",
    "\n",
    "#Filtering rows where any value in var_col is ≤1 (either het or hom)\n",
    "t=d[(d[var_col]<=1).any(axis=1)].T\n",
    "t.columns = t.iloc[0]\n",
    "t=t.iloc[1:]\n",
    "t.reset_index(inplace=True)\n",
    "\n",
    "t"
   ]
  },
  {
   "cell_type": "code",
   "execution_count": null,
   "id": "f2607042-fa72-4883-877c-b04373acd955",
   "metadata": {
    "tags": []
   },
   "outputs": [],
   "source": [
    "#strip the last '_${ref_allele}', so we can keep the same variant id as in annotation \n",
    "t['index'] = t['index'].str.rsplit('_', n=1).str[0]\n",
    "t.rename({'index':'var_id'},axis=1,inplace=True)\n",
    "t"
   ]
  },
  {
   "cell_type": "code",
   "execution_count": null,
   "id": "54d9a220-8fd2-4039-9cae-8f0a9f8ec6bc",
   "metadata": {
    "tags": []
   },
   "outputs": [],
   "source": [
    "t['hom_carrier'] = t.apply(lambda row: row[row == 0].index.tolist() , axis=1)\n",
    "t['het_carrier'] = t.apply(lambda row: row[row == 1].index.tolist() , axis=1)  \n",
    "\n",
    "# store hom and het seperately to later explode the dataframe correctly\n",
    "hom = t[['var_id','hom_carrier']]\n",
    "het = t[['var_id','het_carrier']]"
   ]
  },
  {
   "cell_type": "code",
   "execution_count": null,
   "id": "a93bbdc6-61f4-4a65-9c4a-64fea4e5a715",
   "metadata": {
    "tags": []
   },
   "outputs": [],
   "source": [
    "# check hom as example what to expect\n",
    "hom"
   ]
  },
  {
   "cell_type": "code",
   "execution_count": null,
   "id": "ba0cdcbf-8fd2-453b-ac36-555527dbbfff",
   "metadata": {
    "tags": []
   },
   "outputs": [],
   "source": [
    "# split the carrier id from the list and each to a row\n",
    "hom = hom.explode('hom_carrier', ignore_index=True)\n",
    "\n",
    "hom"
   ]
  },
  {
   "cell_type": "code",
   "execution_count": null,
   "id": "4d16bdcc-d385-4596-9b19-974c5d80175f",
   "metadata": {
    "tags": []
   },
   "outputs": [],
   "source": [
    "# keep just the variants with carriers\n",
    "hom= hom.loc[~hom['hom_carrier'].isnull()]\n",
    "\n",
    "hom"
   ]
  },
  {
   "cell_type": "code",
   "execution_count": null,
   "id": "3ed57547-5c0b-4201-bd02-6467ef92a782",
   "metadata": {
    "tags": []
   },
   "outputs": [],
   "source": [
    "#merge with annotation\n",
    "out_hom = pd.merge(hom,filtered_AAC_df, on='var_id',how='left')\n",
    "out_hom['zygosity'] = 'hom'\n",
    "\n",
    "#rename col\n",
    "out_hom.rename({'hom_carrier':'carrier_id'},axis=1,inplace=True)\n",
    "\n",
    "out_hom"
   ]
  },
  {
   "cell_type": "code",
   "execution_count": null,
   "id": "d469f9e2-7b4d-49b4-8109-010605f9f224",
   "metadata": {
    "tags": []
   },
   "outputs": [],
   "source": [
    "#repeat the same for het\n",
    "het = het.explode('het_carrier', ignore_index=True)\n",
    "het= het.loc[~het['het_carrier'].isnull()]\n",
    "\n",
    "het"
   ]
  },
  {
   "cell_type": "code",
   "execution_count": null,
   "id": "09c7a26e-a472-48b9-a501-974cd1cdac76",
   "metadata": {
    "tags": []
   },
   "outputs": [],
   "source": [
    "#merge with annotation\n",
    "out_het = pd.merge(het,filtered_AAC_df, on='var_id',how='left')\n",
    "out_het['zygosity'] = 'het'\n",
    "\n",
    "#rename col\n",
    "out_het.rename({'het_carrier':'carrier_id'},axis=1,inplace=True)\n",
    "\n",
    "out_het"
   ]
  },
  {
   "cell_type": "code",
   "execution_count": null,
   "id": "2807ee22-0fe5-47be-9a1a-06e6585b8fb8",
   "metadata": {
    "tags": []
   },
   "outputs": [],
   "source": [
    "# check if there's any comphet by grouping gene and sample_id\n",
    "pd.concat(g for _, g in out_het.groupby([\"Gene.refGene\",\"carrier_id\"]) if len(g) > 1)"
   ]
  },
  {
   "cell_type": "code",
   "execution_count": null,
   "id": "f9f78a4a-9fd7-4279-81b8-c72ab4bc10ba",
   "metadata": {
    "tags": []
   },
   "outputs": [],
   "source": [
    "# write out comphet\n",
    "comphet = pd.concat(g for _, g in out_het.groupby([\"Gene.refGene\",\"carrier_id\"]) if len(g) > 1)\n",
    "comphet['zygosity'] = 'comphet'"
   ]
  },
  {
   "cell_type": "code",
   "execution_count": null,
   "id": "a3e41a52-7157-4486-9e01-14aa10c98842",
   "metadata": {
    "tags": []
   },
   "outputs": [],
   "source": [
    "# get everything and write out\n",
    "merged_df_AAC = pd.concat([out_het,out_hom,comphet],axis=0)\n",
    "\n",
    "# Save the dataset\n",
    "merged_df_AAC.to_csv(f\"{workdir}/results/merged_genotypes_dystonia_AAC.tsv\",sep='\\t',index=False)"
   ]
  },
  {
   "cell_type": "markdown",
   "id": "78ad6366-a314-4468-bd7e-bad5608d57b8",
   "metadata": {
    "tags": []
   },
   "source": [
    "### AFR"
   ]
  },
  {
   "cell_type": "code",
   "execution_count": null,
   "id": "9cd52efb-4d7d-4c6b-b3bb-3eeb6fd61643",
   "metadata": {
    "tags": []
   },
   "outputs": [],
   "source": [
    "# find unique chromosomes in bed files\n",
    "unique_chr=bed['chr'].unique().tolist()\n",
    "unique_chr"
   ]
  },
  {
   "cell_type": "code",
   "execution_count": null,
   "id": "7f3e6974-69bd-4328-886e-56a747eb2e58",
   "metadata": {
    "scrolled": true,
    "tags": []
   },
   "outputs": [],
   "source": [
    "#define all the variables\n",
    "\n",
    "INPUT_PLINK_DIR=\"/home/jupyter/workspace/path/to/release8/wgs/deepvariant_joint_calling/plink\"\n",
    "PLINK2_PATH=\"/home/jupyter/tools/plink2\"\n",
    "dir_bed=\"/home/jupyter/workspace/ws_files/GP2_R8_dystonia/bed_files\"\n",
    "TEMP_DIR=\"/home/jupyter/workspace/ws_files/GP2_R8_dystonia/temp_files\"\n",
    "Ancestry=\"AFR\"\n",
    "\n",
    "# extract variants we need from each chromosome\n",
    "for chrom in unique_chr:    \n",
    "    # make the output directory if not exist\n",
    "    os.makedirs(f'{TEMP_DIR}/{Ancestry}', exist_ok=True)\n",
    "    \n",
    "    # Construct the command as a list \n",
    "    # keep only variants with maf <0.05 in the dataset to keep the files small\n",
    "    # since frequent variants are not we are interested in\n",
    "    cmd = [\n",
    "        PLINK2_PATH,\n",
    "        \"--pfile\", f\"{INPUT_PLINK_DIR}/{Ancestry}/{chrom}_{Ancestry}_release8\",\n",
    "        \"--mac\", \"1\",\n",
    "        \"--extract\", \"bed1\", f\"{dir_bed}/{chrom}.bed\",\n",
    "        \"--make-pgen\",\n",
    "        \"--out\", f\"{TEMP_DIR}/{Ancestry}/{chrom}\"\n",
    "    ]\n",
    "\n",
    "    subprocess.run(cmd, check=True)"
   ]
  },
  {
   "cell_type": "code",
   "execution_count": null,
   "id": "4a7a949c-b960-4761-8f9f-914055c17e72",
   "metadata": {
    "tags": []
   },
   "outputs": [],
   "source": [
    "%%bash\n",
    "\n",
    "TEMP_DIR=\"/home/jupyter/workspace/ws_files/GP2_R8_dystonia/temp_files\"\n",
    "Ancestry=\"AFR\"\n",
    "\n",
    "# merge all the chrs and convert the final file to vcf\n",
    "# for merging across pfiles https://www.cog-genomics.org/plink/2.0/data\n",
    "\n",
    "# list the files, sort by chromosome and remove .pgen from the filename\n",
    "ls ${TEMP_DIR}/${Ancestry}/*.pgen | sort -V  | sed 's/\\.pgen//g' > ${TEMP_DIR}/${Ancestry}_pfiles.list\n",
    "\n",
    "~/tools/plink2 --pmerge-list ${TEMP_DIR}/${Ancestry}_pfiles.list \\\n",
    "                           --recode vcf \\\n",
    "                           --out ${TEMP_DIR}/${Ancestry}"
   ]
  },
  {
   "cell_type": "code",
   "execution_count": null,
   "id": "9f9fe9a4-83da-48bb-9765-67414a73fe93",
   "metadata": {
    "tags": []
   },
   "outputs": [],
   "source": [
    "%%bash\n",
    "# bgzip the vcf\n",
    "TEMP_DIR=\"/home/jupyter/workspace/ws_files/GP2_R8_dystonia/temp_files\"\n",
    "Ancestry=\"AFR\"\n",
    "\n",
    "bgzip -c ${TEMP_DIR}/${Ancestry}.vcf > ${TEMP_DIR}/annovar_input_${Ancestry}.vcf.gz\n",
    "tabix -p vcf ${TEMP_DIR}/annovar_input_${Ancestry}.vcf.gz"
   ]
  },
  {
   "cell_type": "code",
   "execution_count": null,
   "id": "8e246001-aeeb-4489-94ea-8df41384ba6b",
   "metadata": {
    "tags": []
   },
   "outputs": [],
   "source": [
    "%%bash\n",
    "\n",
    "workdir=\"/home/jupyter/workspace/ws_files/GP2_R8_dystonia\"\n",
    "mkdir -p ${workdir}/results\n",
    "\n",
    "# Run ANNOVAR annotation\n",
    "perl ~/tools/annovar/table_annovar.pl \\\n",
    "     ${workdir}/temp_files/annovar_input_AFR.vcf.gz \\\n",
    "    /home/jupyter/tools/annovar/humandb/ \\\n",
    "    -buildver hg38 \\\n",
    "    -out ${workdir}/results/wgs_final_AFR.annovar \\\n",
    "    -remove \\\n",
    "    -protocol refGene,gnomad41_genome,clinvar_20240917,dbnsfp47a \\\n",
    "    -operation g,f,f,f \\\n",
    "    -nastring . \\\n",
    "    -polish \\\n",
    "    -vcfinput"
   ]
  },
  {
   "cell_type": "code",
   "execution_count": null,
   "id": "42f2ff1d-112f-4a77-8e54-17bc604136c5",
   "metadata": {
    "tags": []
   },
   "outputs": [],
   "source": [
    "%%bash \n",
    "workdir=\"/home/jupyter/workspace/ws_files/GP2_R8_dystonia\"\n",
    "\n",
    "head ${workdir}/results/wgs_final_AFR.annovar.hg38_multianno.txt"
   ]
  },
  {
   "cell_type": "code",
   "execution_count": null,
   "id": "ad4e4451-72ce-4ef2-b53a-cdcce2714e11",
   "metadata": {
    "tags": []
   },
   "outputs": [],
   "source": [
    "workdir=\"/home/jupyter/workspace/ws_files/GP2_R8_dystonia\"\n",
    "# Show columns of multianno.txt output file\n",
    "anno=pd.read_csv(f'{workdir}/results/wgs_final_AFR.annovar.hg38_multianno.txt',sep='\\t',dtype=str)\n",
    "\n",
    "#find variant id col:\n",
    "anno['Otherinfo6']"
   ]
  },
  {
   "cell_type": "code",
   "execution_count": null,
   "id": "3fba7271-f29e-4fc3-a5ba-608629fcafd9",
   "metadata": {
    "scrolled": true,
    "tags": []
   },
   "outputs": [],
   "source": [
    "anno.columns.tolist()"
   ]
  },
  {
   "cell_type": "code",
   "execution_count": null,
   "id": "8ce161b5-4e1d-488a-9f36-3f3bcfc59aa8",
   "metadata": {
    "scrolled": true,
    "tags": []
   },
   "outputs": [],
   "source": [
    "# select the cols to keep\n",
    "basic_cols= anno.columns.tolist()[0:10]\n",
    "additional_cols_to_keep=['Otherinfo6',\n",
    "                         'gnomad41_genome_fafmax_faf95_max',\n",
    "                         'gnomad41_genome_AF_afr',\n",
    "                         'CLNDN',\n",
    "                         'CLNSIG',\n",
    "                         'CADD_phred']\n",
    "            \n",
    "all_cols_to_keep= basic_cols+ additional_cols_to_keep\n",
    "all_cols_to_keep"
   ]
  },
  {
   "cell_type": "code",
   "execution_count": null,
   "id": "6a584caa-e2ea-496b-aa25-4b5cf27540d6",
   "metadata": {
    "tags": []
   },
   "outputs": [],
   "source": [
    "# subset the columns\n",
    "AFR_df=anno[all_cols_to_keep]\n",
    "\n",
    "#rename col\n",
    "AFR_df.rename({'Otherinfo6':'var_id'},axis=1,inplace=True)\n",
    "\n",
    "AFR_df"
   ]
  },
  {
   "cell_type": "code",
   "execution_count": null,
   "id": "f6b49f36-a6ce-4d10-96da-ca08f2760ac5",
   "metadata": {
    "tags": []
   },
   "outputs": [],
   "source": [
    "# Count occurrences of each value\n",
    "value_counts = AFR_df[\"ExonicFunc.refGene\"].value_counts()\n",
    "\n",
    "# Display counts\n",
    "print(value_counts)"
   ]
  },
  {
   "cell_type": "markdown",
   "id": "d8f317e9-9927-43b4-906f-d9737230705a",
   "metadata": {},
   "source": [
    "#### Filter variants"
   ]
  },
  {
   "cell_type": "code",
   "execution_count": null,
   "id": "7ea7894a-f07e-40f9-a837-08fc28c8a88c",
   "metadata": {
    "tags": []
   },
   "outputs": [],
   "source": [
    "# Define the values you want to keep\n",
    "keep_values = [\"exonic\", \"splicing\", \"exonic;splicing\"]  # Add more if needed\n",
    "\n",
    "# Subset the dataframe\n",
    "filtered_AFR_df = AFR_df[AFR_df[\"Func.refGene\"].isin(keep_values)]\n",
    "\n",
    "# Display the filtered dataframe\n",
    "print (filtered_AFR_df.head())"
   ]
  },
  {
   "cell_type": "code",
   "execution_count": null,
   "id": "3220080e-aad2-4696-b47e-f183b18420ca",
   "metadata": {
    "tags": []
   },
   "outputs": [],
   "source": [
    "# Filter out synonymous SNVs\n",
    "filtered_AFR_df = filtered_AFR_df[filtered_AFR_df[\"ExonicFunc.refGene\"] != \"synonymous SNV\"]\n",
    "\n",
    "# Display the filtered dataframe\n",
    "print (filtered_AFR_df.head())"
   ]
  },
  {
   "cell_type": "code",
   "execution_count": null,
   "id": "2f2bd428-9047-4c8c-b923-fcc0fd222d65",
   "metadata": {
    "tags": []
   },
   "outputs": [],
   "source": [
    "# Save the filtered output\n",
    "filtered_AFR_df.to_csv(f\"{workdir}/results/filtered_multianno_AFR.tsv\", sep=\"\\t\", index=False)\n",
    "\n",
    "# write out var_id to extract from plink files\n",
    "filtered_AFR_df['var_id'].to_csv(f\"{workdir}/results/AFR_var_to_extract.txt\",index=False,header=False)"
   ]
  },
  {
   "cell_type": "markdown",
   "id": "8a992b34-3450-414e-bcdb-64e8bca8ae5a",
   "metadata": {
    "tags": []
   },
   "source": [
    "#### Extract carrier IDs and genotypes"
   ]
  },
  {
   "cell_type": "markdown",
   "id": "0cbc5c45-d4e9-493b-982b-cd9f11518edc",
   "metadata": {},
   "source": [
    "I would just extract the variants you are interested from the annovar annotation, and you can start from the plink files generated from the merge"
   ]
  },
  {
   "cell_type": "code",
   "execution_count": null,
   "id": "d3af3db0-61e8-4312-aea3-7125fd276cda",
   "metadata": {
    "tags": []
   },
   "outputs": [],
   "source": [
    "%%bash\n",
    "workdir=\"/home/jupyter/workspace/ws_files/GP2_R8_dystonia\"\n",
    "TEMP_DIR=\"/home/jupyter/workspace/ws_files/GP2_R8_dystonia/temp_files\"\n",
    "Ancestry=\"AFR\"\n",
    "\n",
    "~/tools/plink2 --pfile ${TEMP_DIR}/${Ancestry} \\\n",
    "               --extract ${workdir}/results/${Ancestry}_var_to_extract.txt \\\n",
    "               --recode A \\\n",
    "               --out ${TEMP_DIR}/${Ancestry}_geno              "
   ]
  },
  {
   "cell_type": "code",
   "execution_count": null,
   "id": "8d68f28c-51dc-4caa-b972-17299a5d1ca1",
   "metadata": {
    "tags": []
   },
   "outputs": [],
   "source": [
    "TEMP_DIR=\"/home/jupyter/workspace/ws_files/GP2_R8_dystonia/temp_files\"\n",
    "Ancestry=\"AFR\"\n",
    "\n",
    "afr_var = pd.read_csv(f'{TEMP_DIR}/{Ancestry}_geno.raw', sep='\\s+')\n",
    "afr_var"
   ]
  },
  {
   "cell_type": "markdown",
   "id": "1ba8a2a7-1042-45ea-bfc3-dd72984ab632",
   "metadata": {},
   "source": [
    "From here you can run similar code for NBA to collect variant carriers "
   ]
  },
  {
   "cell_type": "code",
   "execution_count": null,
   "id": "24bc9099-6034-444a-b118-f5dbca8aeeeb",
   "metadata": {
    "tags": []
   },
   "outputs": [],
   "source": [
    "# transpose the dataframe to be row as variants and columns as samples\n",
    "var_col=afr_var.columns[6:len(afr_var)]\n",
    "d = afr_var.drop(columns=['FID','PAT','MAT','SEX','PHENOTYPE'])\n",
    "sample=afr_var[['IID','PHENOTYPE']]\n",
    "\n",
    "#Filtering rows where any value in var_col is ≤1 (either het or hom)\n",
    "t=d[(d[var_col]<=1).any(axis=1)].T\n",
    "t.columns = t.iloc[0]\n",
    "t=t.iloc[1:]\n",
    "t.reset_index(inplace=True)\n",
    "\n",
    "t"
   ]
  },
  {
   "cell_type": "code",
   "execution_count": null,
   "id": "90db6319-4347-4fac-84f2-f1f67df56080",
   "metadata": {
    "tags": []
   },
   "outputs": [],
   "source": [
    "#strip the last '_${ref_allele}', so we can keep the same variant id as in annotation \n",
    "t['index'] = t['index'].str.rsplit('_', n=1).str[0]\n",
    "t.rename({'index':'var_id'},axis=1,inplace=True)\n",
    "t"
   ]
  },
  {
   "cell_type": "code",
   "execution_count": null,
   "id": "b73ee0e6-6167-49ee-a7b0-9b19f1894a4c",
   "metadata": {
    "tags": []
   },
   "outputs": [],
   "source": [
    "t['hom_carrier'] = t.apply(lambda row: row[row == 0].index.tolist() , axis=1)\n",
    "t['het_carrier'] = t.apply(lambda row: row[row == 1].index.tolist() , axis=1)  \n",
    "\n",
    "# store hom and het seperately to later explode the dataframe correctly\n",
    "hom = t[['var_id','hom_carrier']]\n",
    "het = t[['var_id','het_carrier']]"
   ]
  },
  {
   "cell_type": "code",
   "execution_count": null,
   "id": "96b0b7b6-8c1e-42db-99fd-4150ef9b0e96",
   "metadata": {
    "tags": []
   },
   "outputs": [],
   "source": [
    "# check hom as example what to expect\n",
    "hom"
   ]
  },
  {
   "cell_type": "code",
   "execution_count": null,
   "id": "5fa30762-582c-4c84-9437-8b972f7baff2",
   "metadata": {
    "tags": []
   },
   "outputs": [],
   "source": [
    "# split the carrier id from the list and each to a row\n",
    "hom = hom.explode('hom_carrier', ignore_index=True)\n",
    "\n",
    "hom"
   ]
  },
  {
   "cell_type": "code",
   "execution_count": null,
   "id": "5d654b35-6078-41df-a4a2-1d29e53fd3fe",
   "metadata": {
    "tags": []
   },
   "outputs": [],
   "source": [
    "# keep just the variants with carriers\n",
    "hom= hom.loc[~hom['hom_carrier'].isnull()]\n",
    "\n",
    "hom"
   ]
  },
  {
   "cell_type": "code",
   "execution_count": null,
   "id": "846d4242-4e71-4495-97d0-f7a37f342f6b",
   "metadata": {
    "tags": []
   },
   "outputs": [],
   "source": [
    "#merge with annotation\n",
    "out_hom = pd.merge(hom,filtered_AFR_df, on='var_id',how='left')\n",
    "out_hom['zygosity'] = 'hom'\n",
    "\n",
    "#rename col\n",
    "out_hom.rename({'hom_carrier':'carrier_id'},axis=1,inplace=True)\n",
    "\n",
    "out_hom"
   ]
  },
  {
   "cell_type": "code",
   "execution_count": null,
   "id": "b42af99b-99a8-4c49-8bfd-15cf1c985b95",
   "metadata": {
    "tags": []
   },
   "outputs": [],
   "source": [
    "#repeat the same for het\n",
    "het = het.explode('het_carrier', ignore_index=True)\n",
    "het= het.loc[~het['het_carrier'].isnull()]\n",
    "\n",
    "het"
   ]
  },
  {
   "cell_type": "code",
   "execution_count": null,
   "id": "7f41a098-9069-4e1b-b466-54e2a0374dbd",
   "metadata": {
    "tags": []
   },
   "outputs": [],
   "source": [
    "#merge with annotation\n",
    "out_het = pd.merge(het,filtered_AFR_df, on='var_id',how='left')\n",
    "out_het['zygosity'] = 'het'\n",
    "\n",
    "#rename col\n",
    "out_het.rename({'het_carrier':'carrier_id'},axis=1,inplace=True)\n",
    "\n",
    "out_het"
   ]
  },
  {
   "cell_type": "code",
   "execution_count": null,
   "id": "1b7d8a6d-60e2-47ab-a85a-322777c4d10b",
   "metadata": {
    "tags": []
   },
   "outputs": [],
   "source": [
    "# check if there's any comphet by grouping gene and sample_id\n",
    "pd.concat(g for _, g in out_het.groupby([\"Gene.refGene\",\"carrier_id\"]) if len(g) > 1)"
   ]
  },
  {
   "cell_type": "code",
   "execution_count": null,
   "id": "4a249c72-2d7e-4ca7-97b0-455716f0e5d4",
   "metadata": {
    "tags": []
   },
   "outputs": [],
   "source": [
    "# write out comphet\n",
    "comphet = pd.concat(g for _, g in out_het.groupby([\"Gene.refGene\",\"carrier_id\"]) if len(g) > 1)\n",
    "comphet['zygosity'] = 'comphet'"
   ]
  },
  {
   "cell_type": "code",
   "execution_count": null,
   "id": "15bb3685-ca7c-4ee9-9250-efa675f50aa4",
   "metadata": {
    "tags": []
   },
   "outputs": [],
   "source": [
    "# get everything and write out\n",
    "merged_df_AFR = pd.concat([out_het,out_hom,comphet],axis=0)\n",
    "\n",
    "# Save the dataset\n",
    "merged_df_AFR.to_csv(f\"{workdir}/results/merged_genotypes_dystonia_AFR.tsv\",sep='\\t',index=False)"
   ]
  },
  {
   "cell_type": "markdown",
   "id": "58616c5a-786d-4e42-ace9-6c54854a26b0",
   "metadata": {
    "tags": []
   },
   "source": [
    "### AJ"
   ]
  },
  {
   "cell_type": "code",
   "execution_count": null,
   "id": "9bab3e46-ec63-4229-89d6-618065a47fd0",
   "metadata": {
    "tags": []
   },
   "outputs": [],
   "source": [
    "# find unique chromosomes in bed files\n",
    "unique_chr=bed['chr'].unique().tolist()\n",
    "unique_chr"
   ]
  },
  {
   "cell_type": "code",
   "execution_count": null,
   "id": "2fe23ddc-702c-4b51-9ff9-b0ff23c0e9ee",
   "metadata": {
    "scrolled": true,
    "tags": []
   },
   "outputs": [],
   "source": [
    "#define all the variables\n",
    "\n",
    "INPUT_PLINK_DIR=\"/home/jupyter/workspace/path/to/release8/wgs/deepvariant_joint_calling/plink\"\n",
    "PLINK2_PATH=\"/home/jupyter/tools/plink2\"\n",
    "dir_bed=\"/home/jupyter/workspace/ws_files/GP2_R8_dystonia/bed_files\"\n",
    "TEMP_DIR=\"/home/jupyter/workspace/ws_files/GP2_R8_dystonia/temp_files\"\n",
    "Ancestry=\"AJ\"\n",
    "\n",
    "# extract variants we need from each chromosome\n",
    "for chrom in unique_chr:    \n",
    "    # make the output directory if not exist\n",
    "    os.makedirs(f'{TEMP_DIR}/{Ancestry}', exist_ok=True)\n",
    "    \n",
    "    # Construct the command as a list \n",
    "    # keep only variants with maf <0.05 in the dataset to keep the files small\n",
    "    # since frequent variants are not we are interested in\n",
    "    cmd = [\n",
    "        PLINK2_PATH,\n",
    "        \"--pfile\", f\"{INPUT_PLINK_DIR}/{Ancestry}/{chrom}_{Ancestry}_release8\",\n",
    "        \"--mac\", \"1\",\n",
    "        \"--extract\", \"bed1\", f\"{dir_bed}/{chrom}.bed\",\n",
    "        \"--make-pgen\",\n",
    "        \"--out\", f\"{TEMP_DIR}/{Ancestry}/{chrom}\"\n",
    "    ]\n",
    "\n",
    "    subprocess.run(cmd, check=True)"
   ]
  },
  {
   "cell_type": "code",
   "execution_count": null,
   "id": "3614b1ff-20a1-4906-a0e6-d0eb7c2b33ba",
   "metadata": {
    "tags": []
   },
   "outputs": [],
   "source": [
    "%%bash\n",
    "\n",
    "TEMP_DIR=\"/home/jupyter/workspace/ws_files/GP2_R8_dystonia/temp_files\"\n",
    "Ancestry=\"AJ\"\n",
    "\n",
    "# merge all the chrs and convert the final file to vcf\n",
    "# for merging across pfiles https://www.cog-genomics.org/plink/2.0/data\n",
    "\n",
    "# list the files, sort by chromosome and remove .pgen from the filename\n",
    "ls ${TEMP_DIR}/${Ancestry}/*.pgen | sort -V  | sed 's/\\.pgen//g' > ${TEMP_DIR}/${Ancestry}_pfiles.list\n",
    "\n",
    "~/tools/plink2 --pmerge-list ${TEMP_DIR}/${Ancestry}_pfiles.list \\\n",
    "                           --recode vcf \\\n",
    "                           --out ${TEMP_DIR}/${Ancestry}"
   ]
  },
  {
   "cell_type": "code",
   "execution_count": null,
   "id": "4b79c8c9-f198-43a5-ac96-1d8c5b7a8c51",
   "metadata": {
    "tags": []
   },
   "outputs": [],
   "source": [
    "%%bash\n",
    "# bgzip the vcf\n",
    "TEMP_DIR=\"/home/jupyter/workspace/ws_files/GP2_R8_dystonia/temp_files\"\n",
    "Ancestry=\"AJ\"\n",
    "\n",
    "bgzip -c ${TEMP_DIR}/${Ancestry}.vcf > ${TEMP_DIR}/annovar_input_${Ancestry}.vcf.gz\n",
    "tabix -p vcf ${TEMP_DIR}/annovar_input_${Ancestry}.vcf.gz"
   ]
  },
  {
   "cell_type": "code",
   "execution_count": null,
   "id": "ac3af37f-10f0-4eb4-9076-3657d25a3dec",
   "metadata": {
    "tags": []
   },
   "outputs": [],
   "source": [
    "%%bash\n",
    "\n",
    "workdir=\"/home/jupyter/workspace/ws_files/GP2_R8_dystonia\"\n",
    "mkdir -p ${workdir}/results\n",
    "\n",
    "# Run ANNOVAR annotation\n",
    "perl ~/tools/annovar/table_annovar.pl \\\n",
    "     ${workdir}/temp_files/annovar_input_AJ.vcf.gz \\\n",
    "    /home/jupyter/tools/annovar/humandb/ \\\n",
    "    -buildver hg38 \\\n",
    "    -out ${workdir}/results/wgs_final_AJ.annovar \\\n",
    "    -remove \\\n",
    "    -protocol refGene,gnomad41_genome,clinvar_20240917,dbnsfp47a \\\n",
    "    -operation g,f,f,f \\\n",
    "    -nastring . \\\n",
    "    -polish \\\n",
    "    -vcfinput"
   ]
  },
  {
   "cell_type": "code",
   "execution_count": null,
   "id": "6671a04e-9a08-4664-94fe-58b1241dbae1",
   "metadata": {
    "tags": []
   },
   "outputs": [],
   "source": [
    "%%bash \n",
    "workdir=\"/home/jupyter/workspace/ws_files/GP2_R8_dystonia\"\n",
    "\n",
    "head ${workdir}/results/wgs_final_AJ.annovar.hg38_multianno.txt"
   ]
  },
  {
   "cell_type": "code",
   "execution_count": null,
   "id": "99a519b6-a1e2-48b4-adda-8af85f767f20",
   "metadata": {
    "tags": []
   },
   "outputs": [],
   "source": [
    "workdir=\"/home/jupyter/workspace/ws_files/GP2_R8_dystonia\"\n",
    "# Show columns of multianno.txt output file\n",
    "anno=pd.read_csv(f'{workdir}/results/wgs_final_AJ.annovar.hg38_multianno.txt',sep='\\t',dtype=str)\n",
    "\n",
    "#find variant id col:\n",
    "anno['Otherinfo6']"
   ]
  },
  {
   "cell_type": "code",
   "execution_count": null,
   "id": "2f91ceab-fddf-4496-a233-591bf7f08816",
   "metadata": {
    "scrolled": true,
    "tags": []
   },
   "outputs": [],
   "source": [
    "anno.columns.tolist()"
   ]
  },
  {
   "cell_type": "code",
   "execution_count": null,
   "id": "72ee44a9-41fc-4785-b628-40fa067bcf6b",
   "metadata": {
    "scrolled": true,
    "tags": []
   },
   "outputs": [],
   "source": [
    "# select the cols to keep\n",
    "basic_cols= anno.columns.tolist()[0:10]\n",
    "additional_cols_to_keep=['Otherinfo6',\n",
    "                         'gnomad41_genome_fafmax_faf95_max',\n",
    "                         'gnomad41_genome_AF_asj',\n",
    "                         'CLNDN',\n",
    "                         'CLNSIG',\n",
    "                         'CADD_phred']\n",
    "            \n",
    "all_cols_to_keep= basic_cols+ additional_cols_to_keep\n",
    "all_cols_to_keep"
   ]
  },
  {
   "cell_type": "code",
   "execution_count": null,
   "id": "07efb236-08c1-4703-8d27-482832299391",
   "metadata": {
    "tags": []
   },
   "outputs": [],
   "source": [
    "# subset the columns\n",
    "AJ_df=anno[all_cols_to_keep]\n",
    "\n",
    "#rename col\n",
    "AJ_df.rename({'Otherinfo6':'var_id'},axis=1,inplace=True)\n",
    "\n",
    "AJ_df"
   ]
  },
  {
   "cell_type": "code",
   "execution_count": null,
   "id": "81811d09-7287-4f36-9ddf-6523b19f738c",
   "metadata": {
    "tags": []
   },
   "outputs": [],
   "source": [
    "# Count occurrences of each value\n",
    "value_counts = AJ_df[\"ExonicFunc.refGene\"].value_counts()\n",
    "\n",
    "# Display counts\n",
    "print(value_counts)"
   ]
  },
  {
   "cell_type": "markdown",
   "id": "8c68b5e2-653c-43b3-b7bd-75fbbfd1bd65",
   "metadata": {},
   "source": [
    "#### Filter variants"
   ]
  },
  {
   "cell_type": "code",
   "execution_count": null,
   "id": "aa26f200-40df-4d8b-88d4-defd03fa5e82",
   "metadata": {
    "tags": []
   },
   "outputs": [],
   "source": [
    "# Define the values you want to keep\n",
    "keep_values = [\"exonic\", \"splicing\", \"exonic;splicing\"]  # Add more if needed\n",
    "\n",
    "# Subset the dataframe\n",
    "filtered_AJ_df = AJ_df[AJ_df[\"Func.refGene\"].isin(keep_values)]\n",
    "\n",
    "# Display the filtered dataframe\n",
    "print (filtered_AJ_df.head())"
   ]
  },
  {
   "cell_type": "code",
   "execution_count": null,
   "id": "29c6be43-419d-4be8-bc1a-124e47126aa8",
   "metadata": {
    "tags": []
   },
   "outputs": [],
   "source": [
    "# Filter out synonymous SNVs\n",
    "filtered_AJ_df = filtered_AJ_df[filtered_AJ_df[\"ExonicFunc.refGene\"] != \"synonymous SNV\"]\n",
    "\n",
    "# Display the filtered dataframe\n",
    "print (filtered_AJ_df.head())"
   ]
  },
  {
   "cell_type": "code",
   "execution_count": null,
   "id": "90667736-2273-49d3-a171-3d251ff1dbd1",
   "metadata": {
    "tags": []
   },
   "outputs": [],
   "source": [
    "# Save the filtered output\n",
    "filtered_AJ_df.to_csv(f\"{workdir}/results/filtered_multianno_AJ.tsv\", sep=\"\\t\", index=False)\n",
    "\n",
    "# write out var_id to extract from plink files\n",
    "filtered_AJ_df['var_id'].to_csv(f\"{workdir}/results/AJ_var_to_extract.txt\",index=False,header=False)"
   ]
  },
  {
   "cell_type": "markdown",
   "id": "ce4e260d-9286-4526-9a38-8f326bd33f59",
   "metadata": {
    "tags": []
   },
   "source": [
    "#### Extract carrier IDs and genotypes"
   ]
  },
  {
   "cell_type": "markdown",
   "id": "df62bc6f-b8ba-4ec5-83a5-8f3507735994",
   "metadata": {},
   "source": [
    "I would just extract the variants you are interested from the annovar annotation, and you can start from the plink files generated from the merge"
   ]
  },
  {
   "cell_type": "code",
   "execution_count": null,
   "id": "92de97bb-b475-4326-9ec3-f73e01c1f6c1",
   "metadata": {
    "tags": []
   },
   "outputs": [],
   "source": [
    "%%bash\n",
    "workdir=\"/home/jupyter/workspace/ws_files/GP2_R8_dystonia\"\n",
    "TEMP_DIR=\"/home/jupyter/workspace/ws_files/GP2_R8_dystonia/temp_files\"\n",
    "Ancestry=\"AJ\"\n",
    "\n",
    "~/tools/plink2 --pfile ${TEMP_DIR}/${Ancestry} \\\n",
    "               --extract ${workdir}/results/${Ancestry}_var_to_extract.txt \\\n",
    "               --recode A \\\n",
    "               --out ${TEMP_DIR}/${Ancestry}_geno              "
   ]
  },
  {
   "cell_type": "code",
   "execution_count": null,
   "id": "23e6f3df-dd35-45b5-b6a8-6dbccc0507ed",
   "metadata": {
    "tags": []
   },
   "outputs": [],
   "source": [
    "TEMP_DIR=\"/home/jupyter/workspace/ws_files/GP2_R8_dystonia/temp_files\"\n",
    "Ancestry=\"AJ\"\n",
    "\n",
    "aj_var = pd.read_csv(f'{TEMP_DIR}/{Ancestry}_geno.raw', sep='\\s+')\n",
    "aj_var"
   ]
  },
  {
   "cell_type": "markdown",
   "id": "9af43ca5-1346-455a-8797-ef624d303026",
   "metadata": {},
   "source": [
    "From here you can run similar code for NBA to collect variant carriers "
   ]
  },
  {
   "cell_type": "code",
   "execution_count": null,
   "id": "40c870b1-8048-4a6e-9d16-ce2c655dfeb7",
   "metadata": {
    "tags": []
   },
   "outputs": [],
   "source": [
    "# transpose the dataframe to be row as variants and columns as samples\n",
    "var_col=aj_var.columns[6:len(aj_var)]\n",
    "d = aj_var.drop(columns=['FID','PAT','MAT','SEX','PHENOTYPE'])\n",
    "sample=aj_var[['IID','PHENOTYPE']]\n",
    "\n",
    "#Filtering rows where any value in var_col is ≤1 (either het or hom)\n",
    "t=d[(d[var_col]<=1).any(axis=1)].T\n",
    "t.columns = t.iloc[0]\n",
    "t=t.iloc[1:]\n",
    "t.reset_index(inplace=True)\n",
    "\n",
    "t"
   ]
  },
  {
   "cell_type": "code",
   "execution_count": null,
   "id": "5724e849-3cfa-47cf-9eef-9569e1574b21",
   "metadata": {
    "tags": []
   },
   "outputs": [],
   "source": [
    "#strip the last '_${ref_allele}', so we can keep the same variant id as in annotation \n",
    "t['index'] = t['index'].str.rsplit('_', n=1).str[0]\n",
    "t.rename({'index':'var_id'},axis=1,inplace=True)\n",
    "t"
   ]
  },
  {
   "cell_type": "code",
   "execution_count": null,
   "id": "f44a3b1b-e6fc-46cd-af58-f38d33d74bea",
   "metadata": {
    "tags": []
   },
   "outputs": [],
   "source": [
    "t['hom_carrier'] = t.apply(lambda row: row[row == 0].index.tolist() , axis=1)\n",
    "t['het_carrier'] = t.apply(lambda row: row[row == 1].index.tolist() , axis=1)  \n",
    "\n",
    "# store hom and het seperately to later explode the dataframe correctly\n",
    "hom = t[['var_id','hom_carrier']]\n",
    "het = t[['var_id','het_carrier']]"
   ]
  },
  {
   "cell_type": "code",
   "execution_count": null,
   "id": "f0bbd4c0-1da9-4892-9aa5-7236456051b1",
   "metadata": {
    "tags": []
   },
   "outputs": [],
   "source": [
    "# check hom as example what to expect\n",
    "hom"
   ]
  },
  {
   "cell_type": "code",
   "execution_count": null,
   "id": "e6ebc887-715b-4bb9-99dd-52883f0f6c62",
   "metadata": {
    "tags": []
   },
   "outputs": [],
   "source": [
    "# split the carrier id from the list and each to a row\n",
    "hom = hom.explode('hom_carrier', ignore_index=True)\n",
    "\n",
    "hom"
   ]
  },
  {
   "cell_type": "code",
   "execution_count": null,
   "id": "0c46eccf-06e3-4909-a5bf-17a081411819",
   "metadata": {
    "tags": []
   },
   "outputs": [],
   "source": [
    "# keep just the variants with carriers\n",
    "hom= hom.loc[~hom['hom_carrier'].isnull()]\n",
    "\n",
    "hom"
   ]
  },
  {
   "cell_type": "code",
   "execution_count": null,
   "id": "eacd694e-3cf2-48a9-932b-1b7363e51cdd",
   "metadata": {
    "tags": []
   },
   "outputs": [],
   "source": [
    "#merge with annotation\n",
    "out_hom = pd.merge(hom,filtered_AJ_df, on='var_id',how='left')\n",
    "out_hom['zygosity'] = 'hom'\n",
    "\n",
    "#rename col\n",
    "out_hom.rename({'hom_carrier':'carrier_id'},axis=1,inplace=True)\n",
    "\n",
    "out_hom"
   ]
  },
  {
   "cell_type": "code",
   "execution_count": null,
   "id": "511797f6-3aaa-46f6-9ce7-1306836182a2",
   "metadata": {
    "tags": []
   },
   "outputs": [],
   "source": [
    "#repeat the same for het\n",
    "het = het.explode('het_carrier', ignore_index=True)\n",
    "het= het.loc[~het['het_carrier'].isnull()]\n",
    "\n",
    "het"
   ]
  },
  {
   "cell_type": "code",
   "execution_count": null,
   "id": "dca5a810-27b2-4c8b-b388-21d5e7161919",
   "metadata": {
    "tags": []
   },
   "outputs": [],
   "source": [
    "#merge with annotation\n",
    "out_het = pd.merge(het,filtered_AJ_df, on='var_id',how='left')\n",
    "out_het['zygosity'] = 'het'\n",
    "\n",
    "#rename col\n",
    "out_het.rename({'het_carrier':'carrier_id'},axis=1,inplace=True)\n",
    "\n",
    "out_het"
   ]
  },
  {
   "cell_type": "code",
   "execution_count": null,
   "id": "db2d462d-bed7-4c80-9674-a6eb4e304088",
   "metadata": {
    "tags": []
   },
   "outputs": [],
   "source": [
    "# check if there's any comphet by grouping gene and sample_id\n",
    "pd.concat(g for _, g in out_het.groupby([\"Gene.refGene\",\"carrier_id\"]) if len(g) > 1)"
   ]
  },
  {
   "cell_type": "code",
   "execution_count": null,
   "id": "282ca0a7-66bc-4506-bfcd-cab0162f7837",
   "metadata": {
    "tags": []
   },
   "outputs": [],
   "source": [
    "# write out comphet\n",
    "comphet = pd.concat(g for _, g in out_het.groupby([\"Gene.refGene\",\"carrier_id\"]) if len(g) > 1)\n",
    "comphet['zygosity'] = 'comphet'"
   ]
  },
  {
   "cell_type": "code",
   "execution_count": null,
   "id": "0538e460-ae2a-443a-ae98-c5c112e3f622",
   "metadata": {
    "tags": []
   },
   "outputs": [],
   "source": [
    "# get everything and write out\n",
    "merged_df_AJ = pd.concat([out_het,out_hom,comphet],axis=0)\n",
    "\n",
    "# Save the dataset\n",
    "merged_df_AJ.to_csv(f\"{workdir}/results/merged_genotypes_dystonia__AJ.tsv\",sep='\\t',index=False)"
   ]
  },
  {
   "cell_type": "markdown",
   "id": "81f49061-66cb-4036-9978-1bf169d34e34",
   "metadata": {
    "tags": []
   },
   "source": [
    "### AMR"
   ]
  },
  {
   "cell_type": "code",
   "execution_count": null,
   "id": "07b3bbab-95c1-4405-89d9-e6d49b48c2d9",
   "metadata": {
    "tags": []
   },
   "outputs": [],
   "source": [
    "# find unique chromosomes in bed files\n",
    "unique_chr=bed['chr'].unique().tolist()\n",
    "unique_chr"
   ]
  },
  {
   "cell_type": "code",
   "execution_count": null,
   "id": "f4956d02-8e52-4017-b657-7533c6ba8b61",
   "metadata": {
    "scrolled": true,
    "tags": []
   },
   "outputs": [],
   "source": [
    "#define all the variables\n",
    "\n",
    "INPUT_PLINK_DIR=\"/home/jupyter/workspace/path/to/release8/wgs/deepvariant_joint_calling/plink\"\n",
    "PLINK2_PATH=\"/home/jupyter/tools/plink2\"\n",
    "dir_bed=\"/home/jupyter/workspace/ws_files/GP2_R8_dystonia/bed_files\"\n",
    "TEMP_DIR=\"/home/jupyter/workspace/ws_files/GP2_R8_dystonia/temp_files\"\n",
    "Ancestry=\"AMR\"\n",
    "\n",
    "# extract variants we need from each chromosome\n",
    "for chrom in unique_chr:    \n",
    "    # make the output directory if not exist\n",
    "    os.makedirs(f'{TEMP_DIR}/{Ancestry}', exist_ok=True)\n",
    "    \n",
    "    # Construct the command as a list \n",
    "    # keep only variants with maf <0.05 in the dataset to keep the files small\n",
    "    # since frequent variants are not we are interested in\n",
    "    cmd = [\n",
    "        PLINK2_PATH,\n",
    "        \"--pfile\", f\"{INPUT_PLINK_DIR}/{Ancestry}/{chrom}_{Ancestry}_release8\",\n",
    "        \"--mac\", \"1\",\n",
    "        \"--extract\", \"bed1\", f\"{dir_bed}/{chrom}.bed\",\n",
    "        \"--make-pgen\",\n",
    "        \"--out\", f\"{TEMP_DIR}/{Ancestry}/{chrom}\"\n",
    "    ]\n",
    "\n",
    "    subprocess.run(cmd, check=True)"
   ]
  },
  {
   "cell_type": "code",
   "execution_count": null,
   "id": "ed2b2462-904f-47e7-a223-f0b4feea9483",
   "metadata": {
    "tags": []
   },
   "outputs": [],
   "source": [
    "%%bash\n",
    "\n",
    "TEMP_DIR=\"/home/jupyter/workspace/ws_files/GP2_R8_dystonia/temp_files\"\n",
    "Ancestry=\"AMR\"\n",
    "\n",
    "# merge all the chrs and convert the final file to vcf\n",
    "# for merging across pfiles https://www.cog-genomics.org/plink/2.0/data\n",
    "\n",
    "# list the files, sort by chromosome and remove .pgen from the filename\n",
    "ls ${TEMP_DIR}/${Ancestry}/*.pgen | sort -V  | sed 's/\\.pgen//g' > ${TEMP_DIR}/${Ancestry}_pfiles.list\n",
    "\n",
    "~/tools/plink2 --pmerge-list ${TEMP_DIR}/${Ancestry}_pfiles.list \\\n",
    "                           --recode vcf \\\n",
    "                           --out ${TEMP_DIR}/${Ancestry}"
   ]
  },
  {
   "cell_type": "code",
   "execution_count": null,
   "id": "1c045a1d-0069-4700-a8a2-713b1e0e464c",
   "metadata": {
    "tags": []
   },
   "outputs": [],
   "source": [
    "%%bash\n",
    "# bgzip the vcf\n",
    "TEMP_DIR=\"/home/jupyter/workspace/ws_files/GP2_R8_dystonia/temp_files\"\n",
    "Ancestry=\"AMR\"\n",
    "\n",
    "bgzip -c ${TEMP_DIR}/${Ancestry}.vcf > ${TEMP_DIR}/annovar_input_${Ancestry}.vcf.gz\n",
    "tabix -p vcf ${TEMP_DIR}/annovar_input_${Ancestry}.vcf.gz"
   ]
  },
  {
   "cell_type": "code",
   "execution_count": null,
   "id": "b9bc75d0-2985-4afb-9bcb-8e76a0cfa057",
   "metadata": {
    "tags": []
   },
   "outputs": [],
   "source": [
    "%%bash\n",
    "\n",
    "workdir=\"/home/jupyter/workspace/ws_files/GP2_R8_dystonia\"\n",
    "mkdir -p ${workdir}/results\n",
    "\n",
    "# Run ANNOVAR annotation\n",
    "perl ~/tools/annovar/table_annovar.pl \\\n",
    "     ${workdir}/temp_files/annovar_input_AMR.vcf.gz \\\n",
    "    /home/jupyter/tools/annovar/humandb/ \\\n",
    "    -buildver hg38 \\\n",
    "    -out ${workdir}/results/wgs_final_AMR.annovar \\\n",
    "    -remove \\\n",
    "    -protocol refGene,gnomad41_genome,clinvar_20240917,dbnsfp47a \\\n",
    "    -operation g,f,f,f \\\n",
    "    -nastring . \\\n",
    "    -polish \\\n",
    "    -vcfinput"
   ]
  },
  {
   "cell_type": "code",
   "execution_count": null,
   "id": "fd7e0900-3e0e-4cdf-8734-bd1749967679",
   "metadata": {
    "tags": []
   },
   "outputs": [],
   "source": [
    "%%bash \n",
    "workdir=\"/home/jupyter/workspace/ws_files/GP2_R8_dystonia\"\n",
    "\n",
    "head ${workdir}/results/wgs_final_AMR.annovar.hg38_multianno.txt"
   ]
  },
  {
   "cell_type": "code",
   "execution_count": null,
   "id": "d0646fa5-4510-477b-9646-b862fd79d219",
   "metadata": {
    "tags": []
   },
   "outputs": [],
   "source": [
    "workdir=\"/home/jupyter/workspace/ws_files/GP2_R8_dystonia\"\n",
    "# Show columns of multianno.txt output file\n",
    "anno=pd.read_csv(f'{workdir}/results/wgs_final_AMR.annovar.hg38_multianno.txt',sep='\\t',dtype=str)\n",
    "\n",
    "#find variant id col:\n",
    "anno['Otherinfo6']"
   ]
  },
  {
   "cell_type": "code",
   "execution_count": null,
   "id": "6ec049e7-8076-4e4e-bd51-a3d0e6cee33d",
   "metadata": {
    "scrolled": true,
    "tags": []
   },
   "outputs": [],
   "source": [
    "anno.columns.tolist()"
   ]
  },
  {
   "cell_type": "code",
   "execution_count": null,
   "id": "7f030949-b8eb-4977-9c30-978935e2a51e",
   "metadata": {
    "scrolled": true,
    "tags": []
   },
   "outputs": [],
   "source": [
    "# select the cols to keep\n",
    "basic_cols= anno.columns.tolist()[0:10]\n",
    "additional_cols_to_keep=['Otherinfo6',\n",
    "                         'gnomad41_genome_fafmax_faf95_max',\n",
    "                         'gnomad41_genome_AF_amr',\n",
    "                         'CLNDN',\n",
    "                         'CLNSIG',\n",
    "                         'CADD_phred']\n",
    "            \n",
    "all_cols_to_keep= basic_cols+ additional_cols_to_keep\n",
    "all_cols_to_keep"
   ]
  },
  {
   "cell_type": "code",
   "execution_count": null,
   "id": "f0989cbb-8175-4fcf-aeae-4a4c10e171d8",
   "metadata": {
    "tags": []
   },
   "outputs": [],
   "source": [
    "# subset the columns\n",
    "AMR_df=anno[all_cols_to_keep]\n",
    "\n",
    "#rename col\n",
    "AMR_df.rename({'Otherinfo6':'var_id'},axis=1,inplace=True)\n",
    "\n",
    "AMR_df"
   ]
  },
  {
   "cell_type": "code",
   "execution_count": null,
   "id": "1347049a-31d6-4f39-9904-4ee119afe5f4",
   "metadata": {
    "tags": []
   },
   "outputs": [],
   "source": [
    "# Count occurrences of each value\n",
    "value_counts = AMR_df[\"ExonicFunc.refGene\"].value_counts()\n",
    "\n",
    "# Display counts\n",
    "print(value_counts)"
   ]
  },
  {
   "cell_type": "markdown",
   "id": "0a5774c7-ebe9-4c31-8729-e2fc1c00ece4",
   "metadata": {},
   "source": [
    "#### Filter variants"
   ]
  },
  {
   "cell_type": "code",
   "execution_count": null,
   "id": "d45dff41-3aca-4207-982e-bae6cfbee9d0",
   "metadata": {
    "tags": []
   },
   "outputs": [],
   "source": [
    "# Define the values you want to keep\n",
    "keep_values = [\"exonic\", \"splicing\", \"exonic;splicing\"]  # Add more if needed\n",
    "\n",
    "# Subset the dataframe\n",
    "filtered_AMR_df = AMR_df[AMR_df[\"Func.refGene\"].isin(keep_values)]\n",
    "\n",
    "# Display the filtered dataframe\n",
    "print (filtered_AMR_df.head())"
   ]
  },
  {
   "cell_type": "code",
   "execution_count": null,
   "id": "cc88302e-87c7-4bd3-b069-414182932ba1",
   "metadata": {
    "tags": []
   },
   "outputs": [],
   "source": [
    "# Filter out synonymous SNVs\n",
    "filtered_AMR_df = filtered_AMR_df[filtered_AMR_df[\"ExonicFunc.refGene\"] != \"synonymous SNV\"]\n",
    "\n",
    "# Display the filtered dataframe\n",
    "print (filtered_AMR_df.head())"
   ]
  },
  {
   "cell_type": "code",
   "execution_count": null,
   "id": "370a9e8d-5877-4441-8538-a993f892b9d0",
   "metadata": {
    "tags": []
   },
   "outputs": [],
   "source": [
    "# Save the filtered output\n",
    "filtered_AMR_df.to_csv(f\"{workdir}/results/filtered_multianno_AMR.tsv\", sep=\"\\t\", index=False)\n",
    "\n",
    "# write out var_id to extract from plink files\n",
    "filtered_AMR_df['var_id'].to_csv(f\"{workdir}/results/AMR_var_to_extract.txt\",index=False,header=False)"
   ]
  },
  {
   "cell_type": "markdown",
   "id": "8d7978ae-95e4-4e73-840f-2abe9123a82c",
   "metadata": {
    "tags": []
   },
   "source": [
    "#### Extract carrier IDs and genotypes"
   ]
  },
  {
   "cell_type": "markdown",
   "id": "14353358-a739-450d-ba13-c16754dae59a",
   "metadata": {},
   "source": [
    "I would just extract the variants you are interested from the annovar annotation, and you can start from the plink files generated from the merge"
   ]
  },
  {
   "cell_type": "code",
   "execution_count": null,
   "id": "5b34c996-cc3d-49f8-9e1e-f4a74daeacb9",
   "metadata": {
    "tags": []
   },
   "outputs": [],
   "source": [
    "%%bash\n",
    "workdir=\"/home/jupyter/workspace/ws_files/GP2_R8_dystonia\"\n",
    "TEMP_DIR=\"/home/jupyter/workspace/ws_files/GP2_R8_dystonia/temp_files\"\n",
    "Ancestry=\"AMR\"\n",
    "\n",
    "~/tools/plink2 --pfile ${TEMP_DIR}/${Ancestry} \\\n",
    "               --extract ${workdir}/results/${Ancestry}_var_to_extract.txt \\\n",
    "               --recode A \\\n",
    "               --out ${TEMP_DIR}/${Ancestry}_geno             "
   ]
  },
  {
   "cell_type": "code",
   "execution_count": null,
   "id": "0ea26d75-3872-4039-b538-703088acb754",
   "metadata": {
    "tags": []
   },
   "outputs": [],
   "source": [
    "TEMP_DIR=\"/home/jupyter/workspace/ws_files/GP2_R8_dystonia/temp_files\"\n",
    "Ancestry=\"AMR\"\n",
    "\n",
    "amr_var = pd.read_csv(f'{TEMP_DIR}/{Ancestry}_geno.raw', sep='\\s+')\n",
    "amr_var"
   ]
  },
  {
   "cell_type": "markdown",
   "id": "94c49773-f5d7-4e4e-8e66-19f0b55f930e",
   "metadata": {},
   "source": [
    "From here you can run similar code for NBA to collect variant carriers "
   ]
  },
  {
   "cell_type": "code",
   "execution_count": null,
   "id": "37e4751d-e96e-40b6-814c-c27bfda8c5b9",
   "metadata": {
    "tags": []
   },
   "outputs": [],
   "source": [
    "# transpose the dataframe to be row as variants and columns as samples\n",
    "var_col=amr_var.columns[6:len(amr_var)]\n",
    "d = amr_var.drop(columns=['FID','PAT','MAT','SEX','PHENOTYPE'])\n",
    "sample=amr_var[['IID','PHENOTYPE']]\n",
    "\n",
    "#Filtering rows where any value in var_col is ≤1 (either het or hom)\n",
    "t=d[(d[var_col]<=1).any(axis=1)].T\n",
    "t.columns = t.iloc[0]\n",
    "t=t.iloc[1:]\n",
    "t.reset_index(inplace=True)\n",
    "\n",
    "t"
   ]
  },
  {
   "cell_type": "code",
   "execution_count": null,
   "id": "baf058ef-4043-4ebb-9f55-10e5341fbc4c",
   "metadata": {
    "tags": []
   },
   "outputs": [],
   "source": [
    "#strip the last '_${ref_allele}', so we can keep the same variant id as in annotation \n",
    "t['index'] = t['index'].str.rsplit('_', n=1).str[0]\n",
    "t.rename({'index':'var_id'},axis=1,inplace=True)\n",
    "t"
   ]
  },
  {
   "cell_type": "code",
   "execution_count": null,
   "id": "80f073ec-2288-44d0-bdb9-62b2ad0d36c9",
   "metadata": {
    "tags": []
   },
   "outputs": [],
   "source": [
    "t['hom_carrier'] = t.apply(lambda row: row[row == 0].index.tolist() , axis=1)\n",
    "t['het_carrier'] = t.apply(lambda row: row[row == 1].index.tolist() , axis=1)  \n",
    "\n",
    "# store hom and het seperately to later explode the dataframe correctly\n",
    "hom = t[['var_id','hom_carrier']]\n",
    "het = t[['var_id','het_carrier']]"
   ]
  },
  {
   "cell_type": "code",
   "execution_count": null,
   "id": "190dfd01-643d-43ac-8130-72e37bcc895c",
   "metadata": {
    "tags": []
   },
   "outputs": [],
   "source": [
    "# check hom as example what to expect\n",
    "hom"
   ]
  },
  {
   "cell_type": "code",
   "execution_count": null,
   "id": "94ab42c9-8688-4127-bedd-dd5b5422d40d",
   "metadata": {
    "tags": []
   },
   "outputs": [],
   "source": [
    "# split the carrier id from the list and each to a row\n",
    "hom = hom.explode('hom_carrier', ignore_index=True)\n",
    "\n",
    "hom"
   ]
  },
  {
   "cell_type": "code",
   "execution_count": null,
   "id": "41149d98-9f84-49d0-80fb-0594702a833e",
   "metadata": {
    "tags": []
   },
   "outputs": [],
   "source": [
    "# keep just the variants with carriers\n",
    "hom= hom.loc[~hom['hom_carrier'].isnull()]\n",
    "\n",
    "hom"
   ]
  },
  {
   "cell_type": "code",
   "execution_count": null,
   "id": "42796d91-2701-4ef9-a9b7-dd297da26855",
   "metadata": {
    "tags": []
   },
   "outputs": [],
   "source": [
    "#merge with annotation\n",
    "out_hom = pd.merge(hom,filtered_AMR_df, on='var_id',how='left')\n",
    "out_hom['zygosity'] = 'hom'\n",
    "\n",
    "#rename col\n",
    "out_hom.rename({'hom_carrier':'carrier_id'},axis=1,inplace=True)\n",
    "\n",
    "out_hom"
   ]
  },
  {
   "cell_type": "code",
   "execution_count": null,
   "id": "e65810c0-eba6-4b1d-b16a-bbf89accce79",
   "metadata": {
    "tags": []
   },
   "outputs": [],
   "source": [
    "#repeat the same for het\n",
    "het = het.explode('het_carrier', ignore_index=True)\n",
    "het= het.loc[~het['het_carrier'].isnull()]\n",
    "\n",
    "het"
   ]
  },
  {
   "cell_type": "code",
   "execution_count": null,
   "id": "aa49b67e-1a03-47ca-b973-3bd487d986d6",
   "metadata": {
    "tags": []
   },
   "outputs": [],
   "source": [
    "#merge with annotation\n",
    "out_het = pd.merge(het,filtered_AMR_df, on='var_id',how='left')\n",
    "out_het['zygosity'] = 'het'\n",
    "\n",
    "#rename col\n",
    "out_het.rename({'het_carrier':'carrier_id'},axis=1,inplace=True)\n",
    "\n",
    "out_het"
   ]
  },
  {
   "cell_type": "code",
   "execution_count": null,
   "id": "994cffa7-08f1-4747-9b6f-dc51663dc34f",
   "metadata": {
    "tags": []
   },
   "outputs": [],
   "source": [
    "# check if there's any comphet by grouping gene and sample_id\n",
    "pd.concat(g for _, g in out_het.groupby([\"Gene.refGene\",\"carrier_id\"]) if len(g) > 1)"
   ]
  },
  {
   "cell_type": "code",
   "execution_count": null,
   "id": "a29abfbf-c3a5-400f-b258-dde40630cd0a",
   "metadata": {
    "tags": []
   },
   "outputs": [],
   "source": [
    "# write out comphet\n",
    "comphet = pd.concat(g for _, g in out_het.groupby([\"Gene.refGene\",\"carrier_id\"]) if len(g) > 1)\n",
    "comphet['zygosity'] = 'comphet'"
   ]
  },
  {
   "cell_type": "code",
   "execution_count": null,
   "id": "c88e7b24-2b05-4713-b23c-dab4d8fa4d9d",
   "metadata": {
    "tags": []
   },
   "outputs": [],
   "source": [
    "# get everything and write out\n",
    "merged_df_AMR = pd.concat([out_het,out_hom,comphet],axis=0)\n",
    "\n",
    "# Save the dataset\n",
    "merged_df_AMR.to_csv(f\"{workdir}/results/merged_genotypes_dystonia_AMR.tsv\",sep='\\t',index=False)"
   ]
  },
  {
   "cell_type": "markdown",
   "id": "362fe87e-e3d8-41aa-80b6-5a25e955bfca",
   "metadata": {
    "tags": []
   },
   "source": [
    "### CAH"
   ]
  },
  {
   "cell_type": "code",
   "execution_count": null,
   "id": "1019bfa5-f13c-424c-95a3-e164388ab1d4",
   "metadata": {
    "tags": []
   },
   "outputs": [],
   "source": [
    "# find unique chromosomes in bed files\n",
    "unique_chr=bed['chr'].unique().tolist()\n",
    "unique_chr"
   ]
  },
  {
   "cell_type": "code",
   "execution_count": null,
   "id": "1c37e399-f40a-4308-89a2-ae9162f46d1d",
   "metadata": {
    "scrolled": true,
    "tags": []
   },
   "outputs": [],
   "source": [
    "#define all the variables\n",
    "\n",
    "INPUT_PLINK_DIR=\"/home/jupyter/workspace/path/to/release8/wgs/deepvariant_joint_calling/plink\"\n",
    "PLINK2_PATH=\"/home/jupyter/tools/plink2\"\n",
    "dir_bed=\"/home/jupyter/workspace/ws_files/GP2_R8_dystonia/bed_files\"\n",
    "TEMP_DIR=\"/home/jupyter/workspace/ws_files/GP2_R8_dystonia/temp_files\"\n",
    "Ancestry=\"CAH\"\n",
    "\n",
    "# extract variants we need from each chromosome\n",
    "for chrom in unique_chr:    \n",
    "    # make the output directory if not exist\n",
    "    os.makedirs(f'{TEMP_DIR}/{Ancestry}', exist_ok=True)\n",
    "    \n",
    "    # Construct the command as a list \n",
    "    # keep only variants with maf <0.05 in the dataset to keep the files small\n",
    "    # since frequent variants are not we are interested in\n",
    "    cmd = [\n",
    "        PLINK2_PATH,\n",
    "        \"--pfile\", f\"{INPUT_PLINK_DIR}/{Ancestry}/{chrom}_{Ancestry}_release8\",\n",
    "        \"--mac\", \"1\",\n",
    "        \"--extract\", \"bed1\", f\"{dir_bed}/{chrom}.bed\",\n",
    "        \"--make-pgen\",\n",
    "        \"--out\", f\"{TEMP_DIR}/{Ancestry}/{chrom}\"\n",
    "    ]\n",
    "\n",
    "    subprocess.run(cmd, check=True)"
   ]
  },
  {
   "cell_type": "code",
   "execution_count": null,
   "id": "164df85a-b526-4d4a-bdef-bb8624c82c1b",
   "metadata": {
    "tags": []
   },
   "outputs": [],
   "source": [
    "%%bash\n",
    "\n",
    "TEMP_DIR=\"/home/jupyter/workspace/ws_files/GP2_R8_dystonia/temp_files\"\n",
    "Ancestry=\"CAH\"\n",
    "\n",
    "# merge all the chrs and convert the final file to vcf\n",
    "# for merging across pfiles https://www.cog-genomics.org/plink/2.0/data\n",
    "\n",
    "# list the files, sort by chromosome and remove .pgen from the filename\n",
    "ls ${TEMP_DIR}/${Ancestry}/*.pgen | sort -V  | sed 's/\\.pgen//g' > ${TEMP_DIR}/${Ancestry}_pfiles.list\n",
    "\n",
    "~/tools/plink2 --pmerge-list ${TEMP_DIR}/${Ancestry}_pfiles.list \\\n",
    "                           --recode vcf \\\n",
    "                           --out ${TEMP_DIR}/${Ancestry}"
   ]
  },
  {
   "cell_type": "code",
   "execution_count": null,
   "id": "6484329c-249e-410d-96a7-373376980d86",
   "metadata": {
    "tags": []
   },
   "outputs": [],
   "source": [
    "%%bash\n",
    "# bgzip the vcf\n",
    "TEMP_DIR=\"/home/jupyter/workspace/ws_files/GP2_R8_dystonia/temp_files\"\n",
    "Ancestry=\"CAH\"\n",
    "\n",
    "bgzip -c ${TEMP_DIR}/${Ancestry}.vcf > ${TEMP_DIR}/annovar_input_${Ancestry}.vcf.gz\n",
    "tabix -p vcf ${TEMP_DIR}/annovar_input_${Ancestry}.vcf.gz"
   ]
  },
  {
   "cell_type": "code",
   "execution_count": null,
   "id": "e17e7cba-7e08-4001-b5d0-7ad1ee6f3f43",
   "metadata": {
    "tags": []
   },
   "outputs": [],
   "source": [
    "%%bash\n",
    "\n",
    "workdir=\"/home/jupyter/workspace/ws_files/GP2_R8_dystonia\"\n",
    "mkdir -p ${workdir}/results\n",
    "\n",
    "# Run ANNOVAR annotation\n",
    "perl ~/tools/annovar/table_annovar.pl \\\n",
    "     ${workdir}/temp_files/annovar_input_CAH.vcf.gz \\\n",
    "    /home/jupyter/tools/annovar/humandb/ \\\n",
    "    -buildver hg38 \\\n",
    "    -out ${workdir}/results/wgs_final_CAH.annovar \\\n",
    "    -remove \\\n",
    "    -protocol refGene,gnomad41_genome,clinvar_20240917,dbnsfp47a \\\n",
    "    -operation g,f,f,f \\\n",
    "    -nastring . \\\n",
    "    -polish \\\n",
    "    -vcfinput"
   ]
  },
  {
   "cell_type": "code",
   "execution_count": null,
   "id": "35c92068-f4b8-4e9e-b940-d2e1b0f1388e",
   "metadata": {
    "tags": []
   },
   "outputs": [],
   "source": [
    "%%bash \n",
    "workdir=\"/home/jupyter/workspace/ws_files/GP2_R8_dystonia\"\n",
    "\n",
    "head ${workdir}/results/wgs_final_CAH.annovar.hg38_multianno.txt"
   ]
  },
  {
   "cell_type": "code",
   "execution_count": null,
   "id": "9263588b-fdff-4333-b6da-b5e067c55735",
   "metadata": {
    "tags": []
   },
   "outputs": [],
   "source": [
    "workdir=\"/home/jupyter/workspace/ws_files/GP2_R8_dystonia\"\n",
    "# Show columns of multianno.txt output file\n",
    "anno=pd.read_csv(f'{workdir}/results/wgs_final_CAH.annovar.hg38_multianno.txt',sep='\\t',dtype=str)\n",
    "\n",
    "#find variant id col:\n",
    "anno['Otherinfo6']"
   ]
  },
  {
   "cell_type": "code",
   "execution_count": null,
   "id": "e6726561-9e8a-422e-83ec-a41e6854ac7f",
   "metadata": {
    "scrolled": true,
    "tags": []
   },
   "outputs": [],
   "source": [
    "anno.columns.tolist()"
   ]
  },
  {
   "cell_type": "code",
   "execution_count": null,
   "id": "66b7c5e3-f675-47bc-a1d1-b28683f0e4fc",
   "metadata": {
    "scrolled": true,
    "tags": []
   },
   "outputs": [],
   "source": [
    "# select the cols to keep\n",
    "basic_cols= anno.columns.tolist()[0:10]\n",
    "additional_cols_to_keep=['Otherinfo6',\n",
    "                         'gnomad41_genome_fafmax_faf95_max',\n",
    "                         'CLNDN',\n",
    "                         'CLNSIG',\n",
    "                         'CADD_phred']\n",
    "            \n",
    "all_cols_to_keep= basic_cols+ additional_cols_to_keep\n",
    "all_cols_to_keep"
   ]
  },
  {
   "cell_type": "code",
   "execution_count": null,
   "id": "5cc1f00a-02b8-413a-94a5-f1c50caff89b",
   "metadata": {
    "tags": []
   },
   "outputs": [],
   "source": [
    "# subset the columns\n",
    "CAH_df=anno[all_cols_to_keep]\n",
    "\n",
    "#rename col\n",
    "CAH_df.rename({'Otherinfo6':'var_id'},axis=1,inplace=True)\n",
    "\n",
    "CAH_df"
   ]
  },
  {
   "cell_type": "code",
   "execution_count": null,
   "id": "b2f1e4f8-7e93-4fad-860e-b2ac67188001",
   "metadata": {
    "tags": []
   },
   "outputs": [],
   "source": [
    "# Count occurrences of each value\n",
    "value_counts = CAH_df[\"ExonicFunc.refGene\"].value_counts()\n",
    "\n",
    "# Display counts\n",
    "print(value_counts)"
   ]
  },
  {
   "cell_type": "markdown",
   "id": "7090bfd5-5e91-4d4f-93ca-e0587960a1f9",
   "metadata": {},
   "source": [
    "#### Filter variants"
   ]
  },
  {
   "cell_type": "code",
   "execution_count": null,
   "id": "41ea88d0-cc7f-45e9-b7ba-d1cad3d8c188",
   "metadata": {
    "tags": []
   },
   "outputs": [],
   "source": [
    "# Define the values you want to keep\n",
    "keep_values = [\"exonic\", \"splicing\", \"exonic;splicing\"]  # Add more if needed\n",
    "\n",
    "# Subset the dataframe\n",
    "filtered_CAH_df = CAH_df[CAH_df[\"Func.refGene\"].isin(keep_values)]\n",
    "\n",
    "# Display the filtered dataframe\n",
    "print (filtered_CAH_df.head())"
   ]
  },
  {
   "cell_type": "code",
   "execution_count": null,
   "id": "7b8a23e6-b343-4b5b-b7d5-aa4362d51704",
   "metadata": {
    "tags": []
   },
   "outputs": [],
   "source": [
    "# Filter out synonymous SNVs\n",
    "filtered_CAH_df = filtered_CAH_df[filtered_CAH_df[\"ExonicFunc.refGene\"] != \"synonymous SNV\"]\n",
    "\n",
    "# Display the filtered dataframe\n",
    "print (filtered_CAH_df.head())"
   ]
  },
  {
   "cell_type": "code",
   "execution_count": null,
   "id": "9f03009d-ec3d-4818-9157-f163bfdbc5ba",
   "metadata": {
    "tags": []
   },
   "outputs": [],
   "source": [
    "# Save the filtered output\n",
    "filtered_CAH_df.to_csv(f\"{workdir}/results/filtered_multianno_CAH.tsv\", sep=\"\\t\", index=False)\n",
    "\n",
    "# write out var_id to extract from plink files\n",
    "filtered_CAH_df['var_id'].to_csv(f\"{workdir}/results/CAH_var_to_extract.txt\",index=False,header=False)"
   ]
  },
  {
   "cell_type": "markdown",
   "id": "c750f6b2-b30a-433f-8d39-ce97977c5d28",
   "metadata": {
    "tags": []
   },
   "source": [
    "#### Extract carrier IDs and genotypes"
   ]
  },
  {
   "cell_type": "markdown",
   "id": "227e8120-16ee-4982-932a-f56bd31eacbb",
   "metadata": {},
   "source": [
    "I would just extract the variants you are interested from the annovar annotation, and you can start from the plink files generated from the merge"
   ]
  },
  {
   "cell_type": "code",
   "execution_count": null,
   "id": "46e670ac-281c-4afa-bc08-ffd9bd863fe8",
   "metadata": {
    "tags": []
   },
   "outputs": [],
   "source": [
    "%%bash\n",
    "workdir=\"/home/jupyter/workspace/ws_files/GP2_R8_dystonia\"\n",
    "TEMP_DIR=\"/home/jupyter/workspace/ws_files/GP2_R8_dystonia/temp_files\"\n",
    "Ancestry=\"CAH\"\n",
    "\n",
    "~/tools/plink2 --pfile ${TEMP_DIR}/${Ancestry} \\\n",
    "               --extract ${workdir}/results/${Ancestry}_var_to_extract.txt \\\n",
    "               --recode A \\\n",
    "               --out ${TEMP_DIR}/${Ancestry}_geno         "
   ]
  },
  {
   "cell_type": "code",
   "execution_count": null,
   "id": "1ef7d001-9f71-4cb0-8fc0-4aae507e53d6",
   "metadata": {
    "tags": []
   },
   "outputs": [],
   "source": [
    "TEMP_DIR=\"/home/jupyter/workspace/ws_files/GP2_R8_dystonia/temp_files\"\n",
    "Ancestry=\"CAH\"\n",
    "\n",
    "cah_var = pd.read_csv(f'{TEMP_DIR}/{Ancestry}_geno.raw', sep='\\s+')\n",
    "cah_var"
   ]
  },
  {
   "cell_type": "markdown",
   "id": "9d39f367-a2c0-4e10-8a42-6d87c741a5f0",
   "metadata": {},
   "source": [
    "From here you can run similar code for NBA to collect variant carriers "
   ]
  },
  {
   "cell_type": "code",
   "execution_count": null,
   "id": "0f22a431-c16e-4e2f-87eb-257b69ebeaad",
   "metadata": {
    "tags": []
   },
   "outputs": [],
   "source": [
    "# transpose the dataframe to be row as variants and columns as samples\n",
    "var_col=cah_var.columns[6:len(cah_var)]\n",
    "d = cah_var.drop(columns=['FID','PAT','MAT','SEX','PHENOTYPE'])\n",
    "sample=cah_var[['IID','PHENOTYPE']]\n",
    "\n",
    "#Filtering rows where any value in var_col is ≤1 (either het or hom)\n",
    "t=d[(d[var_col]<=1).any(axis=1)].T\n",
    "t.columns = t.iloc[0]\n",
    "t=t.iloc[1:]\n",
    "t.reset_index(inplace=True)\n",
    "\n",
    "t"
   ]
  },
  {
   "cell_type": "code",
   "execution_count": null,
   "id": "aff580d4-c760-4daa-98e7-1d16a20dc40e",
   "metadata": {
    "tags": []
   },
   "outputs": [],
   "source": [
    "#strip the last '_${ref_allele}', so we can keep the same variant id as in annotation \n",
    "t['index'] = t['index'].str.rsplit('_', n=1).str[0]\n",
    "t.rename({'index':'var_id'},axis=1,inplace=True)\n",
    "t"
   ]
  },
  {
   "cell_type": "code",
   "execution_count": null,
   "id": "fdbc4bf7-1b26-41d8-8361-cb2fb7afac69",
   "metadata": {
    "tags": []
   },
   "outputs": [],
   "source": [
    "t['hom_carrier'] = t.apply(lambda row: row[row == 0].index.tolist() , axis=1)\n",
    "t['het_carrier'] = t.apply(lambda row: row[row == 1].index.tolist() , axis=1)  \n",
    "\n",
    "# store hom and het seperately to later explode the dataframe correctly\n",
    "hom = t[['var_id','hom_carrier']]\n",
    "het = t[['var_id','het_carrier']]"
   ]
  },
  {
   "cell_type": "code",
   "execution_count": null,
   "id": "5d85829c-d06a-4a11-bca9-41a268330a24",
   "metadata": {
    "tags": []
   },
   "outputs": [],
   "source": [
    "# check hom as example what to expect\n",
    "hom"
   ]
  },
  {
   "cell_type": "code",
   "execution_count": null,
   "id": "c0b0e0c6-80fa-4053-910e-b15f6249625e",
   "metadata": {
    "tags": []
   },
   "outputs": [],
   "source": [
    "# split the carrier id from the list and each to a row\n",
    "hom = hom.explode('hom_carrier', ignore_index=True)\n",
    "\n",
    "hom"
   ]
  },
  {
   "cell_type": "code",
   "execution_count": null,
   "id": "7a6132df-8569-459a-bc10-93502410548e",
   "metadata": {
    "tags": []
   },
   "outputs": [],
   "source": [
    "# keep just the variants with carriers\n",
    "hom= hom.loc[~hom['hom_carrier'].isnull()]\n",
    "\n",
    "hom"
   ]
  },
  {
   "cell_type": "code",
   "execution_count": null,
   "id": "38258d04-794a-45a4-b4fc-734320a5605d",
   "metadata": {
    "tags": []
   },
   "outputs": [],
   "source": [
    "#merge with annotation\n",
    "out_hom = pd.merge(hom,filtered_CAH_df, on='var_id',how='left')\n",
    "out_hom['zygosity'] = 'hom'\n",
    "\n",
    "#rename col\n",
    "out_hom.rename({'hom_carrier':'carrier_id'},axis=1,inplace=True)\n",
    "\n",
    "out_hom"
   ]
  },
  {
   "cell_type": "code",
   "execution_count": null,
   "id": "d9ad9540-9a09-4325-a5f9-8205808217fe",
   "metadata": {
    "tags": []
   },
   "outputs": [],
   "source": [
    "#repeat the same for het\n",
    "het = het.explode('het_carrier', ignore_index=True)\n",
    "het= het.loc[~het['het_carrier'].isnull()]\n",
    "\n",
    "het"
   ]
  },
  {
   "cell_type": "code",
   "execution_count": null,
   "id": "a170097e-b960-479c-a3bd-d89bc4cf7c57",
   "metadata": {
    "tags": []
   },
   "outputs": [],
   "source": [
    "#merge with annotation\n",
    "out_het = pd.merge(het,filtered_CAH_df, on='var_id',how='left')\n",
    "out_het['zygosity'] = 'het'\n",
    "\n",
    "#rename col\n",
    "out_het.rename({'het_carrier':'carrier_id'},axis=1,inplace=True)\n",
    "\n",
    "out_het"
   ]
  },
  {
   "cell_type": "code",
   "execution_count": null,
   "id": "d0625d37-17d5-4945-aaa7-9a5ff8e5ba38",
   "metadata": {
    "tags": []
   },
   "outputs": [],
   "source": [
    "# check if there's any comphet by grouping gene and sample_id\n",
    "pd.concat(g for _, g in out_het.groupby([\"Gene.refGene\",\"carrier_id\"]) if len(g) > 1)"
   ]
  },
  {
   "cell_type": "code",
   "execution_count": null,
   "id": "deb1e3ed-432c-49b4-a158-49c260f16bc6",
   "metadata": {
    "tags": []
   },
   "outputs": [],
   "source": [
    "# write out comphet\n",
    "comphet = pd.concat(g for _, g in out_het.groupby([\"Gene.refGene\",\"carrier_id\"]) if len(g) > 1)\n",
    "comphet['zygosity'] = 'comphet'"
   ]
  },
  {
   "cell_type": "code",
   "execution_count": null,
   "id": "c721b04e-b035-4591-99a1-188ddd256d40",
   "metadata": {
    "tags": []
   },
   "outputs": [],
   "source": [
    "# get everything and write out\n",
    "merged_df_CAH = pd.concat([out_het,out_hom,comphet],axis=0)\n",
    "\n",
    "# Save the dataset\n",
    "merged_df_CAH.to_csv(f\"{workdir}/results/merged_genotypes_dystonia_CAH.tsv\",sep='\\t',index=False)"
   ]
  },
  {
   "cell_type": "markdown",
   "id": "07c7a0cc-b646-406a-a209-ae3f643cbc4e",
   "metadata": {
    "tags": []
   },
   "source": [
    "### CAS"
   ]
  },
  {
   "cell_type": "code",
   "execution_count": null,
   "id": "d61c8d85-7953-4d4c-a030-f50526e4b9ea",
   "metadata": {
    "tags": []
   },
   "outputs": [],
   "source": [
    "# find unique chromosomes in bed files\n",
    "unique_chr=bed['chr'].unique().tolist()\n",
    "unique_chr"
   ]
  },
  {
   "cell_type": "code",
   "execution_count": null,
   "id": "cd504f40-fd60-4baa-8626-30ae6cfefe65",
   "metadata": {
    "scrolled": true,
    "tags": []
   },
   "outputs": [],
   "source": [
    "#define all the variables\n",
    "\n",
    "INPUT_PLINK_DIR=\"/home/jupyter/workspace/path/to/release8/wgs/deepvariant_joint_calling/plink\"\n",
    "PLINK2_PATH=\"/home/jupyter/tools/plink2\"\n",
    "dir_bed=\"/home/jupyter/workspace/ws_files/GP2_R8_dystonia/bed_files\"\n",
    "TEMP_DIR=\"/home/jupyter/workspace/ws_files/GP2_R8_dystonia/temp_files\"\n",
    "Ancestry=\"CAS\"\n",
    "\n",
    "# extract variants we need from each chromosome\n",
    "for chrom in unique_chr:    \n",
    "    # make the output directory if not exist\n",
    "    os.makedirs(f'{TEMP_DIR}/{Ancestry}', exist_ok=True)\n",
    "    \n",
    "    # Construct the command as a list \n",
    "    # keep only variants with maf <0.05 in the dataset to keep the files small\n",
    "    # since frequent variants are not we are interested in\n",
    "    cmd = [\n",
    "        PLINK2_PATH,\n",
    "        \"--pfile\", f\"{INPUT_PLINK_DIR}/{Ancestry}/{chrom}_{Ancestry}_release8\",\n",
    "        \"--mac\", \"1\",\n",
    "        \"--extract\", \"bed1\", f\"{dir_bed}/{chrom}.bed\",\n",
    "        \"--make-pgen\",\n",
    "        \"--out\", f\"{TEMP_DIR}/{Ancestry}/{chrom}\"\n",
    "    ]\n",
    "\n",
    "    subprocess.run(cmd, check=True)"
   ]
  },
  {
   "cell_type": "code",
   "execution_count": null,
   "id": "bf3947d6-d1bf-4496-a71e-68e1e17d3439",
   "metadata": {
    "tags": []
   },
   "outputs": [],
   "source": [
    "%%bash\n",
    "\n",
    "TEMP_DIR=\"/home/jupyter/workspace/ws_files/GP2_R8_dystonia/temp_files\"\n",
    "Ancestry=\"CAS\"\n",
    "\n",
    "# merge all the chrs and convert the final file to vcf\n",
    "# for merging across pfiles https://www.cog-genomics.org/plink/2.0/data\n",
    "\n",
    "# list the files, sort by chromosome and remove .pgen from the filename\n",
    "ls ${TEMP_DIR}/${Ancestry}/*.pgen | sort -V  | sed 's/\\.pgen//g' > ${TEMP_DIR}/${Ancestry}_pfiles.list\n",
    "\n",
    "~/tools/plink2 --pmerge-list ${TEMP_DIR}/${Ancestry}_pfiles.list \\\n",
    "                           --recode vcf \\\n",
    "                           --out ${TEMP_DIR}/${Ancestry}"
   ]
  },
  {
   "cell_type": "code",
   "execution_count": null,
   "id": "1fc3d807-754e-4f3a-83bf-b689caefaf00",
   "metadata": {
    "tags": []
   },
   "outputs": [],
   "source": [
    "%%bash\n",
    "# bgzip the vcf\n",
    "TEMP_DIR=\"/home/jupyter/workspace/ws_files/GP2_R8_dystonia/temp_files\"\n",
    "Ancestry=\"CAS\"\n",
    "\n",
    "bgzip -c ${TEMP_DIR}/${Ancestry}.vcf > ${TEMP_DIR}/annovar_input_${Ancestry}.vcf.gz\n",
    "tabix -p vcf ${TEMP_DIR}/annovar_input_${Ancestry}.vcf.gz"
   ]
  },
  {
   "cell_type": "code",
   "execution_count": null,
   "id": "a1b76c80-f9a1-4476-8042-a0643419e83f",
   "metadata": {
    "tags": []
   },
   "outputs": [],
   "source": [
    "%%bash\n",
    "\n",
    "workdir=\"/home/jupyter/workspace/ws_files/GP2_R8_dystonia\"\n",
    "mkdir -p ${workdir}/results\n",
    "\n",
    "# Run ANNOVAR annotation\n",
    "perl ~/tools/annovar/table_annovar.pl \\\n",
    "     ${workdir}/temp_files/annovar_input_CAS.vcf.gz \\\n",
    "    /home/jupyter/tools/annovar/humandb/ \\\n",
    "    -buildver hg38 \\\n",
    "    -out ${workdir}/results/wgs_final_CAS.annovar \\\n",
    "    -remove \\\n",
    "    -protocol refGene,gnomad41_genome,clinvar_20240917,dbnsfp47a \\\n",
    "    -operation g,f,f,f \\\n",
    "    -nastring . \\\n",
    "    -polish \\\n",
    "    -vcfinput"
   ]
  },
  {
   "cell_type": "code",
   "execution_count": null,
   "id": "232eecf7-53f8-46a3-bf6b-76d4d22134f6",
   "metadata": {
    "tags": []
   },
   "outputs": [],
   "source": [
    "%%bash \n",
    "workdir=\"/home/jupyter/workspace/ws_files/GP2_R8_dystonia\"\n",
    "\n",
    "head ${workdir}/results/wgs_final_CAS.annovar.hg38_multianno.txt"
   ]
  },
  {
   "cell_type": "code",
   "execution_count": null,
   "id": "a5120df6-3cd5-49af-ad9d-768599198776",
   "metadata": {
    "tags": []
   },
   "outputs": [],
   "source": [
    "workdir=\"/home/jupyter/workspace/ws_files/GP2_R8_dystonia\"\n",
    "# Show columns of multianno.txt output file\n",
    "anno=pd.read_csv(f'{workdir}/results/wgs_final_CAS.annovar.hg38_multianno.txt',sep='\\t',dtype=str)\n",
    "\n",
    "#find variant id col:\n",
    "anno['Otherinfo6']"
   ]
  },
  {
   "cell_type": "code",
   "execution_count": null,
   "id": "879e732f-ad9c-483f-9957-bc52a3b79e9b",
   "metadata": {
    "scrolled": true,
    "tags": []
   },
   "outputs": [],
   "source": [
    "anno.columns.tolist()"
   ]
  },
  {
   "cell_type": "code",
   "execution_count": null,
   "id": "2fee07e3-8d5a-41d5-af8e-cf1594972e41",
   "metadata": {
    "scrolled": true,
    "tags": []
   },
   "outputs": [],
   "source": [
    "# select the cols to keep\n",
    "basic_cols= anno.columns.tolist()[0:10]\n",
    "additional_cols_to_keep=['Otherinfo6',\n",
    "                         'gnomad41_genome_fafmax_faf95_max',\n",
    "                         'CLNDN',\n",
    "                         'CLNSIG',\n",
    "                         'CADD_phred']\n",
    "            \n",
    "all_cols_to_keep= basic_cols+ additional_cols_to_keep\n",
    "all_cols_to_keep"
   ]
  },
  {
   "cell_type": "code",
   "execution_count": null,
   "id": "f0951ff5-32e9-425d-b392-d906b394ed6d",
   "metadata": {
    "tags": []
   },
   "outputs": [],
   "source": [
    "# subset the columns\n",
    "CAS_df=anno[all_cols_to_keep]\n",
    "\n",
    "#rename col\n",
    "CAS_df.rename({'Otherinfo6':'var_id'},axis=1,inplace=True)\n",
    "\n",
    "CAS_df"
   ]
  },
  {
   "cell_type": "code",
   "execution_count": null,
   "id": "cb1fdfc7-6729-4fb3-b22a-ce45e5a925c6",
   "metadata": {
    "tags": []
   },
   "outputs": [],
   "source": [
    "# Count occurrences of each value\n",
    "value_counts = CAS_df[\"ExonicFunc.refGene\"].value_counts()\n",
    "\n",
    "# Display counts\n",
    "print(value_counts)"
   ]
  },
  {
   "cell_type": "markdown",
   "id": "1977217f-cea0-43b0-af9c-95af192bbfe5",
   "metadata": {},
   "source": [
    "#### Filter variants"
   ]
  },
  {
   "cell_type": "code",
   "execution_count": null,
   "id": "0235d8d4-1f30-4b8d-95b9-469492694557",
   "metadata": {
    "tags": []
   },
   "outputs": [],
   "source": [
    "# Define the values you want to keep\n",
    "keep_values = [\"exonic\", \"splicing\", \"exonic;splicing\"]  # Add more if needed\n",
    "\n",
    "# Subset the dataframe\n",
    "filtered_CAS_df = CAS_df[CAS_df[\"Func.refGene\"].isin(keep_values)]\n",
    "\n",
    "# Display the filtered dataframe\n",
    "print (filtered_CAS_df.head())"
   ]
  },
  {
   "cell_type": "code",
   "execution_count": null,
   "id": "f42a18b1-3936-4d0a-903c-49ab1d295a3a",
   "metadata": {
    "tags": []
   },
   "outputs": [],
   "source": [
    "# Filter out synonymous SNVs\n",
    "filtered_CAS_df = filtered_CAS_df[filtered_CAS_df[\"ExonicFunc.refGene\"] != \"synonymous SNV\"]\n",
    "\n",
    "# Display the filtered dataframe\n",
    "print (filtered_CAS_df.head())"
   ]
  },
  {
   "cell_type": "code",
   "execution_count": null,
   "id": "f5bb1e47-2db9-4b0f-a9fc-2e3f13ea158b",
   "metadata": {
    "tags": []
   },
   "outputs": [],
   "source": [
    "# Save the filtered output\n",
    "filtered_CAS_df.to_csv(f\"{workdir}/results/filtered_multianno_CAS.tsv\", sep=\"\\t\", index=False)\n",
    "\n",
    "# write out var_id to extract from plink files\n",
    "filtered_CAS_df['var_id'].to_csv(f\"{workdir}/results/CAS_var_to_extract.txt\",index=False,header=False)"
   ]
  },
  {
   "cell_type": "markdown",
   "id": "1d045cc0-a498-4a9b-9068-0aaf2b4697da",
   "metadata": {
    "tags": []
   },
   "source": [
    "#### Extract carrier IDs and genotypes"
   ]
  },
  {
   "cell_type": "markdown",
   "id": "1c3da16d-0592-4f2d-8ab0-e5abf2e9983c",
   "metadata": {},
   "source": [
    "I would just extract the variants you are interested from the annovar annotation, and you can start from the plink files generated from the merge"
   ]
  },
  {
   "cell_type": "code",
   "execution_count": null,
   "id": "c213de34-42eb-463a-85ea-6df39772d5ac",
   "metadata": {
    "tags": []
   },
   "outputs": [],
   "source": [
    "%%bash\n",
    "workdir=\"/home/jupyter/workspace/ws_files/GP2_R8_dystonia\"\n",
    "TEMP_DIR=\"/home/jupyter/workspace/ws_files/GP2_R8_dystonia/temp_files\"\n",
    "Ancestry=\"CAS\"\n",
    "\n",
    "~/tools/plink2 --pfile ${TEMP_DIR}/${Ancestry} \\\n",
    "               --extract ${workdir}/results/${Ancestry}_var_to_extract.txt \\\n",
    "               --recode A \\\n",
    "               --out ${TEMP_DIR}/${Ancestry}_geno              "
   ]
  },
  {
   "cell_type": "code",
   "execution_count": null,
   "id": "8004fb47-472a-42d2-bba7-109626ddc07e",
   "metadata": {
    "tags": []
   },
   "outputs": [],
   "source": [
    "TEMP_DIR=\"/home/jupyter/workspace/ws_files/GP2_R8_dystonia/temp_files\"\n",
    "Ancestry=\"CAS\"\n",
    "\n",
    "cas_var = pd.read_csv(f'{TEMP_DIR}/{Ancestry}_geno.raw', sep='\\s+')\n",
    "cas_var"
   ]
  },
  {
   "cell_type": "markdown",
   "id": "0ffddef5-3443-42d1-ad39-fac45df5e463",
   "metadata": {},
   "source": [
    "From here you can run similar code for NBA to collect variant carriers "
   ]
  },
  {
   "cell_type": "code",
   "execution_count": null,
   "id": "8e76d2e0-c498-46c1-b711-5007b346c10f",
   "metadata": {
    "tags": []
   },
   "outputs": [],
   "source": [
    "# transpose the dataframe to be row as variants and columns as samples\n",
    "var_col=cas_var.columns[6:len(cas_var)]\n",
    "d = cas_var.drop(columns=['FID','PAT','MAT','SEX','PHENOTYPE'])\n",
    "sample=cas_var[['IID','PHENOTYPE']]\n",
    "\n",
    "#Filtering rows where any value in var_col is ≤1 (either het or hom)\n",
    "t=d[(d[var_col]<=1).any(axis=1)].T\n",
    "t.columns = t.iloc[0]\n",
    "t=t.iloc[1:]\n",
    "t.reset_index(inplace=True)\n",
    "\n",
    "t"
   ]
  },
  {
   "cell_type": "code",
   "execution_count": null,
   "id": "3d569924-5b02-487a-9cc9-769a6948b2f6",
   "metadata": {
    "tags": []
   },
   "outputs": [],
   "source": [
    "#strip the last '_${ref_allele}', so we can keep the same variant id as in annotation \n",
    "t['index'] = t['index'].str.rsplit('_', n=1).str[0]\n",
    "t.rename({'index':'var_id'},axis=1,inplace=True)\n",
    "t"
   ]
  },
  {
   "cell_type": "code",
   "execution_count": null,
   "id": "ee18ca07-876e-43ac-9513-fcae9c0b6d76",
   "metadata": {
    "tags": []
   },
   "outputs": [],
   "source": [
    "t['hom_carrier'] = t.apply(lambda row: row[row == 0].index.tolist() , axis=1)\n",
    "t['het_carrier'] = t.apply(lambda row: row[row == 1].index.tolist() , axis=1)  \n",
    "\n",
    "# store hom and het seperately to later explode the dataframe correctly\n",
    "hom = t[['var_id','hom_carrier']]\n",
    "het = t[['var_id','het_carrier']]"
   ]
  },
  {
   "cell_type": "code",
   "execution_count": null,
   "id": "149b6873-87d9-4142-814b-57fecaf5c283",
   "metadata": {
    "tags": []
   },
   "outputs": [],
   "source": [
    "# check hom as example what to expect\n",
    "hom"
   ]
  },
  {
   "cell_type": "code",
   "execution_count": null,
   "id": "f39b7323-6d93-469e-b60c-6d8cb1b07049",
   "metadata": {
    "tags": []
   },
   "outputs": [],
   "source": [
    "# split the carrier id from the list and each to a row\n",
    "hom = hom.explode('hom_carrier', ignore_index=True)\n",
    "\n",
    "hom"
   ]
  },
  {
   "cell_type": "code",
   "execution_count": null,
   "id": "f4cfe055-6509-40db-967e-467199943ee6",
   "metadata": {
    "tags": []
   },
   "outputs": [],
   "source": [
    "# keep just the variants with carriers\n",
    "hom= hom.loc[~hom['hom_carrier'].isnull()]\n",
    "\n",
    "hom"
   ]
  },
  {
   "cell_type": "code",
   "execution_count": null,
   "id": "0cc2ccb2-1f88-4e71-aa38-5694e9e151b4",
   "metadata": {
    "tags": []
   },
   "outputs": [],
   "source": [
    "#merge with annotation\n",
    "out_hom = pd.merge(hom,filtered_CAS_df, on='var_id',how='left')\n",
    "out_hom['zygosity'] = 'hom'\n",
    "\n",
    "#rename col\n",
    "out_hom.rename({'hom_carrier':'carrier_id'},axis=1,inplace=True)\n",
    "\n",
    "out_hom"
   ]
  },
  {
   "cell_type": "code",
   "execution_count": null,
   "id": "2474efd7-6cb8-47b6-ae50-bb3e4b6b94d6",
   "metadata": {
    "tags": []
   },
   "outputs": [],
   "source": [
    "#repeat the same for het\n",
    "het = het.explode('het_carrier', ignore_index=True)\n",
    "het= het.loc[~het['het_carrier'].isnull()]\n",
    "\n",
    "het"
   ]
  },
  {
   "cell_type": "code",
   "execution_count": null,
   "id": "cb846237-b252-4e6d-8b08-e240c541ba87",
   "metadata": {
    "tags": []
   },
   "outputs": [],
   "source": [
    "#merge with annotation\n",
    "out_het = pd.merge(het,filtered_CAS_df, on='var_id',how='left')\n",
    "out_het['zygosity'] = 'het'\n",
    "\n",
    "#rename col\n",
    "out_het.rename({'het_carrier':'carrier_id'},axis=1,inplace=True)\n",
    "\n",
    "out_het"
   ]
  },
  {
   "cell_type": "code",
   "execution_count": null,
   "id": "386a2d48-77ee-4a25-a1ca-29e2156b8a45",
   "metadata": {
    "tags": []
   },
   "outputs": [],
   "source": [
    "# check if there's any comphet by grouping gene and sample_id\n",
    "pd.concat(g for _, g in out_het.groupby([\"Gene.refGene\",\"carrier_id\"]) if len(g) > 1)"
   ]
  },
  {
   "cell_type": "code",
   "execution_count": null,
   "id": "6ff3dd9a-c63c-4fff-b710-ac41c55844c1",
   "metadata": {
    "tags": []
   },
   "outputs": [],
   "source": [
    "# write out comphet\n",
    "comphet = pd.concat(g for _, g in out_het.groupby([\"Gene.refGene\",\"carrier_id\"]) if len(g) > 1)\n",
    "comphet['zygosity'] = 'comphet'"
   ]
  },
  {
   "cell_type": "code",
   "execution_count": null,
   "id": "f92b7f40-e9d0-4055-954c-0ed0f6f52254",
   "metadata": {
    "tags": []
   },
   "outputs": [],
   "source": [
    "# get everything and write out\n",
    "merged_df_CAS = pd.concat([out_het,out_hom,comphet],axis=0)\n",
    "\n",
    "# Save the dataset\n",
    "merged_df_CAS.to_csv(f\"{workdir}/results/merged_genotype_dystonias_CAS.tsv\",sep='\\t',index=False)"
   ]
  },
  {
   "cell_type": "markdown",
   "id": "21fd1d33-a840-4fc7-a8ef-7f2e9e8a0dfd",
   "metadata": {
    "tags": []
   },
   "source": [
    "### EAS"
   ]
  },
  {
   "cell_type": "code",
   "execution_count": null,
   "id": "84f47439-5cc8-4ccc-bf05-d40a6a594a0a",
   "metadata": {
    "tags": []
   },
   "outputs": [],
   "source": [
    "# find unique chromosomes in bed files\n",
    "unique_chr=bed['chr'].unique().tolist()\n",
    "unique_chr"
   ]
  },
  {
   "cell_type": "code",
   "execution_count": null,
   "id": "ac56aee4-a99f-40de-8d9d-07f623024a90",
   "metadata": {
    "scrolled": true,
    "tags": []
   },
   "outputs": [],
   "source": [
    "#define all the variables\n",
    "\n",
    "INPUT_PLINK_DIR=\"/home/jupyter/workspace/gp2_tier2_eu_release8_13092024/wgs/deepvariant_joint_calling/plink\"\n",
    "PLINK2_PATH=\"/home/jupyter/tools/plink2\"\n",
    "dir_bed=\"/home/jupyter/workspace/ws_files/GP2_R8_dystonia/bed_files\"\n",
    "TEMP_DIR=\"/home/jupyter/workspace/ws_files/GP2_R8_dystonia/temp_files\"\n",
    "Ancestry=\"EAS\"\n",
    "\n",
    "# extract variants we need from each chromosome\n",
    "for chrom in unique_chr:    \n",
    "    # make the output directory if not exist\n",
    "    os.makedirs(f'{TEMP_DIR}/{Ancestry}', exist_ok=True)\n",
    "    \n",
    "    # Construct the command as a list \n",
    "    # keep only variants with maf <0.05 in the dataset to keep the files small\n",
    "    # since frequent variants are not we are interested in\n",
    "    cmd = [\n",
    "        PLINK2_PATH,\n",
    "        \"--pfile\", f\"{INPUT_PLINK_DIR}/{Ancestry}/{chrom}_{Ancestry}_release8\",\n",
    "        \"--mac\", \"1\",\n",
    "        \"--extract\", \"bed1\", f\"{dir_bed}/{chrom}.bed\",\n",
    "        \"--make-pgen\",\n",
    "        \"--out\", f\"{TEMP_DIR}/{Ancestry}/{chrom}\"\n",
    "    ]\n",
    "\n",
    "    subprocess.run(cmd, check=True)"
   ]
  },
  {
   "cell_type": "code",
   "execution_count": null,
   "id": "2131cede-ab7c-43bd-ad82-5f5fcc7d8be1",
   "metadata": {
    "tags": []
   },
   "outputs": [],
   "source": [
    "%%bash\n",
    "\n",
    "TEMP_DIR=\"/home/jupyter/workspace/ws_files/GP2_R8_dystonia/temp_files\"\n",
    "Ancestry=\"EAS\"\n",
    "\n",
    "# merge all the chrs and convert the final file to vcf\n",
    "# for merging across pfiles https://www.cog-genomics.org/plink/2.0/data\n",
    "\n",
    "# list the files, sort by chromosome and remove .pgen from the filename\n",
    "ls ${TEMP_DIR}/${Ancestry}/*.pgen | sort -V  | sed 's/\\.pgen//g' > ${TEMP_DIR}/${Ancestry}_pfiles.list\n",
    "\n",
    "~/tools/plink2 --pmerge-list ${TEMP_DIR}/${Ancestry}_pfiles.list \\\n",
    "                           --recode vcf \\\n",
    "                           --out ${TEMP_DIR}/${Ancestry}"
   ]
  },
  {
   "cell_type": "code",
   "execution_count": null,
   "id": "e9db6f09-a09f-464f-b482-0f4f7327a7a9",
   "metadata": {
    "tags": []
   },
   "outputs": [],
   "source": [
    "%%bash\n",
    "# bgzip the vcf\n",
    "TEMP_DIR=\"/home/jupyter/workspace/ws_files/GP2_R8_dystonia/temp_files\"\n",
    "Ancestry=\"EAS\"\n",
    "\n",
    "bgzip -c ${TEMP_DIR}/${Ancestry}.vcf > ${TEMP_DIR}/annovar_input_${Ancestry}.vcf.gz\n",
    "tabix -p vcf ${TEMP_DIR}/annovar_input_${Ancestry}.vcf.gz"
   ]
  },
  {
   "cell_type": "code",
   "execution_count": null,
   "id": "e8724f41-7251-48b2-be10-6931316f6641",
   "metadata": {
    "tags": []
   },
   "outputs": [],
   "source": [
    "%%bash\n",
    "\n",
    "workdir=\"/home/jupyter/workspace/ws_files/GP2_R8_dystonia\"\n",
    "mkdir -p ${workdir}/results\n",
    "\n",
    "# Run ANNOVAR annotation\n",
    "perl ~/tools/annovar/table_annovar.pl \\\n",
    "     ${workdir}/temp_files/annovar_input_EAS.vcf.gz \\\n",
    "    /home/jupyter/tools/annovar/humandb/ \\\n",
    "    -buildver hg38 \\\n",
    "    -out ${workdir}/results/wgs_final_EAS.annovar \\\n",
    "    -remove \\\n",
    "    -protocol refGene,gnomad41_genome,clinvar_20240917,dbnsfp47a \\\n",
    "    -operation g,f,f,f \\\n",
    "    -nastring . \\\n",
    "    -polish \\\n",
    "    -vcfinput"
   ]
  },
  {
   "cell_type": "code",
   "execution_count": null,
   "id": "ff5d6bf0-1c60-44eb-81dc-fbb2c7f16e0a",
   "metadata": {
    "tags": []
   },
   "outputs": [],
   "source": [
    "%%bash \n",
    "workdir=\"/home/jupyter/workspace/ws_files/GP2_R8_dystonia\"\n",
    "\n",
    "head ${workdir}/results/wgs_final_EAS.annovar.hg38_multianno.txt"
   ]
  },
  {
   "cell_type": "code",
   "execution_count": null,
   "id": "b60571dd-de1c-4ca4-8bbd-10a6dce22645",
   "metadata": {
    "tags": []
   },
   "outputs": [],
   "source": [
    "workdir=\"/home/jupyter/workspace/ws_files/GP2_R8_dystonia\"\n",
    "# Show columns of multianno.txt output file\n",
    "anno=pd.read_csv(f'{workdir}/results/wgs_final_EAS.annovar.hg38_multianno.txt',sep='\\t',dtype=str)\n",
    "\n",
    "#find variant id col:\n",
    "anno['Otherinfo6']"
   ]
  },
  {
   "cell_type": "code",
   "execution_count": null,
   "id": "465b0eba-1baa-4884-a96c-e2075af52caa",
   "metadata": {
    "scrolled": true,
    "tags": []
   },
   "outputs": [],
   "source": [
    "anno.columns.tolist()"
   ]
  },
  {
   "cell_type": "code",
   "execution_count": null,
   "id": "80cd5aa6-e68e-4c0c-baf6-20770bcc1b90",
   "metadata": {
    "scrolled": true,
    "tags": []
   },
   "outputs": [],
   "source": [
    "# select the cols to keep\n",
    "basic_cols= anno.columns.tolist()[0:10]\n",
    "additional_cols_to_keep=['Otherinfo6',\n",
    "                         'gnomad41_genome_fafmax_faf95_max',\n",
    "                         'gnomad41_genome_AF_eas',\n",
    "                         'CLNDN',\n",
    "                         'CLNSIG',\n",
    "                         'CADD_phred']\n",
    "            \n",
    "all_cols_to_keep= basic_cols+ additional_cols_to_keep\n",
    "all_cols_to_keep"
   ]
  },
  {
   "cell_type": "code",
   "execution_count": null,
   "id": "7ec4fdfd-bf57-429d-a08d-ddc9d1825b5e",
   "metadata": {
    "tags": []
   },
   "outputs": [],
   "source": [
    "# subset the columns\n",
    "EAS_df=anno[all_cols_to_keep]\n",
    "\n",
    "#rename col\n",
    "EAS_df.rename({'Otherinfo6':'var_id'},axis=1,inplace=True)\n",
    "\n",
    "EAS_df"
   ]
  },
  {
   "cell_type": "code",
   "execution_count": null,
   "id": "a4108d02-e51f-4e41-9e72-832a104b1014",
   "metadata": {
    "tags": []
   },
   "outputs": [],
   "source": [
    "# Count occurrences of each value\n",
    "value_counts = EAS_df[\"ExonicFunc.refGene\"].value_counts()\n",
    "\n",
    "# Display counts\n",
    "print(value_counts)"
   ]
  },
  {
   "cell_type": "markdown",
   "id": "68babecf-af61-4a8e-b6a6-e8e99787fd26",
   "metadata": {},
   "source": [
    "#### Filter variants"
   ]
  },
  {
   "cell_type": "code",
   "execution_count": null,
   "id": "148e5756-f3d4-478f-82d8-0fe3ec9cf1a1",
   "metadata": {
    "tags": []
   },
   "outputs": [],
   "source": [
    "# Define the values you want to keep\n",
    "keep_values = [\"exonic\", \"splicing\", \"exonic;splicing\"]  # Add more if needed\n",
    "\n",
    "# Subset the dataframe\n",
    "filtered_EAS_df = EAS_df[EAS_df[\"Func.refGene\"].isin(keep_values)]\n",
    "\n",
    "# Display the filtered dataframe\n",
    "print (filtered_EAS_df.head())"
   ]
  },
  {
   "cell_type": "code",
   "execution_count": null,
   "id": "e87a9ca2-dc24-4350-805b-a9da17940636",
   "metadata": {
    "tags": []
   },
   "outputs": [],
   "source": [
    "# Filter out synonymous SNVs\n",
    "filtered_EAS_df = filtered_EAS_df[filtered_EAS_df[\"ExonicFunc.refGene\"] != \"synonymous SNV\"]\n",
    "\n",
    "# Display the filtered dataframe\n",
    "print (filtered_EAS_df.head())"
   ]
  },
  {
   "cell_type": "code",
   "execution_count": null,
   "id": "e66d9d1d-a851-4245-a69e-72527a1e61ee",
   "metadata": {
    "tags": []
   },
   "outputs": [],
   "source": [
    "# Save the filtered output\n",
    "filtered_EAS_df.to_csv(f\"{workdir}/results/filtered_multianno_EAS.tsv\", sep=\"\\t\", index=False)\n",
    "\n",
    "# write out var_id to extract from plink files\n",
    "filtered_EAS_df['var_id'].to_csv(f\"{workdir}/results/EAS_var_to_extract.txt\",index=False,header=False)"
   ]
  },
  {
   "cell_type": "markdown",
   "id": "dfe36b98-72da-44d4-b6dd-1c477856621f",
   "metadata": {
    "tags": []
   },
   "source": [
    "#### Extract carrier IDs and genotypes"
   ]
  },
  {
   "cell_type": "markdown",
   "id": "a9567cd0-97bb-46ba-8a00-f7ee89e16fbe",
   "metadata": {},
   "source": [
    "I would just extract the variants you are interested from the annovar annotation, and you can start from the plink files generated from the merge"
   ]
  },
  {
   "cell_type": "code",
   "execution_count": null,
   "id": "db6e7660-22da-439e-a531-d8417d762fb3",
   "metadata": {
    "tags": []
   },
   "outputs": [],
   "source": [
    "%%bash\n",
    "workdir=\"/home/jupyter/workspace/ws_files/GP2_R8_dystonia\"\n",
    "TEMP_DIR=\"/home/jupyter/workspace/ws_files/GP2_R8_dystonia/temp_files\"\n",
    "Ancestry=\"EAS\"\n",
    "\n",
    "~/tools/plink2 --pfile ${TEMP_DIR}/${Ancestry} \\\n",
    "               --extract ${workdir}/results/${Ancestry}_var_to_extract.txt \\\n",
    "               --recode A \\\n",
    "               --out ${TEMP_DIR}/${Ancestry}_geno            "
   ]
  },
  {
   "cell_type": "code",
   "execution_count": null,
   "id": "97a8caf0-a1c2-4337-8b16-49cfb93ce498",
   "metadata": {
    "tags": []
   },
   "outputs": [],
   "source": [
    "TEMP_DIR=\"/home/jupyter/workspace/ws_files/GP2_R8_dystonia/temp_files\"\n",
    "Ancestry=\"EAS\"\n",
    "\n",
    "eas_var = pd.read_csv(f'{TEMP_DIR}/{Ancestry}_geno.raw', sep='\\s+')\n",
    "eas_var"
   ]
  },
  {
   "cell_type": "markdown",
   "id": "972a7750-04a3-4ffe-a784-aab91066cab9",
   "metadata": {},
   "source": [
    "From here you can run similar code for NBA to collect variant carriers "
   ]
  },
  {
   "cell_type": "code",
   "execution_count": null,
   "id": "3200ca40-e18d-490e-a1b0-02c20c4bad71",
   "metadata": {
    "tags": []
   },
   "outputs": [],
   "source": [
    "# transpose the dataframe to be row as variants and columns as samples\n",
    "var_col=eas_var.columns[6:len(eas_var)]\n",
    "d = eas_var.drop(columns=['FID','PAT','MAT','SEX','PHENOTYPE'])\n",
    "sample=eas_var[['IID','PHENOTYPE']]\n",
    "\n",
    "#Filtering rows where any value in var_col is ≤1 (either het or hom)\n",
    "t=d[(d[var_col]<=1).any(axis=1)].T\n",
    "t.columns = t.iloc[0]\n",
    "t=t.iloc[1:]\n",
    "t.reset_index(inplace=True)\n",
    "\n",
    "t"
   ]
  },
  {
   "cell_type": "code",
   "execution_count": null,
   "id": "f4d9fab0-9aaa-4c66-b20d-1e78a43c9420",
   "metadata": {
    "tags": []
   },
   "outputs": [],
   "source": [
    "#strip the last '_${ref_allele}', so we can keep the same variant id as in annotation \n",
    "t['index'] = t['index'].str.rsplit('_', n=1).str[0]\n",
    "t.rename({'index':'var_id'},axis=1,inplace=True)\n",
    "t"
   ]
  },
  {
   "cell_type": "code",
   "execution_count": null,
   "id": "8bddf0cd-b0ca-49b5-afb1-415a2f7633af",
   "metadata": {
    "tags": []
   },
   "outputs": [],
   "source": [
    "t['hom_carrier'] = t.apply(lambda row: row[row == 0].index.tolist() , axis=1)\n",
    "t['het_carrier'] = t.apply(lambda row: row[row == 1].index.tolist() , axis=1)  \n",
    "\n",
    "# store hom and het seperately to later explode the dataframe correctly\n",
    "hom = t[['var_id','hom_carrier']]\n",
    "het = t[['var_id','het_carrier']]"
   ]
  },
  {
   "cell_type": "code",
   "execution_count": null,
   "id": "6894a94c-42c9-4d46-9d72-940b454ff450",
   "metadata": {
    "tags": []
   },
   "outputs": [],
   "source": [
    "# check hom as example what to expect\n",
    "hom"
   ]
  },
  {
   "cell_type": "code",
   "execution_count": null,
   "id": "52886b35-c5d3-453e-8b72-40d1872784fb",
   "metadata": {
    "tags": []
   },
   "outputs": [],
   "source": [
    "# split the carrier id from the list and each to a row\n",
    "hom = hom.explode('hom_carrier', ignore_index=True)\n",
    "\n",
    "hom"
   ]
  },
  {
   "cell_type": "code",
   "execution_count": null,
   "id": "019fafc5-b8d8-49f8-b7a9-5cda59f85b00",
   "metadata": {
    "tags": []
   },
   "outputs": [],
   "source": [
    "# keep just the variants with carriers\n",
    "hom= hom.loc[~hom['hom_carrier'].isnull()]\n",
    "\n",
    "hom"
   ]
  },
  {
   "cell_type": "code",
   "execution_count": null,
   "id": "35ceaf83-d569-46a1-9cb4-e2d487042ae1",
   "metadata": {
    "tags": []
   },
   "outputs": [],
   "source": [
    "#merge with annotation\n",
    "out_hom = pd.merge(hom,filtered_EAS_df, on='var_id',how='left')\n",
    "out_hom['zygosity'] = 'hom'\n",
    "\n",
    "#rename col\n",
    "out_hom.rename({'hom_carrier':'carrier_id'},axis=1,inplace=True)\n",
    "\n",
    "out_hom"
   ]
  },
  {
   "cell_type": "code",
   "execution_count": null,
   "id": "c4727251-9bea-4089-8179-989320fc9ef3",
   "metadata": {
    "tags": []
   },
   "outputs": [],
   "source": [
    "#repeat the same for het\n",
    "het = het.explode('het_carrier', ignore_index=True)\n",
    "het= het.loc[~het['het_carrier'].isnull()]\n",
    "\n",
    "het"
   ]
  },
  {
   "cell_type": "code",
   "execution_count": null,
   "id": "0e12fc77-7de7-42d4-b410-b33fad35856c",
   "metadata": {
    "tags": []
   },
   "outputs": [],
   "source": [
    "#merge with annotation\n",
    "out_het = pd.merge(het,filtered_EAS_df, on='var_id',how='left')\n",
    "out_het['zygosity'] = 'het'\n",
    "\n",
    "#rename col\n",
    "out_het.rename({'het_carrier':'carrier_id'},axis=1,inplace=True)\n",
    "\n",
    "out_het"
   ]
  },
  {
   "cell_type": "code",
   "execution_count": null,
   "id": "4a06073c-002e-47b2-91e0-3c5cc30e7d7d",
   "metadata": {
    "tags": []
   },
   "outputs": [],
   "source": [
    "# check if there's any comphet by grouping gene and sample_id\n",
    "pd.concat(g for _, g in out_het.groupby([\"Gene.refGene\",\"carrier_id\"]) if len(g) > 1)"
   ]
  },
  {
   "cell_type": "code",
   "execution_count": null,
   "id": "f673acb2-2072-4bb1-af8f-4f48161b1dd4",
   "metadata": {
    "tags": []
   },
   "outputs": [],
   "source": [
    "# write out comphet\n",
    "comphet = pd.concat(g for _, g in out_het.groupby([\"Gene.refGene\",\"carrier_id\"]) if len(g) > 1)\n",
    "comphet['zygosity'] = 'comphet'\n"
   ]
  },
  {
   "cell_type": "code",
   "execution_count": null,
   "id": "ee6973b9-1d14-4638-bc2c-ec046580ee22",
   "metadata": {
    "tags": []
   },
   "outputs": [],
   "source": [
    "# get everything and write out\n",
    "merged_df_EAS = pd.concat([out_het,out_hom,comphet],axis=0)\n",
    "\n",
    "# Save the dataset\n",
    "merged_df_EAS.to_csv(f\"{workdir}/results/merged_genotypes_dystonia_EAS.tsv\",sep='\\t',index=False)"
   ]
  },
  {
   "cell_type": "markdown",
   "id": "6d60ac4b-8ec8-4d50-bbc7-55b10babec37",
   "metadata": {
    "tags": []
   },
   "source": [
    "### EUR"
   ]
  },
  {
   "cell_type": "code",
   "execution_count": null,
   "id": "b8c80337-1f04-4d14-a165-31afb2113c21",
   "metadata": {
    "tags": []
   },
   "outputs": [],
   "source": [
    "# find unique chromosomes in bed files\n",
    "unique_chr=bed['chr'].unique().tolist()\n",
    "unique_chr"
   ]
  },
  {
   "cell_type": "code",
   "execution_count": null,
   "id": "97eb412c-c30e-4e73-b3e4-6a5f9e38709a",
   "metadata": {
    "scrolled": true,
    "tags": []
   },
   "outputs": [],
   "source": [
    "#define all the variables\n",
    "\n",
    "INPUT_PLINK_DIR=\"/home/jupyter/workspace/gp2_tier2_eu_release8_13092024/wgs/deepvariant_joint_calling/plink\"\n",
    "PLINK2_PATH=\"/home/jupyter/tools/plink2\"\n",
    "dir_bed=\"/home/jupyter/workspace/ws_files/GP2_R8_dystonia/bed_files\"\n",
    "TEMP_DIR=\"/home/jupyter/workspace/ws_files/GP2_R8_dystonia/temp_files\"\n",
    "Ancestry=\"EUR\"\n",
    "\n",
    "# extract variants we need from each chromosome\n",
    "for chrom in unique_chr:    \n",
    "    # make the output directory if not exist\n",
    "    os.makedirs(f'{TEMP_DIR}/{Ancestry}', exist_ok=True)\n",
    "    \n",
    "    # Construct the command as a list \n",
    "    # keep only variants with maf <0.05 in the dataset to keep the files small\n",
    "    # since frequent variants are not we are interested in\n",
    "    cmd = [\n",
    "        PLINK2_PATH,\n",
    "        \"--pfile\", f\"{INPUT_PLINK_DIR}/{Ancestry}/{chrom}_{Ancestry}_release8\",\n",
    "        \"--mac\", \"1\",\n",
    "        \"--extract\", \"bed1\", f\"{dir_bed}/{chrom}.bed\",\n",
    "        \"--make-pgen\",\n",
    "        \"--out\", f\"{TEMP_DIR}/{Ancestry}/{chrom}\"\n",
    "    ]\n",
    "\n",
    "    subprocess.run(cmd, check=True)"
   ]
  },
  {
   "cell_type": "code",
   "execution_count": null,
   "id": "ac53a2a2-cba2-424b-b61d-7a5e6fa5ea3b",
   "metadata": {
    "tags": []
   },
   "outputs": [],
   "source": [
    "%%bash\n",
    "\n",
    "TEMP_DIR=\"/home/jupyter/workspace/ws_files/GP2_R8_dystonia/temp_files\"\n",
    "Ancestry=\"EUR\"\n",
    "\n",
    "# merge all the chrs and convert the final file to vcf\n",
    "# for merging across pfiles https://www.cog-genomics.org/plink/2.0/data\n",
    "\n",
    "# list the files, sort by chromosome and remove .pgen from the filename\n",
    "ls ${TEMP_DIR}/${Ancestry}/*.pgen | sort -V  | sed 's/\\.pgen//g' > ${TEMP_DIR}/${Ancestry}_pfiles.list\n",
    "\n",
    "~/tools/plink2 --pmerge-list ${TEMP_DIR}/${Ancestry}_pfiles.list \\\n",
    "                           --recode vcf \\\n",
    "                           --out ${TEMP_DIR}/${Ancestry}"
   ]
  },
  {
   "cell_type": "code",
   "execution_count": null,
   "id": "5b4db1f0-c229-49db-877b-4546b547e87d",
   "metadata": {
    "tags": []
   },
   "outputs": [],
   "source": [
    "%%bash\n",
    "# bgzip the vcf\n",
    "TEMP_DIR=\"/home/jupyter/workspace/ws_files/GP2_R8_dystonia/temp_files\"\n",
    "Ancestry=\"EUR\"\n",
    "\n",
    "bgzip -c ${TEMP_DIR}/${Ancestry}.vcf > ${TEMP_DIR}/annovar_input_${Ancestry}.vcf.gz\n",
    "tabix -p vcf ${TEMP_DIR}/annovar_input_${Ancestry}.vcf.gz"
   ]
  },
  {
   "cell_type": "code",
   "execution_count": null,
   "id": "3d592afe-b8a1-42f6-91a3-5f7e631e8c07",
   "metadata": {
    "tags": []
   },
   "outputs": [],
   "source": [
    "%%bash\n",
    "\n",
    "workdir=\"/home/jupyter/workspace/ws_files/GP2_R8_dystonia\"\n",
    "mkdir -p ${workdir}/results\n",
    "\n",
    "# Run ANNOVAR annotation\n",
    "perl ~/tools/annovar/table_annovar.pl \\\n",
    "     ${workdir}/temp_files/annovar_input_EUR.vcf.gz \\\n",
    "    /home/jupyter/tools/annovar/humandb/ \\\n",
    "    -buildver hg38 \\\n",
    "    -out ${workdir}/results/wgs_final_EUR.annovar \\\n",
    "    -remove \\\n",
    "    -protocol refGene,gnomad41_genome,clinvar_20240917,dbnsfp47a \\\n",
    "    -operation g,f,f,f \\\n",
    "    -nastring . \\\n",
    "    -polish \\\n",
    "    -vcfinput"
   ]
  },
  {
   "cell_type": "code",
   "execution_count": null,
   "id": "06b38aa1-39d7-4998-ba8e-78321d950cab",
   "metadata": {
    "tags": []
   },
   "outputs": [],
   "source": [
    "%%bash \n",
    "workdir=\"/home/jupyter/workspace/ws_files/GP2_R8_dystonia\"\n",
    "\n",
    "head ${workdir}/results/wgs_final_EUR.annovar.hg38_multianno.txt"
   ]
  },
  {
   "cell_type": "code",
   "execution_count": null,
   "id": "df748689-7fa5-41b9-bcbe-6267ed52be6d",
   "metadata": {
    "tags": []
   },
   "outputs": [],
   "source": [
    "workdir=\"/home/jupyter/workspace/ws_files/GP2_R8_dystonia\"\n",
    "# Show columns of multianno.txt output file\n",
    "anno=pd.read_csv(f'{workdir}/results/wgs_final_EUR.annovar.hg38_multianno.txt',sep='\\t',dtype=str)\n",
    "\n",
    "#find variant id col:\n",
    "anno['Otherinfo6']"
   ]
  },
  {
   "cell_type": "code",
   "execution_count": null,
   "id": "ac6cd29a-7c21-4358-afef-b9a3c3d0af9c",
   "metadata": {
    "scrolled": true,
    "tags": []
   },
   "outputs": [],
   "source": [
    "anno.columns.tolist()"
   ]
  },
  {
   "cell_type": "code",
   "execution_count": null,
   "id": "3b7eb5fa-5bf5-4de0-86e8-319aa712faf3",
   "metadata": {
    "scrolled": true,
    "tags": []
   },
   "outputs": [],
   "source": [
    "# select the cols to keep\n",
    "basic_cols= anno.columns.tolist()[0:10]\n",
    "additional_cols_to_keep=['Otherinfo6',\n",
    "                         'gnomad41_genome_fafmax_faf95_max',\n",
    "                         'gnomad41_genome_AF_nfe',\n",
    "                         'CLNDN',\n",
    "                         'CLNSIG',\n",
    "                         'CADD_phred']\n",
    "            \n",
    "all_cols_to_keep= basic_cols+ additional_cols_to_keep\n",
    "all_cols_to_keep"
   ]
  },
  {
   "cell_type": "code",
   "execution_count": null,
   "id": "d6c4bfb3-5533-4217-8d82-efcfaefab084",
   "metadata": {
    "tags": []
   },
   "outputs": [],
   "source": [
    "# subset the columns\n",
    "EUR_df=anno[all_cols_to_keep]\n",
    "\n",
    "#rename col\n",
    "EUR_df.rename({'Otherinfo6':'var_id'},axis=1,inplace=True)\n",
    "\n",
    "EUR_df"
   ]
  },
  {
   "cell_type": "code",
   "execution_count": null,
   "id": "9494d57e-61ae-4a03-8784-b1aee0138e3c",
   "metadata": {
    "tags": []
   },
   "outputs": [],
   "source": [
    "# Count occurrences of each value\n",
    "value_counts = EUR_df[\"ExonicFunc.refGene\"].value_counts()\n",
    "\n",
    "# Display counts\n",
    "print(value_counts)"
   ]
  },
  {
   "cell_type": "markdown",
   "id": "e8391b50-87fb-4f68-9f9d-8a4e7fb4eadf",
   "metadata": {},
   "source": [
    "#### Filter variants"
   ]
  },
  {
   "cell_type": "code",
   "execution_count": null,
   "id": "b28fb098-7f4d-4581-b52f-fc60255e3b5d",
   "metadata": {
    "tags": []
   },
   "outputs": [],
   "source": [
    "# Define the values you want to keep\n",
    "keep_values = [\"exonic\", \"splicing\", \"exonic;splicing\"]  # Add more if needed\n",
    "\n",
    "# Subset the dataframe\n",
    "filtered_EUR_df = EUR_df[EUR_df[\"Func.refGene\"].isin(keep_values)]\n",
    "\n",
    "# Display the filtered dataframe\n",
    "print (filtered_EUR_df.head())"
   ]
  },
  {
   "cell_type": "code",
   "execution_count": null,
   "id": "27629140-eaa9-45f2-a788-0d0178bf1add",
   "metadata": {
    "tags": []
   },
   "outputs": [],
   "source": [
    "# Filter out synonymous SNVs\n",
    "filtered_EUR_df = filtered_EUR_df[filtered_EUR_df[\"ExonicFunc.refGene\"] != \"synonymous SNV\"]\n",
    "\n",
    "# Display the filtered dataframe\n",
    "print (filtered_EUR_df.head())"
   ]
  },
  {
   "cell_type": "code",
   "execution_count": null,
   "id": "3f1b2de7-d608-4060-8b0a-194be8478695",
   "metadata": {
    "tags": []
   },
   "outputs": [],
   "source": [
    "# Save the filtered output\n",
    "filtered_EUR_df.to_csv(f\"{workdir}/results/filtered_multianno_EUR.tsv\", sep=\"\\t\", index=False)\n",
    "\n",
    "# write out var_id to extract from plink files\n",
    "filtered_EUR_df['var_id'].to_csv(f\"{workdir}/results/EUR_var_to_extract.txt\",index=False,header=False)"
   ]
  },
  {
   "cell_type": "markdown",
   "id": "be9458ad-59bc-41f5-a986-e209a8726ef1",
   "metadata": {
    "tags": []
   },
   "source": [
    "#### Extract carrier IDs and genotypes"
   ]
  },
  {
   "cell_type": "markdown",
   "id": "6a56ef9a-b6d7-4d4d-ac3b-4916c0cd3866",
   "metadata": {},
   "source": [
    "I would just extract the variants you are interested from the annovar annotation, and you can start from the plink files generated from the merge"
   ]
  },
  {
   "cell_type": "code",
   "execution_count": null,
   "id": "a7cdc990-510d-495f-a5b9-3db93ccbfc7f",
   "metadata": {
    "tags": []
   },
   "outputs": [],
   "source": [
    "%%bash\n",
    "workdir=\"/home/jupyter/workspace/ws_files/GP2_R8_dystonia\"\n",
    "TEMP_DIR=\"/home/jupyter/workspace/ws_files/GP2_R8_dystonia/temp_files\"\n",
    "Ancestry=\"EUR\"\n",
    "\n",
    "~/tools/plink2 --pfile ${TEMP_DIR}/${Ancestry} \\\n",
    "               --extract ${workdir}/results/${Ancestry}_var_to_extract.txt \\\n",
    "               --recode A \\\n",
    "               --out ${TEMP_DIR}/${Ancestry}_geno              "
   ]
  },
  {
   "cell_type": "code",
   "execution_count": null,
   "id": "e0c9bf60-1c88-49d2-b82e-c04e131a38cd",
   "metadata": {
    "tags": []
   },
   "outputs": [],
   "source": [
    "TEMP_DIR=\"/home/jupyter/workspace/ws_files/GP2_R8_dystonia/temp_files\"\n",
    "Ancestry=\"EUR\"\n",
    "\n",
    "eur_var = pd.read_csv(f'{TEMP_DIR}/{Ancestry}_geno.raw', sep='\\s+')\n",
    "eur_var"
   ]
  },
  {
   "cell_type": "markdown",
   "id": "8eeb8916-d63d-4380-a47b-c152c0c0af21",
   "metadata": {},
   "source": [
    "From here you can run similar code for NBA to collect variant carriers "
   ]
  },
  {
   "cell_type": "code",
   "execution_count": null,
   "id": "3f8bfc99-41a5-4485-b51b-148f4fc62d4e",
   "metadata": {
    "tags": []
   },
   "outputs": [],
   "source": [
    "# transpose the dataframe to be row as variants and columns as samples\n",
    "var_col=eur_var.columns[6:len(eur_var)]\n",
    "d = eur_var.drop(columns=['FID','PAT','MAT','SEX','PHENOTYPE'])\n",
    "sample=eur_var[['IID','PHENOTYPE']]\n",
    "\n",
    "#Filtering rows where any value in var_col is ≤1 (either het or hom)\n",
    "t=d[(d[var_col]<=1).any(axis=1)].T\n",
    "t.columns = t.iloc[0]\n",
    "t=t.iloc[1:]\n",
    "t.reset_index(inplace=True)\n",
    "\n",
    "t"
   ]
  },
  {
   "cell_type": "code",
   "execution_count": null,
   "id": "35434996-51d9-4a7f-aebd-8779aaa54cdc",
   "metadata": {
    "tags": []
   },
   "outputs": [],
   "source": [
    "#strip the last '_${ref_allele}', so we can keep the same variant id as in annotation \n",
    "t['index'] = t['index'].str.rsplit('_', n=1).str[0]\n",
    "t.rename({'index':'var_id'},axis=1,inplace=True)\n",
    "t"
   ]
  },
  {
   "cell_type": "code",
   "execution_count": null,
   "id": "38574514-bc20-4fb5-9f63-d035c11d9e49",
   "metadata": {
    "tags": []
   },
   "outputs": [],
   "source": [
    "t['hom_carrier'] = t.apply(lambda row: row[row == 0].index.tolist() , axis=1)\n",
    "t['het_carrier'] = t.apply(lambda row: row[row == 1].index.tolist() , axis=1)  \n",
    "\n",
    "# store hom and het seperately to later explode the dataframe correctly\n",
    "hom = t[['var_id','hom_carrier']]\n",
    "het = t[['var_id','het_carrier']]"
   ]
  },
  {
   "cell_type": "code",
   "execution_count": null,
   "id": "797f2af2-99c3-4cee-86d1-08a264581852",
   "metadata": {
    "tags": []
   },
   "outputs": [],
   "source": [
    "# check hom as example what to expect\n",
    "hom"
   ]
  },
  {
   "cell_type": "code",
   "execution_count": null,
   "id": "8c5288af-f980-4648-8ddc-a49190850c55",
   "metadata": {
    "tags": []
   },
   "outputs": [],
   "source": [
    "# split the carrier id from the list and each to a row\n",
    "hom = hom.explode('hom_carrier', ignore_index=True)\n",
    "\n",
    "hom"
   ]
  },
  {
   "cell_type": "code",
   "execution_count": null,
   "id": "d69ce16e-2905-4e73-a606-f43034ac5e0f",
   "metadata": {
    "tags": []
   },
   "outputs": [],
   "source": [
    "# keep just the variants with carriers\n",
    "hom= hom.loc[~hom['hom_carrier'].isnull()]\n",
    "\n",
    "hom"
   ]
  },
  {
   "cell_type": "code",
   "execution_count": null,
   "id": "f1fa916a-beb3-4fc2-bee2-26d076d2e959",
   "metadata": {
    "tags": []
   },
   "outputs": [],
   "source": [
    "#merge with annotation\n",
    "out_hom = pd.merge(hom,filtered_EUR_df, on='var_id',how='left')\n",
    "out_hom['zygosity'] = 'hom'\n",
    "\n",
    "#rename col\n",
    "out_hom.rename({'hom_carrier':'carrier_id'},axis=1,inplace=True)\n",
    "\n",
    "out_hom"
   ]
  },
  {
   "cell_type": "code",
   "execution_count": null,
   "id": "38b5e3e4-dfa0-4fda-850a-955540c5980c",
   "metadata": {
    "tags": []
   },
   "outputs": [],
   "source": [
    "#repeat the same for het\n",
    "het = het.explode('het_carrier', ignore_index=True)\n",
    "het= het.loc[~het['het_carrier'].isnull()]\n",
    "\n",
    "het"
   ]
  },
  {
   "cell_type": "code",
   "execution_count": null,
   "id": "7faeb373-246d-47b6-be15-11cee8c591b0",
   "metadata": {
    "tags": []
   },
   "outputs": [],
   "source": [
    "#merge with annotation\n",
    "out_het = pd.merge(het,filtered_EUR_df, on='var_id',how='left')\n",
    "out_het['zygosity'] = 'het'\n",
    "\n",
    "#rename col\n",
    "out_het.rename({'het_carrier':'carrier_id'},axis=1,inplace=True)\n",
    "\n",
    "out_het"
   ]
  },
  {
   "cell_type": "code",
   "execution_count": null,
   "id": "f8e4340c-256f-40ff-9bae-e95f8095de36",
   "metadata": {
    "tags": []
   },
   "outputs": [],
   "source": [
    "# check if there's any comphet by grouping gene and sample_id\n",
    "pd.concat(g for _, g in out_het.groupby([\"Gene.refGene\",\"carrier_id\"]) if len(g) > 1)"
   ]
  },
  {
   "cell_type": "code",
   "execution_count": null,
   "id": "54e0186f-74b7-449a-8187-e4c7c4eb841d",
   "metadata": {
    "tags": []
   },
   "outputs": [],
   "source": [
    "# write out comphet\n",
    "comphet = pd.concat(g for _, g in out_het.groupby([\"Gene.refGene\",\"carrier_id\"]) if len(g) > 1)\n",
    "comphet['zygosity'] = 'comphet'"
   ]
  },
  {
   "cell_type": "code",
   "execution_count": null,
   "id": "07b6b711-f099-41af-a399-a04e5004a8ad",
   "metadata": {
    "tags": []
   },
   "outputs": [],
   "source": [
    "# get everything and write out\n",
    "merged_df_EUR = pd.concat([out_het,out_hom,comphet],axis=0)\n",
    "\n",
    "# Save the dataset\n",
    "merged_df_EUR.to_csv(f\"{workdir}/results/merged_genotypes_dystonia_EUR.tsv\",sep='\\t',index=False)"
   ]
  },
  {
   "cell_type": "markdown",
   "id": "daf5a49f-ce97-4548-8743-5667e55bf1ef",
   "metadata": {
    "tags": []
   },
   "source": [
    "### FIN"
   ]
  },
  {
   "cell_type": "code",
   "execution_count": null,
   "id": "ffc9d353-6ffa-4a12-bcc4-070388b8b53b",
   "metadata": {
    "tags": []
   },
   "outputs": [],
   "source": [
    "# find unique chromosomes in bed files\n",
    "unique_chr=bed['chr'].unique().tolist()\n",
    "unique_chr"
   ]
  },
  {
   "cell_type": "code",
   "execution_count": null,
   "id": "df13c35d-21c5-43f6-8169-3777f031411b",
   "metadata": {
    "scrolled": true,
    "tags": []
   },
   "outputs": [],
   "source": [
    "#define all the variables\n",
    "\n",
    "INPUT_PLINK_DIR=\"/home/jupyter/workspace/gp2_tier2_eu_release8_13092024/wgs/deepvariant_joint_calling/plink\"\n",
    "PLINK2_PATH=\"/home/jupyter/tools/plink2\"\n",
    "dir_bed=\"/home/jupyter/workspace/ws_files/GP2_R8_dystonia/bed_files\"\n",
    "TEMP_DIR=\"/home/jupyter/workspace/ws_files/GP2_R8_dystonia/temp_files\"\n",
    "Ancestry=\"FIN\"\n",
    "\n",
    "# extract variants we need from each chromosome\n",
    "for chrom in unique_chr:    \n",
    "    # make the output directory if not exist\n",
    "    os.makedirs(f'{TEMP_DIR}/{Ancestry}', exist_ok=True)\n",
    "    \n",
    "    # Construct the command as a list \n",
    "    # keep only variants with maf <0.05 in the dataset to keep the files small\n",
    "    # since frequent variants are not we are interested in\n",
    "    cmd = [\n",
    "        PLINK2_PATH,\n",
    "        \"--pfile\", f\"{INPUT_PLINK_DIR}/{Ancestry}/{chrom}_{Ancestry}_release8\",\n",
    "        \"--mac\", \"1\",\n",
    "        \"--extract\", \"bed1\", f\"{dir_bed}/{chrom}.bed\",\n",
    "        \"--make-pgen\",\n",
    "        \"--out\", f\"{TEMP_DIR}/{Ancestry}/{chrom}\"\n",
    "    ]\n",
    "\n",
    "    subprocess.run(cmd, check=True)"
   ]
  },
  {
   "cell_type": "code",
   "execution_count": null,
   "id": "d4030f80-ebc0-45e3-b7a1-c80c8b40ef8e",
   "metadata": {
    "tags": []
   },
   "outputs": [],
   "source": [
    "%%bash\n",
    "\n",
    "TEMP_DIR=\"/home/jupyter/workspace/ws_files/GP2_R8_dystonia/temp_files\"\n",
    "Ancestry=\"FIN\"\n",
    "\n",
    "# merge all the chrs and convert the final file to vcf\n",
    "# for merging across pfiles https://www.cog-genomics.org/plink/2.0/data\n",
    "\n",
    "# list the files, sort by chromosome and remove .pgen from the filename\n",
    "ls ${TEMP_DIR}/${Ancestry}/*.pgen | sort -V  | sed 's/\\.pgen//g' > ${TEMP_DIR}/${Ancestry}_pfiles.list\n",
    "\n",
    "~/tools/plink2 --pmerge-list ${TEMP_DIR}/${Ancestry}_pfiles.list \\\n",
    "                           --recode vcf \\\n",
    "                           --out ${TEMP_DIR}/${Ancestry}"
   ]
  },
  {
   "cell_type": "code",
   "execution_count": null,
   "id": "3ef0080c-63cd-4187-86e3-78dc27bba6ea",
   "metadata": {
    "tags": []
   },
   "outputs": [],
   "source": [
    "%%bash\n",
    "# bgzip the vcf\n",
    "TEMP_DIR=\"/home/jupyter/workspace/ws_files/GP2_R8_dystonia/temp_files\"\n",
    "Ancestry=\"FIN\"\n",
    "\n",
    "bgzip -c ${TEMP_DIR}/${Ancestry}.vcf > ${TEMP_DIR}/annovar_input_${Ancestry}.vcf.gz\n",
    "tabix -p vcf ${TEMP_DIR}/annovar_input_${Ancestry}.vcf.gz"
   ]
  },
  {
   "cell_type": "code",
   "execution_count": null,
   "id": "bd5cc61d-8e3c-498e-bba4-8429aea96440",
   "metadata": {
    "tags": []
   },
   "outputs": [],
   "source": [
    "%%bash\n",
    "\n",
    "workdir=\"/home/jupyter/workspace/ws_files/GP2_R8_dystonia\"\n",
    "mkdir -p ${workdir}/results\n",
    "\n",
    "# Run ANNOVAR annotation\n",
    "perl ~/tools/annovar/table_annovar.pl \\\n",
    "     ${workdir}/temp_files/annovar_input_FIN.vcf.gz \\\n",
    "    /home/jupyter/tools/annovar/humandb/ \\\n",
    "    -buildver hg38 \\\n",
    "    -out ${workdir}/results/wgs_final_FIN.annovar \\\n",
    "    -remove \\\n",
    "    -protocol refGene,gnomad41_genome,clinvar_20240917,dbnsfp47a \\\n",
    "    -operation g,f,f,f \\\n",
    "    -nastring . \\\n",
    "    -polish \\\n",
    "    -vcfinput"
   ]
  },
  {
   "cell_type": "code",
   "execution_count": null,
   "id": "a1aa30e5-5665-45da-a8b0-7e6342800654",
   "metadata": {
    "tags": []
   },
   "outputs": [],
   "source": [
    "%%bash \n",
    "workdir=\"/home/jupyter/workspace/ws_files/GP2_R8_dystonia\"\n",
    "\n",
    "head ${workdir}/results/wgs_final_FIN.annovar.hg38_multianno.txt"
   ]
  },
  {
   "cell_type": "code",
   "execution_count": null,
   "id": "630e9878-15ed-4abf-9ff3-4a2d1f6b9b4d",
   "metadata": {
    "tags": []
   },
   "outputs": [],
   "source": [
    "workdir=\"/home/jupyter/workspace/ws_files/GP2_R8_dystonia\"\n",
    "# Show columns of multianno.txt output file\n",
    "anno=pd.read_csv(f'{workdir}/results/wgs_final_FIN.annovar.hg38_multianno.txt',sep='\\t',dtype=str)\n",
    "\n",
    "#find variant id col:\n",
    "anno['Otherinfo6']"
   ]
  },
  {
   "cell_type": "code",
   "execution_count": null,
   "id": "d775b0e8-fa50-4cf6-939e-5ad1c33a4562",
   "metadata": {
    "scrolled": true,
    "tags": []
   },
   "outputs": [],
   "source": [
    "anno.columns.tolist()"
   ]
  },
  {
   "cell_type": "code",
   "execution_count": null,
   "id": "f71bfb02-ebf4-46b9-b747-89970cc22db2",
   "metadata": {
    "scrolled": true,
    "tags": []
   },
   "outputs": [],
   "source": [
    "# select the cols to keep\n",
    "basic_cols= anno.columns.tolist()[0:10]\n",
    "additional_cols_to_keep=['Otherinfo6',\n",
    "                         'gnomad41_genome_fafmax_faf95_max',\n",
    "                         'gnomad41_genome_AF_fin',\n",
    "                         'CLNDN',\n",
    "                         'CLNSIG',\n",
    "                         'CADD_phred']\n",
    "            \n",
    "all_cols_to_keep= basic_cols+ additional_cols_to_keep\n",
    "all_cols_to_keep"
   ]
  },
  {
   "cell_type": "code",
   "execution_count": null,
   "id": "53e0509d-b17b-4635-8c3f-0b7a7630e7fa",
   "metadata": {
    "tags": []
   },
   "outputs": [],
   "source": [
    "# subset the columns\n",
    "FIN_df=anno[all_cols_to_keep]\n",
    "\n",
    "#rename col\n",
    "FIN_df.rename({'Otherinfo6':'var_id'},axis=1,inplace=True)\n",
    "\n",
    "FIN_df"
   ]
  },
  {
   "cell_type": "code",
   "execution_count": null,
   "id": "863a2aed-9391-4f58-b05f-4d780e8caba6",
   "metadata": {
    "tags": []
   },
   "outputs": [],
   "source": [
    "# Count occurrences of each value\n",
    "value_counts = FIN_df[\"ExonicFunc.refGene\"].value_counts()\n",
    "\n",
    "# Display counts\n",
    "print(value_counts)"
   ]
  },
  {
   "cell_type": "markdown",
   "id": "c48ef509-2c4e-476e-9ba3-354d59d45f79",
   "metadata": {},
   "source": [
    "#### Filter variants"
   ]
  },
  {
   "cell_type": "code",
   "execution_count": null,
   "id": "6fc9cecc-1c25-4792-b400-667ab1642e31",
   "metadata": {
    "tags": []
   },
   "outputs": [],
   "source": [
    "# Define the values you want to keep\n",
    "keep_values = [\"exonic\", \"splicing\", \"exonic;splicing\"]  # Add more if needed\n",
    "\n",
    "# Subset the dataframe\n",
    "filtered_FIN_df = FIN_df[FIN_df[\"Func.refGene\"].isin(keep_values)]\n",
    "\n",
    "# Display the filtered dataframe\n",
    "print (filtered_FIN_df.head())"
   ]
  },
  {
   "cell_type": "code",
   "execution_count": null,
   "id": "03f77945-0d2f-437e-a0bb-96aa9f266ce6",
   "metadata": {
    "tags": []
   },
   "outputs": [],
   "source": [
    "# Filter out synonymous SNVs\n",
    "filtered_FIN_df = filtered_FIN_df[filtered_FIN_df[\"ExonicFunc.refGene\"] != \"synonymous SNV\"]\n",
    "\n",
    "# Display the filtered dataframe\n",
    "print (filtered_FIN_df.head())"
   ]
  },
  {
   "cell_type": "code",
   "execution_count": null,
   "id": "1af7efa7-fc72-41b6-bbce-155865713393",
   "metadata": {
    "tags": []
   },
   "outputs": [],
   "source": [
    "# Save the filtered output\n",
    "filtered_FIN_df.to_csv(f\"{workdir}/results/filtered_multianno_FIN.tsv\", sep=\"\\t\", index=False)\n",
    "\n",
    "# write out var_id to extract from plink files\n",
    "filtered_FIN_df['var_id'].to_csv(f\"{workdir}/results/FIN_var_to_extract.txt\",index=False,header=False)"
   ]
  },
  {
   "cell_type": "markdown",
   "id": "c2ac8143-2274-4694-bc6d-ca2d4552aa97",
   "metadata": {
    "tags": []
   },
   "source": [
    "#### Extract carrier IDs and genotypes"
   ]
  },
  {
   "cell_type": "markdown",
   "id": "8291ac65-1bc0-4ecf-8966-5d79b420d5c8",
   "metadata": {},
   "source": [
    "I would just extract the variants you are interested from the annovar annotation, and you can start from the plink files generated from the merge"
   ]
  },
  {
   "cell_type": "code",
   "execution_count": null,
   "id": "6a161be0-9bf7-4fe4-bb74-39dd2f53e9a9",
   "metadata": {
    "tags": []
   },
   "outputs": [],
   "source": [
    "%%bash\n",
    "workdir=\"/home/jupyter/workspace/ws_files/GP2_R8_dystonia\"\n",
    "TEMP_DIR=\"/home/jupyter/workspace/ws_files/GP2_R8_dystonia/temp_files\"\n",
    "Ancestry=\"FIN\"\n",
    "\n",
    "~/tools/plink2 --pfile ${TEMP_DIR}/${Ancestry} \\\n",
    "               --extract ${workdir}/results/${Ancestry}_var_to_extract.txt \\\n",
    "               --recode A \\\n",
    "               --out ${TEMP_DIR}/${Ancestry}_geno              "
   ]
  },
  {
   "cell_type": "code",
   "execution_count": null,
   "id": "b83a9879-3516-470d-8905-99fd93424e28",
   "metadata": {
    "tags": []
   },
   "outputs": [],
   "source": [
    "TEMP_DIR=\"/home/jupyter/workspace/ws_files/GP2_R8_dystonia/temp_files\"\n",
    "Ancestry=\"FIN\"\n",
    "\n",
    "fin_var = pd.read_csv(f'{TEMP_DIR}/{Ancestry}_geno.raw', sep='\\s+')\n",
    "fin_var"
   ]
  },
  {
   "cell_type": "markdown",
   "id": "c1745add-75a6-4966-8cf9-4b399bd5557b",
   "metadata": {},
   "source": [
    "From here you can run similar code for NBA to collect variant carriers "
   ]
  },
  {
   "cell_type": "code",
   "execution_count": null,
   "id": "c2efaf4b-4f68-4501-9fdc-50e83f8f5cf5",
   "metadata": {
    "tags": []
   },
   "outputs": [],
   "source": [
    "# transpose the dataframe to be row as variants and columns as samples\n",
    "var_col=fin_var.columns[6:len(fin_var)]\n",
    "d = fin_var.drop(columns=['FID','PAT','MAT','SEX','PHENOTYPE'])\n",
    "sample=fin_var[['IID','PHENOTYPE']]\n",
    "\n",
    "#Filtering rows where any value in var_col is ≤1 (either het or hom)\n",
    "t=d[(d[var_col]<=1).any(axis=1)].T\n",
    "t.columns = t.iloc[0]\n",
    "t=t.iloc[1:]\n",
    "t.reset_index(inplace=True)\n",
    "\n",
    "t"
   ]
  },
  {
   "cell_type": "code",
   "execution_count": null,
   "id": "f73abab6-d9ea-4cc2-b19f-942b30adaa9e",
   "metadata": {
    "tags": []
   },
   "outputs": [],
   "source": [
    "#strip the last '_${ref_allele}', so we can keep the same variant id as in annotation \n",
    "t['index'] = t['index'].str.rsplit('_', n=1).str[0]\n",
    "t.rename({'index':'var_id'},axis=1,inplace=True)\n",
    "t"
   ]
  },
  {
   "cell_type": "code",
   "execution_count": null,
   "id": "d548f20a-6e58-40d0-a769-da3e2f2a87ca",
   "metadata": {
    "tags": []
   },
   "outputs": [],
   "source": [
    "t['hom_carrier'] = t.apply(lambda row: row[row == 0].index.tolist() , axis=1)\n",
    "t['het_carrier'] = t.apply(lambda row: row[row == 1].index.tolist() , axis=1)  \n",
    "\n",
    "# store hom and het seperately to later explode the dataframe correctly\n",
    "hom = t[['var_id','hom_carrier']]\n",
    "het = t[['var_id','het_carrier']]"
   ]
  },
  {
   "cell_type": "code",
   "execution_count": null,
   "id": "d76fea08-a30d-4121-a835-c16dccda0a9d",
   "metadata": {
    "tags": []
   },
   "outputs": [],
   "source": [
    "# check hom as example what to expect\n",
    "hom"
   ]
  },
  {
   "cell_type": "code",
   "execution_count": null,
   "id": "53c35f80-d4fb-404e-9b7d-c350b8f56172",
   "metadata": {
    "tags": []
   },
   "outputs": [],
   "source": [
    "# split the carrier id from the list and each to a row\n",
    "hom = hom.explode('hom_carrier', ignore_index=True)\n",
    "\n",
    "hom"
   ]
  },
  {
   "cell_type": "code",
   "execution_count": null,
   "id": "09952cb5-d2af-4915-9cfd-422756257d6f",
   "metadata": {
    "tags": []
   },
   "outputs": [],
   "source": [
    "# keep just the variants with carriers\n",
    "hom= hom.loc[~hom['hom_carrier'].isnull()]\n",
    "\n",
    "hom"
   ]
  },
  {
   "cell_type": "code",
   "execution_count": null,
   "id": "839d896f-0a61-4766-8f52-c2d20224dd0a",
   "metadata": {
    "tags": []
   },
   "outputs": [],
   "source": [
    "#merge with annotation\n",
    "out_hom = pd.merge(hom,filtered_FIN_df, on='var_id',how='left')\n",
    "out_hom['zygosity'] = 'hom'\n",
    "\n",
    "#rename col\n",
    "out_hom.rename({'hom_carrier':'carrier_id'},axis=1,inplace=True)\n",
    "\n",
    "out_hom"
   ]
  },
  {
   "cell_type": "code",
   "execution_count": null,
   "id": "235fcdc3-a9c0-4980-9e8c-53269303433b",
   "metadata": {
    "tags": []
   },
   "outputs": [],
   "source": [
    "#repeat the same for het\n",
    "het = het.explode('het_carrier', ignore_index=True)\n",
    "het= het.loc[~het['het_carrier'].isnull()]\n",
    "\n",
    "het"
   ]
  },
  {
   "cell_type": "code",
   "execution_count": null,
   "id": "f0353dc2-bf54-4966-aeff-cf0f1c4b1639",
   "metadata": {
    "tags": []
   },
   "outputs": [],
   "source": [
    "#merge with annotation\n",
    "out_het = pd.merge(het,filtered_FIN_df, on='var_id',how='left')\n",
    "out_het['zygosity'] = 'het'\n",
    "\n",
    "#rename col\n",
    "out_het.rename({'het_carrier':'carrier_id'},axis=1,inplace=True)\n",
    "\n",
    "out_het"
   ]
  },
  {
   "cell_type": "code",
   "execution_count": null,
   "id": "0ebfc196-5254-4ff1-b818-395bb2cdb324",
   "metadata": {
    "tags": []
   },
   "outputs": [],
   "source": [
    "# check if there's any comphet by grouping gene and sample_id\n",
    "pd.concat(g for _, g in out_het.groupby([\"Gene.refGene\",\"carrier_id\"]) if len(g) > 1)\n"
   ]
  },
  {
   "cell_type": "code",
   "execution_count": null,
   "id": "65653904-eaf9-4076-ae14-03e819a23c2f",
   "metadata": {
    "tags": []
   },
   "outputs": [],
   "source": [
    "# write out comphet\n",
    "comphet = pd.concat(g for _, g in out_het.groupby([\"Gene.refGene\",\"carrier_id\"]) if len(g) > 1)\n",
    "comphet['zygosity'] = 'comphet'\n"
   ]
  },
  {
   "cell_type": "code",
   "execution_count": null,
   "id": "ed887e42-3713-45a3-9945-a987d91ae69b",
   "metadata": {
    "tags": []
   },
   "outputs": [],
   "source": [
    "# get everything and write out\n",
    "merged_df_FIN = pd.concat([out_het,out_hom,comphet],axis=0)\n",
    "\n",
    "# Save the dataset\n",
    "merged_df_FIN.to_csv(f\"{workdir}/results/merged_genotypes_dystonia_FIN.tsv\",sep='\\t',index=False)"
   ]
  },
  {
   "cell_type": "markdown",
   "id": "43bcc601-df11-4482-9ab5-2b5bd967a40f",
   "metadata": {
    "tags": []
   },
   "source": [
    "### MDE"
   ]
  },
  {
   "cell_type": "code",
   "execution_count": null,
   "id": "cc48e9d7-6ca9-4eef-a06d-a57a6f5fa384",
   "metadata": {
    "tags": []
   },
   "outputs": [],
   "source": [
    "# find unique chromosomes in bed files\n",
    "unique_chr=bed['chr'].unique().tolist()\n",
    "unique_chr"
   ]
  },
  {
   "cell_type": "code",
   "execution_count": null,
   "id": "42a1b64a-804e-4d8a-a6ff-705626c28520",
   "metadata": {
    "scrolled": true,
    "tags": []
   },
   "outputs": [],
   "source": [
    "#define all the variables\n",
    "\n",
    "INPUT_PLINK_DIR=\"/home/jupyter/workspace/gp2_tier2_eu_release8_13092024/wgs/deepvariant_joint_calling/plink\"\n",
    "PLINK2_PATH=\"/home/jupyter/tools/plink2\"\n",
    "dir_bed=\"/home/jupyter/workspace/ws_files/GP2_R8_dystonia/bed_files\"\n",
    "TEMP_DIR=\"/home/jupyter/workspace/ws_files/GP2_R8_dystonia/temp_files\"\n",
    "Ancestry=\"MDE\"\n",
    "\n",
    "# extract variants we need from each chromosome\n",
    "for chrom in unique_chr:    \n",
    "    # make the output directory if not exist\n",
    "    os.makedirs(f'{TEMP_DIR}/{Ancestry}', exist_ok=True)\n",
    "    \n",
    "    # Construct the command as a list \n",
    "    # keep only variants with maf <0.05 in the dataset to keep the files small\n",
    "    # since frequent variants are not we are interested in\n",
    "    cmd = [\n",
    "        PLINK2_PATH,\n",
    "        \"--pfile\", f\"{INPUT_PLINK_DIR}/{Ancestry}/{chrom}_{Ancestry}_release8\",\n",
    "        \"--mac\", \"1\",\n",
    "        \"--extract\", \"bed1\", f\"{dir_bed}/{chrom}.bed\",\n",
    "        \"--make-pgen\",\n",
    "        \"--out\", f\"{TEMP_DIR}/{Ancestry}/{chrom}\"\n",
    "    ]\n",
    "\n",
    "    subprocess.run(cmd, check=True)"
   ]
  },
  {
   "cell_type": "code",
   "execution_count": null,
   "id": "385a831f-833c-43ac-8acc-8fc8a477c433",
   "metadata": {
    "tags": []
   },
   "outputs": [],
   "source": [
    "%%bash\n",
    "\n",
    "TEMP_DIR=\"/home/jupyter/workspace/ws_files/GP2_R8_dystonia/temp_files\"\n",
    "Ancestry=\"MDE\"\n",
    "\n",
    "# merge all the chrs and convert the final file to vcf\n",
    "# for merging across pfiles https://www.cog-genomics.org/plink/2.0/data\n",
    "\n",
    "# list the files, sort by chromosome and remove .pgen from the filename\n",
    "ls ${TEMP_DIR}/${Ancestry}/*.pgen | sort -V  | sed 's/\\.pgen//g' > ${TEMP_DIR}/${Ancestry}_pfiles.list\n",
    "\n",
    "~/tools/plink2 --pmerge-list ${TEMP_DIR}/${Ancestry}_pfiles.list \\\n",
    "                           --recode vcf \\\n",
    "                           --out ${TEMP_DIR}/${Ancestry}"
   ]
  },
  {
   "cell_type": "code",
   "execution_count": null,
   "id": "7e6736af-79a5-4be9-abc3-935c9494f44c",
   "metadata": {
    "tags": []
   },
   "outputs": [],
   "source": [
    "%%bash\n",
    "# bgzip the vcf\n",
    "TEMP_DIR=\"/home/jupyter/workspace/ws_files/GP2_R8_dystonia/temp_files\"\n",
    "Ancestry=\"MDE\"\n",
    "\n",
    "bgzip -c ${TEMP_DIR}/${Ancestry}.vcf > ${TEMP_DIR}/annovar_input_${Ancestry}.vcf.gz\n",
    "tabix -p vcf ${TEMP_DIR}/annovar_input_${Ancestry}.vcf.gz"
   ]
  },
  {
   "cell_type": "code",
   "execution_count": null,
   "id": "f12af99e-5a8b-4fb0-9429-327876fce489",
   "metadata": {
    "tags": []
   },
   "outputs": [],
   "source": [
    "%%bash\n",
    "\n",
    "workdir=\"/home/jupyter/workspace/ws_files/GP2_R8_dystonia\"\n",
    "mkdir -p ${workdir}/results\n",
    "\n",
    "# Run ANNOVAR annotation\n",
    "perl ~/tools/annovar/table_annovar.pl \\\n",
    "     ${workdir}/temp_files/annovar_input_MDE.vcf.gz \\\n",
    "    /home/jupyter/tools/annovar/humandb/ \\\n",
    "    -buildver hg38 \\\n",
    "    -out ${workdir}/results/wgs_final_MDE.annovar \\\n",
    "    -remove \\\n",
    "    -protocol refGene,gnomad41_genome,clinvar_20240917,dbnsfp47a \\\n",
    "    -operation g,f,f,f \\\n",
    "    -nastring . \\\n",
    "    -polish \\\n",
    "    -vcfinput"
   ]
  },
  {
   "cell_type": "code",
   "execution_count": null,
   "id": "59970844-ff27-414d-a91c-a1859c5224ae",
   "metadata": {
    "tags": []
   },
   "outputs": [],
   "source": [
    "%%bash \n",
    "workdir=\"/home/jupyter/workspace/ws_files/GP2_R8_dystonia\"\n",
    "\n",
    "head ${workdir}/results/wgs_final_MDE.annovar.hg38_multianno.txt"
   ]
  },
  {
   "cell_type": "code",
   "execution_count": null,
   "id": "075f097f-e35b-45e0-9ea4-ba0d7599e35c",
   "metadata": {
    "tags": []
   },
   "outputs": [],
   "source": [
    "workdir=\"/home/jupyter/workspace/ws_files/GP2_R8_dystonia\"\n",
    "# Show columns of multianno.txt output file\n",
    "anno=pd.read_csv(f'{workdir}/results/wgs_final_MDE.annovar.hg38_multianno.txt',sep='\\t',dtype=str)\n",
    "\n",
    "#find variant id col:\n",
    "anno['Otherinfo6']"
   ]
  },
  {
   "cell_type": "code",
   "execution_count": null,
   "id": "9a397b71-3144-42a1-8d17-efb9f063b724",
   "metadata": {
    "scrolled": true,
    "tags": []
   },
   "outputs": [],
   "source": [
    "anno.columns.tolist()"
   ]
  },
  {
   "cell_type": "code",
   "execution_count": null,
   "id": "87beca69-ba55-45d2-b850-5d6e30ebd6b0",
   "metadata": {
    "scrolled": true,
    "tags": []
   },
   "outputs": [],
   "source": [
    "# select the cols to keep\n",
    "basic_cols= anno.columns.tolist()[0:10]\n",
    "additional_cols_to_keep=['Otherinfo6',\n",
    "                         'gnomad41_genome_fafmax_faf95_max',\n",
    "                         'gnomad41_genome_AF_mid',\n",
    "                         'CLNDN',\n",
    "                         'CLNSIG',\n",
    "                         'CADD_phred']\n",
    "            \n",
    "all_cols_to_keep= basic_cols+ additional_cols_to_keep\n",
    "all_cols_to_keep"
   ]
  },
  {
   "cell_type": "code",
   "execution_count": null,
   "id": "ce5e1036-1c37-4355-9e65-89d619855a8c",
   "metadata": {
    "tags": []
   },
   "outputs": [],
   "source": [
    "# subset the columns\n",
    "MDE_df=anno[all_cols_to_keep]\n",
    "\n",
    "#rename col\n",
    "MDE_df.rename({'Otherinfo6':'var_id'},axis=1,inplace=True)\n",
    "\n",
    "MDE_df"
   ]
  },
  {
   "cell_type": "code",
   "execution_count": null,
   "id": "e07857ac-d7fb-46ee-a8f0-8b22bd061f38",
   "metadata": {
    "tags": []
   },
   "outputs": [],
   "source": [
    "# Count occurrences of each value\n",
    "value_counts = MDE_df[\"ExonicFunc.refGene\"].value_counts()\n",
    "\n",
    "# Display counts\n",
    "print(value_counts)"
   ]
  },
  {
   "cell_type": "markdown",
   "id": "24ac8017-d824-4e15-bfbc-66faf7a0a82e",
   "metadata": {},
   "source": [
    "#### Filter variants"
   ]
  },
  {
   "cell_type": "code",
   "execution_count": null,
   "id": "b28dffcf-eac8-4c79-9573-968d6b26b333",
   "metadata": {
    "tags": []
   },
   "outputs": [],
   "source": [
    "# Define the values you want to keep\n",
    "keep_values = [\"exonic\", \"splicing\", \"exonic;splicing\"]  # Add more if needed\n",
    "\n",
    "# Subset the dataframe\n",
    "filtered_MDE_df = MDE_df[MDE_df[\"Func.refGene\"].isin(keep_values)]\n",
    "\n",
    "# Display the filtered dataframe\n",
    "print (filtered_MDE_df.head())"
   ]
  },
  {
   "cell_type": "code",
   "execution_count": null,
   "id": "8ff55154-ddea-45d5-903a-6dcabc724679",
   "metadata": {
    "tags": []
   },
   "outputs": [],
   "source": [
    "# Filter out synonymous SNVs\n",
    "filtered_MDE_df = filtered_MDE_df[filtered_MDE_df[\"ExonicFunc.refGene\"] != \"synonymous SNV\"]\n",
    "\n",
    "# Display the filtered dataframe\n",
    "print (filtered_MDE_df.head())"
   ]
  },
  {
   "cell_type": "code",
   "execution_count": null,
   "id": "391fe7dd-2e2b-43af-9a23-1698bcae4f12",
   "metadata": {
    "tags": []
   },
   "outputs": [],
   "source": [
    "# Save the filtered output\n",
    "filtered_MDE_df.to_csv(f\"{workdir}/results/filtered_multianno_MDE.tsv\", sep=\"\\t\", index=False)\n",
    "\n",
    "# write out var_id to extract from plink files\n",
    "filtered_MDE_df['var_id'].to_csv(f\"{workdir}/results/MDE_var_to_extract.txt\",index=False,header=False)"
   ]
  },
  {
   "cell_type": "markdown",
   "id": "96304d4a-16ef-4c06-bee2-b8bb38cf13c8",
   "metadata": {
    "tags": []
   },
   "source": [
    "#### Extract carrier IDs and genotypes"
   ]
  },
  {
   "cell_type": "markdown",
   "id": "623175a9-f612-4231-92fd-2f8ce7c8b36d",
   "metadata": {},
   "source": [
    "I would just extract the variants you are interested from the annovar annotation, and you can start from the plink files generated from the merge"
   ]
  },
  {
   "cell_type": "code",
   "execution_count": null,
   "id": "d6452a1e-d408-42dc-8f76-274ab06fd572",
   "metadata": {
    "tags": []
   },
   "outputs": [],
   "source": [
    "%%bash\n",
    "workdir=\"/home/jupyter/workspace/ws_files/GP2_R8_dystonia\"\n",
    "TEMP_DIR=\"/home/jupyter/workspace/ws_files/GP2_R8_dystonia/temp_files\"\n",
    "Ancestry=\"MDE\"\n",
    "\n",
    "~/tools/plink2 --pfile ${TEMP_DIR}/${Ancestry} \\\n",
    "               --extract ${workdir}/results/${Ancestry}_var_to_extract.txt \\\n",
    "               --recode A \\\n",
    "               --out ${TEMP_DIR}/${Ancestry}_geno            "
   ]
  },
  {
   "cell_type": "code",
   "execution_count": null,
   "id": "83a6a747-88e8-419c-bd90-6f020c9db592",
   "metadata": {
    "tags": []
   },
   "outputs": [],
   "source": [
    "TEMP_DIR=\"/home/jupyter/workspace/ws_files/GP2_R8_dystonia/temp_files\"\n",
    "Ancestry=\"MDE\"\n",
    "\n",
    "mde_var = pd.read_csv(f'{TEMP_DIR}/{Ancestry}_geno.raw', sep='\\s+')\n",
    "mde_var"
   ]
  },
  {
   "cell_type": "markdown",
   "id": "61962d81-af2e-431a-ab4b-75893fbb666d",
   "metadata": {},
   "source": [
    "From here you can run similar code for NBA to collect variant carriers "
   ]
  },
  {
   "cell_type": "code",
   "execution_count": null,
   "id": "4ce6e592-b7b6-4d34-8156-3fd3ba2c78d3",
   "metadata": {
    "tags": []
   },
   "outputs": [],
   "source": [
    "# transpose the dataframe to be row as variants and columns as samples\n",
    "var_col=mde_var.columns[6:len(mde_var)]\n",
    "d = mde_var.drop(columns=['FID','PAT','MAT','SEX','PHENOTYPE'])\n",
    "sample=mde_var[['IID','PHENOTYPE']]\n",
    "\n",
    "#Filtering rows where any value in var_col is ≤1 (either het or hom)\n",
    "t=d[(d[var_col]<=1).any(axis=1)].T\n",
    "t.columns = t.iloc[0]\n",
    "t=t.iloc[1:]\n",
    "t.reset_index(inplace=True)\n",
    "\n",
    "t"
   ]
  },
  {
   "cell_type": "code",
   "execution_count": null,
   "id": "c3378207-ff45-4916-9549-d0560d3241ba",
   "metadata": {
    "tags": []
   },
   "outputs": [],
   "source": [
    "#strip the last '_${ref_allele}', so we can keep the same variant id as in annotation \n",
    "t['index'] = t['index'].str.rsplit('_', n=1).str[0]\n",
    "t.rename({'index':'var_id'},axis=1,inplace=True)\n",
    "t"
   ]
  },
  {
   "cell_type": "code",
   "execution_count": null,
   "id": "b4825f96-b2b0-4d3b-baa4-ff44327bfeb5",
   "metadata": {
    "tags": []
   },
   "outputs": [],
   "source": [
    "t['hom_carrier'] = t.apply(lambda row: row[row == 0].index.tolist() , axis=1)\n",
    "t['het_carrier'] = t.apply(lambda row: row[row == 1].index.tolist() , axis=1)  \n",
    "\n",
    "# store hom and het seperately to later explode the dataframe correctly\n",
    "hom = t[['var_id','hom_carrier']]\n",
    "het = t[['var_id','het_carrier']]"
   ]
  },
  {
   "cell_type": "code",
   "execution_count": null,
   "id": "150c956f-58c4-4b17-bd1c-9cd5c4d52a89",
   "metadata": {
    "tags": []
   },
   "outputs": [],
   "source": [
    "# check hom as example what to expect\n",
    "hom"
   ]
  },
  {
   "cell_type": "code",
   "execution_count": null,
   "id": "3cb81990-0c4d-4ee4-a656-2e79e289ab3b",
   "metadata": {
    "tags": []
   },
   "outputs": [],
   "source": [
    "# split the carrier id from the list and each to a row\n",
    "hom = hom.explode('hom_carrier', ignore_index=True)\n",
    "\n",
    "hom"
   ]
  },
  {
   "cell_type": "code",
   "execution_count": null,
   "id": "29f3a14c-85c2-428b-9e1b-6eff6fe9b244",
   "metadata": {
    "tags": []
   },
   "outputs": [],
   "source": [
    "# keep just the variants with carriers\n",
    "hom= hom.loc[~hom['hom_carrier'].isnull()]\n",
    "\n",
    "hom"
   ]
  },
  {
   "cell_type": "code",
   "execution_count": null,
   "id": "4ef2d46d-c4ae-41cc-8b24-584dd18d28f9",
   "metadata": {
    "tags": []
   },
   "outputs": [],
   "source": [
    "#merge with annotation\n",
    "out_hom = pd.merge(hom,filtered_MDE_df, on='var_id',how='left')\n",
    "out_hom['zygosity'] = 'hom'\n",
    "\n",
    "#rename col\n",
    "out_hom.rename({'hom_carrier':'carrier_id'},axis=1,inplace=True)\n",
    "\n",
    "out_hom"
   ]
  },
  {
   "cell_type": "code",
   "execution_count": null,
   "id": "c77d6c4a-a260-4ae1-8a4f-81b756d3b934",
   "metadata": {
    "tags": []
   },
   "outputs": [],
   "source": [
    "#repeat the same for het\n",
    "het = het.explode('het_carrier', ignore_index=True)\n",
    "het= het.loc[~het['het_carrier'].isnull()]\n",
    "\n",
    "het"
   ]
  },
  {
   "cell_type": "code",
   "execution_count": null,
   "id": "5b365e94-1bfc-475e-aac8-c8128c214546",
   "metadata": {
    "tags": []
   },
   "outputs": [],
   "source": [
    "#merge with annotation\n",
    "out_het = pd.merge(het,filtered_MDE_df, on='var_id',how='left')\n",
    "out_het['zygosity'] = 'het'\n",
    "\n",
    "#rename col\n",
    "out_het.rename({'het_carrier':'carrier_id'},axis=1,inplace=True)\n",
    "\n",
    "out_het"
   ]
  },
  {
   "cell_type": "code",
   "execution_count": null,
   "id": "325e807e-a440-4121-b005-5f227bdb59c6",
   "metadata": {
    "tags": []
   },
   "outputs": [],
   "source": [
    "# check if there's any comphet by grouping gene and sample_id\n",
    "pd.concat(g for _, g in out_het.groupby([\"Gene.refGene\",\"carrier_id\"]) if len(g) > 1)"
   ]
  },
  {
   "cell_type": "code",
   "execution_count": null,
   "id": "cbcd67db-446d-4815-af64-72640f5b22df",
   "metadata": {
    "tags": []
   },
   "outputs": [],
   "source": [
    "# write out comphet\n",
    "comphet = pd.concat(g for _, g in out_het.groupby([\"Gene.refGene\",\"carrier_id\"]) if len(g) > 1)\n",
    "comphet['zygosity'] = 'comphet'"
   ]
  },
  {
   "cell_type": "code",
   "execution_count": null,
   "id": "acdd68df-8153-438e-a3f7-c20da07c01fa",
   "metadata": {
    "tags": []
   },
   "outputs": [],
   "source": [
    "# get everything and write out\n",
    "merged_df_MDE = pd.concat([out_het,out_hom,comphet],axis=0)\n",
    "\n",
    "# Save the dataset\n",
    "merged_df_MDE.to_csv(f\"{workdir}/results/merged_genotypes_dystonia_MDE.tsv\",sep='\\t',index=False)"
   ]
  },
  {
   "cell_type": "markdown",
   "id": "e5a5ffa0-f081-4d8c-8c65-4867f7325185",
   "metadata": {
    "tags": []
   },
   "source": [
    "### SAS"
   ]
  },
  {
   "cell_type": "code",
   "execution_count": null,
   "id": "0272a45a-fcb9-4e7b-946d-61d5b00e7d4c",
   "metadata": {
    "tags": []
   },
   "outputs": [],
   "source": [
    "# find unique chromosomes in bed files\n",
    "unique_chr=bed['chr'].unique().tolist()\n",
    "unique_chr"
   ]
  },
  {
   "cell_type": "code",
   "execution_count": null,
   "id": "9370d502-8d4f-4e94-a1bf-9447a5f1186a",
   "metadata": {
    "scrolled": true,
    "tags": []
   },
   "outputs": [],
   "source": [
    "#define all the variables\n",
    "\n",
    "INPUT_PLINK_DIR=\"/home/jupyter/workspace/gp2_tier2_eu_release8_13092024/wgs/deepvariant_joint_calling/plink\"\n",
    "PLINK2_PATH=\"/home/jupyter/tools/plink2\"\n",
    "dir_bed=\"/home/jupyter/workspace/ws_files/GP2_R8_dystonia/bed_files\"\n",
    "TEMP_DIR=\"/home/jupyter/workspace/ws_files/GP2_R8_dystonia/temp_files\"\n",
    "Ancestry=\"SAS\"\n",
    "\n",
    "# extract variants we need from each chromosome\n",
    "for chrom in unique_chr:    \n",
    "    # make the output directory if not exist\n",
    "    os.makedirs(f'{TEMP_DIR}/{Ancestry}', exist_ok=True)\n",
    "    \n",
    "    # Construct the command as a list \n",
    "    # keep only variants with maf <0.05 in the dataset to keep the files small\n",
    "    # since frequent variants are not we are interested in\n",
    "    cmd = [\n",
    "        PLINK2_PATH,\n",
    "        \"--pfile\", f\"{INPUT_PLINK_DIR}/{Ancestry}/{chrom}_{Ancestry}_release8\",\n",
    "        \"--mac\", \"1\",\n",
    "        \"--extract\", \"bed1\", f\"{dir_bed}/{chrom}.bed\",\n",
    "        \"--make-pgen\",\n",
    "        \"--out\", f\"{TEMP_DIR}/{Ancestry}/{chrom}\"\n",
    "    ]\n",
    "\n",
    "    subprocess.run(cmd, check=True)"
   ]
  },
  {
   "cell_type": "code",
   "execution_count": null,
   "id": "2d1b341b-4508-4d04-944d-13401cc53ec2",
   "metadata": {
    "tags": []
   },
   "outputs": [],
   "source": [
    "%%bash\n",
    "\n",
    "TEMP_DIR=\"/home/jupyter/workspace/ws_files/GP2_R8_dystonia/temp_files\"\n",
    "Ancestry=\"SAS\"\n",
    "\n",
    "# merge all the chrs and convert the final file to vcf\n",
    "# for merging across pfiles https://www.cog-genomics.org/plink/2.0/data\n",
    "\n",
    "# list the files, sort by chromosome and remove .pgen from the filename\n",
    "ls ${TEMP_DIR}/${Ancestry}/*.pgen | sort -V  | sed 's/\\.pgen//g' > ${TEMP_DIR}/${Ancestry}_pfiles.list\n",
    "\n",
    "~/tools/plink2 --pmerge-list ${TEMP_DIR}/${Ancestry}_pfiles.list \\\n",
    "                           --recode vcf \\\n",
    "                           --out ${TEMP_DIR}/${Ancestry}"
   ]
  },
  {
   "cell_type": "code",
   "execution_count": null,
   "id": "4d285ede-50fe-4dc1-b4c6-465de94f0eab",
   "metadata": {
    "tags": []
   },
   "outputs": [],
   "source": [
    "%%bash\n",
    "# bgzip the vcf\n",
    "TEMP_DIR=\"/home/jupyter/workspace/ws_files/GP2_R8_dystonia/temp_files\"\n",
    "Ancestry=\"SAS\"\n",
    "\n",
    "bgzip -c ${TEMP_DIR}/${Ancestry}.vcf > ${TEMP_DIR}/annovar_input_${Ancestry}.vcf.gz\n",
    "tabix -p vcf ${TEMP_DIR}/annovar_input_${Ancestry}.vcf.gz"
   ]
  },
  {
   "cell_type": "code",
   "execution_count": null,
   "id": "33554642-a0b2-4823-a564-d12369deb2c4",
   "metadata": {
    "tags": []
   },
   "outputs": [],
   "source": [
    "%%bash\n",
    "\n",
    "workdir=\"/home/jupyter/workspace/ws_files/GP2_R8_dystonia\"\n",
    "mkdir -p ${workdir}/results\n",
    "\n",
    "# Run ANNOVAR annotation\n",
    "perl ~/tools/annovar/table_annovar.pl \\\n",
    "     ${workdir}/temp_files/annovar_input_SAS.vcf.gz \\\n",
    "    /home/jupyter/tools/annovar/humandb/ \\\n",
    "    -buildver hg38 \\\n",
    "    -out ${workdir}/results/wgs_final_SAS.annovar \\\n",
    "    -remove \\\n",
    "    -protocol refGene,gnomad41_genome,clinvar_20240917,dbnsfp47a \\\n",
    "    -operation g,f,f,f \\\n",
    "    -nastring . \\\n",
    "    -polish \\\n",
    "    -vcfinput"
   ]
  },
  {
   "cell_type": "code",
   "execution_count": null,
   "id": "b636bfcf-d2de-4248-a2d2-e05243b0eb62",
   "metadata": {
    "tags": []
   },
   "outputs": [],
   "source": [
    "%%bash \n",
    "workdir=\"/home/jupyter/workspace/ws_files/GP2_R8_dystonia\"\n",
    "\n",
    "head ${workdir}/results/wgs_final_SAS.annovar.hg38_multianno.txt"
   ]
  },
  {
   "cell_type": "code",
   "execution_count": null,
   "id": "5479c25c-5c1c-4f0c-aa88-946bbd527c00",
   "metadata": {
    "tags": []
   },
   "outputs": [],
   "source": [
    "workdir=\"/home/jupyter/workspace/ws_files/GP2_R8_dystonia\"\n",
    "# Show columns of multianno.txt output file\n",
    "anno=pd.read_csv(f'{workdir}/results/wgs_final_SAS.annovar.hg38_multianno.txt',sep='\\t',dtype=str)\n",
    "\n",
    "#find variant id col:\n",
    "anno['Otherinfo6']"
   ]
  },
  {
   "cell_type": "code",
   "execution_count": null,
   "id": "be104ccd-3370-4982-a853-30ccdf8a6988",
   "metadata": {
    "scrolled": true,
    "tags": []
   },
   "outputs": [],
   "source": [
    "anno.columns.tolist()"
   ]
  },
  {
   "cell_type": "code",
   "execution_count": null,
   "id": "6ac9d421-50fd-4700-8a65-967fed269a79",
   "metadata": {
    "scrolled": true,
    "tags": []
   },
   "outputs": [],
   "source": [
    "# select the cols to keep\n",
    "basic_cols= anno.columns.tolist()[0:10]\n",
    "additional_cols_to_keep=['Otherinfo6',\n",
    "                         'gnomad41_genome_fafmax_faf95_max',\n",
    "                         'gnomad41_genome_AF_sas',\n",
    "                         'CLNDN',\n",
    "                         'CLNSIG',\n",
    "                         'CADD_phred']\n",
    "            \n",
    "all_cols_to_keep= basic_cols+ additional_cols_to_keep\n",
    "all_cols_to_keep"
   ]
  },
  {
   "cell_type": "code",
   "execution_count": null,
   "id": "1c7c9e61-8c3c-4c31-948e-0af42f1bad48",
   "metadata": {
    "tags": []
   },
   "outputs": [],
   "source": [
    "# subset the columns\n",
    "SAS_df=anno[all_cols_to_keep]\n",
    "\n",
    "#rename col\n",
    "SAS_df.rename({'Otherinfo6':'var_id'},axis=1,inplace=True)\n",
    "\n",
    "SAS_df"
   ]
  },
  {
   "cell_type": "code",
   "execution_count": null,
   "id": "c11fff85-edb7-481c-a432-6ecb3cfeda82",
   "metadata": {
    "tags": []
   },
   "outputs": [],
   "source": [
    "# Count occurrences of each value\n",
    "value_counts = SAS_df[\"ExonicFunc.refGene\"].value_counts()\n",
    "\n",
    "# Display counts\n",
    "print(value_counts)"
   ]
  },
  {
   "cell_type": "markdown",
   "id": "4385c49c-eae3-4abd-9cd4-e6d5239f2747",
   "metadata": {},
   "source": [
    "#### Filter variants"
   ]
  },
  {
   "cell_type": "code",
   "execution_count": null,
   "id": "0e4ff20e-89c0-40a6-b08d-ccfc065cd549",
   "metadata": {
    "tags": []
   },
   "outputs": [],
   "source": [
    "# Define the values you want to keep\n",
    "keep_values = [\"exonic\", \"splicing\", \"exonic;splicing\"]  # Add more if needed\n",
    "\n",
    "# Subset the dataframe\n",
    "filtered_SAS_df = SAS_df[SAS_df[\"Func.refGene\"].isin(keep_values)]\n",
    "\n",
    "# Display the filtered dataframe\n",
    "print (filtered_SAS_df.head())"
   ]
  },
  {
   "cell_type": "code",
   "execution_count": null,
   "id": "b13c44d4-8b2b-409a-97e5-d7fc263bf365",
   "metadata": {
    "tags": []
   },
   "outputs": [],
   "source": [
    "# Filter out synonymous SNVs\n",
    "filtered_SAS_df = filtered_SAS_df[filtered_SAS_df[\"ExonicFunc.refGene\"] != \"synonymous SNV\"]\n",
    "\n",
    "# Display the filtered dataframe\n",
    "print (filtered_SAS_df.head())"
   ]
  },
  {
   "cell_type": "code",
   "execution_count": null,
   "id": "290f9812-3fb4-40eb-90a7-365c8661f092",
   "metadata": {
    "tags": []
   },
   "outputs": [],
   "source": [
    "# Save the filtered output\n",
    "filtered_SAS_df.to_csv(f\"{workdir}/results/filtered_multianno_SAS.tsv\", sep=\"\\t\", index=False)\n",
    "\n",
    "# write out var_id to extract from plink files\n",
    "filtered_SAS_df['var_id'].to_csv(f\"{workdir}/results/SAS_var_to_extract.txt\",index=False,header=False)"
   ]
  },
  {
   "cell_type": "markdown",
   "id": "e32a501f-c3ea-464f-8204-22b8132b4a60",
   "metadata": {
    "tags": []
   },
   "source": [
    "#### Extract carrier IDs and genotypes"
   ]
  },
  {
   "cell_type": "markdown",
   "id": "100af10c-7599-4043-bedf-504718e82039",
   "metadata": {},
   "source": [
    "I would just extract the variants you are interested from the annovar annotation, and you can start from the plink files generated from the merge"
   ]
  },
  {
   "cell_type": "code",
   "execution_count": null,
   "id": "b3dca962-2325-4034-ba82-3aa75a66a411",
   "metadata": {
    "tags": []
   },
   "outputs": [],
   "source": [
    "%%bash\n",
    "workdir=\"/home/jupyter/workspace/ws_files/GP2_R8_dystonia\"\n",
    "TEMP_DIR=\"/home/jupyter/workspace/ws_files/GP2_R8_dystonia/temp_files\"\n",
    "Ancestry=\"SAS\"\n",
    "\n",
    "~/tools/plink2 --pfile ${TEMP_DIR}/${Ancestry} \\\n",
    "               --extract ${workdir}/results/${Ancestry}_var_to_extract.txt \\\n",
    "               --recode A \\\n",
    "               --out ${TEMP_DIR}/${Ancestry}_geno              "
   ]
  },
  {
   "cell_type": "code",
   "execution_count": null,
   "id": "53ebc233-5005-4c03-bc45-69b26decaa6e",
   "metadata": {
    "tags": []
   },
   "outputs": [],
   "source": [
    "TEMP_DIR=\"/home/jupyter/workspace/ws_files/GP2_R8_monogenic/temp_files\"\n",
    "Ancestry=\"SAS\"\n",
    "\n",
    "sas_var = pd.read_csv(f'{TEMP_DIR}/{Ancestry}_geno.raw', sep='\\s+')\n",
    "sas_var"
   ]
  },
  {
   "cell_type": "markdown",
   "id": "f14a2524-778a-41d2-83fa-e34100677547",
   "metadata": {},
   "source": [
    "From here you can run similar code for NBA to collect variant carriers "
   ]
  },
  {
   "cell_type": "code",
   "execution_count": null,
   "id": "1fae6ee9-8206-45e7-98ba-761ce5940d1b",
   "metadata": {
    "tags": []
   },
   "outputs": [],
   "source": [
    "# transpose the dataframe to be row as variants and columns as samples\n",
    "var_col=sas_var.columns[6:len(sas_var)]\n",
    "d = sas_var.drop(columns=['FID','PAT','MAT','SEX','PHENOTYPE'])\n",
    "sample=sas_var[['IID','PHENOTYPE']]\n",
    "\n",
    "#Filtering rows where any value in var_col is ≤1 (either het or hom)\n",
    "t=d[(d[var_col]<=1).any(axis=1)].T\n",
    "t.columns = t.iloc[0]\n",
    "t=t.iloc[1:]\n",
    "t.reset_index(inplace=True)\n",
    "\n",
    "t"
   ]
  },
  {
   "cell_type": "code",
   "execution_count": null,
   "id": "0066b240-a7c7-42f8-b580-c691d97003e7",
   "metadata": {
    "tags": []
   },
   "outputs": [],
   "source": [
    "#strip the last '_${ref_allele}', so we can keep the same variant id as in annotation \n",
    "t['index'] = t['index'].str.rsplit('_', n=1).str[0]\n",
    "t.rename({'index':'var_id'},axis=1,inplace=True)\n",
    "t"
   ]
  },
  {
   "cell_type": "code",
   "execution_count": null,
   "id": "5cbb6caa-5678-4796-9536-72fcb13cac4e",
   "metadata": {
    "tags": []
   },
   "outputs": [],
   "source": [
    "t['hom_carrier'] = t.apply(lambda row: row[row == 0].index.tolist() , axis=1)\n",
    "t['het_carrier'] = t.apply(lambda row: row[row == 1].index.tolist() , axis=1)  \n",
    "\n",
    "# store hom and het seperately to later explode the dataframe correctly\n",
    "hom = t[['var_id','hom_carrier']]\n",
    "het = t[['var_id','het_carrier']]"
   ]
  },
  {
   "cell_type": "code",
   "execution_count": null,
   "id": "e1c04e4f-1905-4272-b511-043d1b2e0533",
   "metadata": {
    "tags": []
   },
   "outputs": [],
   "source": [
    "# check hom as example what to expect\n",
    "hom"
   ]
  },
  {
   "cell_type": "code",
   "execution_count": null,
   "id": "855df775-a333-4b92-845e-b3b30ef80ce7",
   "metadata": {
    "tags": []
   },
   "outputs": [],
   "source": [
    "# split the carrier id from the list and each to a row\n",
    "hom = hom.explode('hom_carrier', ignore_index=True)\n",
    "\n",
    "hom"
   ]
  },
  {
   "cell_type": "code",
   "execution_count": null,
   "id": "31580b37-8806-471b-a503-9e04b14a22a4",
   "metadata": {
    "tags": []
   },
   "outputs": [],
   "source": [
    "# keep just the variants with carriers\n",
    "hom= hom.loc[~hom['hom_carrier'].isnull()]\n",
    "\n",
    "hom"
   ]
  },
  {
   "cell_type": "code",
   "execution_count": null,
   "id": "c739279c-3d8d-4400-a89e-824743998142",
   "metadata": {
    "tags": []
   },
   "outputs": [],
   "source": [
    "#merge with annotation\n",
    "out_hom = pd.merge(hom,filtered_SAS_df, on='var_id',how='left')\n",
    "out_hom['zygosity'] = 'hom'\n",
    "\n",
    "#rename col\n",
    "out_hom.rename({'hom_carrier':'carrier_id'},axis=1,inplace=True)\n",
    "\n",
    "out_hom"
   ]
  },
  {
   "cell_type": "code",
   "execution_count": null,
   "id": "e0b10b1d-b40e-42df-b0a8-0c2da0be72b7",
   "metadata": {
    "tags": []
   },
   "outputs": [],
   "source": [
    "#repeat the same for het\n",
    "het = het.explode('het_carrier', ignore_index=True)\n",
    "het= het.loc[~het['het_carrier'].isnull()]\n",
    "\n",
    "het"
   ]
  },
  {
   "cell_type": "code",
   "execution_count": null,
   "id": "7bb375b5-8c51-4d7b-818b-8658e0902d49",
   "metadata": {
    "tags": []
   },
   "outputs": [],
   "source": [
    "#merge with annotation\n",
    "out_het = pd.merge(het,filtered_SAS_df, on='var_id',how='left')\n",
    "out_het['zygosity'] = 'het'\n",
    "\n",
    "#rename col\n",
    "out_het.rename({'het_carrier':'carrier_id'},axis=1,inplace=True)\n",
    "\n",
    "out_het"
   ]
  },
  {
   "cell_type": "code",
   "execution_count": null,
   "id": "2747fcba-7f62-45e4-888e-ffa6f7db2fc8",
   "metadata": {
    "tags": []
   },
   "outputs": [],
   "source": [
    "# check if there's any comphet by grouping gene and sample_id\n",
    "pd.concat(g for _, g in out_het.groupby([\"Gene.refGene\",\"carrier_id\"]) if len(g) > 1)"
   ]
  },
  {
   "cell_type": "code",
   "execution_count": null,
   "id": "c3a923ab-0771-45de-bfa5-1fcab70a1c61",
   "metadata": {
    "tags": []
   },
   "outputs": [],
   "source": [
    "# write out comphet\n",
    "comphet = pd.concat(g for _, g in out_het.groupby([\"Gene.refGene\",\"carrier_id\"]) if len(g) > 1)\n",
    "comphet['zygosity'] = 'comphet'"
   ]
  },
  {
   "cell_type": "code",
   "execution_count": null,
   "id": "2a17b486-d468-451b-83a7-0aa8cca528e6",
   "metadata": {
    "tags": []
   },
   "outputs": [],
   "source": [
    "# get everything and write out\n",
    "merged_df_SAS = pd.concat([out_het,out_hom],axis=0)\n",
    "\n",
    "# Save the dataset\n",
    "merged_df_SAS.to_csv(f\"{workdir}/results/merged_genotypes_dystonia_SAS.tsv\",sep='\\t',index=False)"
   ]
  }
 ],
 "metadata": {
  "environment": {
   "kernel": "python3",
   "name": "r-cpu.m127",
   "type": "gcloud",
   "uri": "us-docker.pkg.dev/deeplearning-platform-release/gcr.io/r-cpu:m127"
  },
  "kernelspec": {
   "display_name": "Python 3 (Local)",
   "language": "python",
   "name": "python3"
  },
  "language_info": {
   "codemirror_mode": {
    "name": "ipython",
    "version": 3
   },
   "file_extension": ".py",
   "mimetype": "text/x-python",
   "name": "python",
   "nbconvert_exporter": "python",
   "pygments_lexer": "ipython3",
   "version": "3.10.16"
  }
 },
 "nbformat": 4,
 "nbformat_minor": 5
}
